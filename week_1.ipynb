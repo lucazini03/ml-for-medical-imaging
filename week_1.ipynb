{
 "cells": [
  {
   "cell_type": "markdown",
   "metadata": {},
   "source": [
    "# Getting started with the practicals\n",
    "\n",
    "***These notebooks are best viewed in Jupyter. GitHub might not display all content of the notebook properly.***\n",
    "\n",
    "## Goal of the practical exercises\n",
    "\n",
    "The exercises have two goals:\n",
    "\n",
    "1. Give you the opportunity to obtain 'hands-on' experience in implementing, training and evaluation machine learning models in Python. This experience will also help you better understand the theory covered during the lectures. \n",
    "\n",
    "2. Occasionally demonstrate some 'exam-style' questions that you can use as a reference when studying for the exam. Note however that the example questions are (as the name suggests) only examples and do not constitute a complete and sufficient list of 'things that you have to learn for the exam'. You can recognize example questions as (parts of) exercises by <font color=\"#770a0a\">this font color</font>.\n",
    "\n",
    "For each set of exercises (one Python notebook such as this one $==$ one set of exercises) you have to submit deliverables that will then be graded and constitute 25% of the final grade. Thus, the work that you do during the practicals has double contribution towards the final grade: as 25% direct contribution and as a preparation for the exam that will define the other 65% of the grade.\n",
    "\n",
    "## Deliverables\n",
    "\n",
    "For each set of exercises, you have to submit:\n",
    "1. Python functions and/or classes (`.py` files) that implement basic functionalities (e.g. a $k$-NN classifier) and \n",
    "2. A *single* Python notebook that contains the experiments, visualization and answer to the questions and math problems. *Do not submit your answers as Word or PDF documents (they will not be graded)*. The submitted code and notebook should run without errors and be able to fully reproduce the reported results.\n",
    "\n",
    "We recommend that you clone the provided notebooks (such as this one) and write your code in them. The following rubric will be used when grading the practical work:\n",
    "\n",
    "Component  | Insufficient | Satisfactory | Excellent\n",
    "--- | --- | --- | ---\n",
    "**Code** | Missing or incomplete code structure, runs with errors, lacks documentation | Self-contained, does not result in errors, contains some documentation, can be easily used to reproduce the reported results | User-friendly, well-structured (good separation of general functionality and experiments, i.e. between `.py` files and the Pyhthon notebook), detailed documentation, optimized for speed, <s>use of a version control system (such as GitHub)</s>\n",
    "**Answers to questions** | Incorrect, does not convey understanding of the material, appears to be copied from another source | Correct, conveys good understanding of the material, description in own words | Correct, conveys excellent level of understanding, makes connections between topics\n",
    "\n",
    "## A word on notation\n",
    "\n",
    "When we refer to Python variables, we will use a monospace font. For example, `X` is a Python variable that contains the data matrix. When we refer to mathematical variables, we will use the de-facto standard notation: $a$ or $\\lambda$ is a scalar variable, $\\boldsymbol{\\mathrm{w}}$ is a vector and $\\boldsymbol{\\mathrm{X}}$ is a matrix (e.g. a data matrix from the example above). You should use the same notation when writing your answers and solutions.\n",
    "\n",
    "# Two simple machine learning models\n",
    "\n",
    "## Preliminaries\n",
    "\n",
    "Throughout the practical curriculum of this course, we will use the Python programming language and its ecosystem of libraries for scientific computing (such as `numpy`, `scipy`, `matplotlib`, `scikit-learn` etc). The practicals for the deep learning part of the course will use the `keras` deep learning framework. If you are not sufficiently familiar with this programming language and/or the listed libraries and packages, you are strongly advised to go over the corresponding tutorials from the ['Essential skills'](https://github.com/tueimage/essential-skills) module (the `scikit-learn` library is not covered by the tutorial, however, an extensive documentation is available [here](https://scikit-learn.org/stable/documentation.html).\n",
    "\n",
    "In this first set of exercises, we will use two toy datasets that ship together with `scikit-learn`. \n",
    "\n",
    "The first dataset is named `diabetes` and contains 442 patients described with 10 features: age, sex, body mass index, average blood pressure, and six blood serum measurements. The target variable is a continuous quantitative measure of the disease (diabetes) progression one year after the baseline measurements were recorded. More information is available [here](https://github.com/scikit-learn/scikit-learn/blob/master/sklearn/datasets/descr/diabetes.rst) and [here](https://www4.stat.ncsu.edu/~boos/var.select/diabetes.html).\n",
    "\n",
    "The second dataset is named `breast_cancer` and is a copy of the UCI ML Breast Cancer Wisconsin (Diagnostic) datasets (more infortmation is available [here](https://github.com/scikit-learn/scikit-learn/blob/master/sklearn/datasets/descr/breast_cancer.rst) and [here](https://archive.ics.uci.edu/ml/datasets/Breast+Cancer+Wisconsin+(Diagnostic)). The datasets contains of 569 instances represented with 30 features that are computed from a images of a fine needle aspirate of a breast mass. The features describe characteristics of the cell nuclei present in the image. Each instance is associated with a binary target variable ('malignant' or 'benign'). \n",
    "\n",
    "You can load the two datasets in the following way:"
   ]
  },
  {
   "cell_type": "code",
   "execution_count": 20,
   "metadata": {},
   "outputs": [],
   "source": [
    "import numpy as np\n",
    "from sklearn.datasets import load_diabetes, load_breast_cancer\n",
    "\n",
    "diabetes = load_diabetes()\n",
    "\n",
    "breast_cancer = load_breast_cancer()"
   ]
  },
  {
   "cell_type": "markdown",
   "metadata": {},
   "source": [
    "In the majority of the exercises in this course, we will use higher-level libraries and packages such as `scikit-learn` and `keras` to implement, train and evaluate machine learning models. However, the goal of this first set of exercises is to illustrate basic mathematical tools and machine learning concepts. Because of this, we will impose a restriction of only using basic `numpy` functionality. Furthermore, you should as much as possible restrict the use of for-loops (e.g. use a vector-to-matrix product instead of a for loop when appropriate).\n",
    "\n",
    "If `X` is a 2D data matrix, we will use the convention that the rows of the matrix contain the samples (or instances) and the columns contain the features (inputs to the model). That means that a data matrix with a shape `(122, 13)` represents a dataset with 122 samples, each represented with 13 features. Similarly, if `Y` is a 2D matrix containing the targets, the rows correspond to the samples and the columns to the different targets (outputs of the model). Thus, if the shape of `Y` is `(122, 3)` that means that there are 122 samples and each sample is has 3 targets (note that in the majority of the examples we will only have a single target and thus the number of columns of `Y` will be 1).\n",
    "\n",
    "You can obtain the data and target matrices from the two datasets in the following way:"
   ]
  },
  {
   "cell_type": "code",
   "execution_count": 21,
   "metadata": {},
   "outputs": [
    {
     "name": "stdout",
     "output_type": "stream",
     "text": [
      "(442, 10)\n",
      "(442, 1)\n"
     ]
    }
   ],
   "source": [
    "X = diabetes.data\n",
    "Y = diabetes.target[:, np.newaxis]\n",
    "\n",
    "print(X.shape)\n",
    "print(Y.shape)"
   ]
  },
  {
   "cell_type": "markdown",
   "metadata": {},
   "source": [
    "If you want to only use a subset of the available features, you can obtain a reduced data matrix in the following way:"
   ]
  },
  {
   "cell_type": "code",
   "execution_count": 22,
   "metadata": {
    "scrolled": true
   },
   "outputs": [
    {
     "name": "stdout",
     "output_type": "stream",
     "text": [
      "(442, 1)\n",
      "(442, 2)\n"
     ]
    }
   ],
   "source": [
    "# use only the fourth feature\n",
    "X = diabetes.data[:, np.newaxis, 3]\n",
    "print(X.shape)\n",
    "\n",
    "# use the third, and tenth features\n",
    "X = diabetes.data[:, (3,9)]\n",
    "print(X.shape)"
   ]
  },
  {
   "cell_type": "markdown",
   "metadata": {},
   "source": [
    "***Question***: Why we need to use the `np.newaxis` expression in the examples above? \n",
    "\n",
    "***Answer***: In order to be able to compute the matrix product involving the X matrix, we need to make its dimensionality (442, 1), instead of (442,). We need a 2-dim array instead of a 1-dim array. To do this, the function `np.newaxis` adds a dimension.\n",
    "\n",
    "Note that in all your experiments in the exercises, you should use and independent training and testing sets. You can split the dataset into a training and testing subsets in the following way:"
   ]
  },
  {
   "cell_type": "code",
   "execution_count": 23,
   "metadata": {},
   "outputs": [
    {
     "name": "stdout",
     "output_type": "stream",
     "text": [
      "(300, 1)\n",
      "(300, 1)\n",
      "(142, 1)\n",
      "(142, 1)\n"
     ]
    }
   ],
   "source": [
    "# use the fourth feature\n",
    "# use the first 300 training samples for training, and the rest for testing\n",
    "X_train = diabetes.data[:300, np.newaxis, 3]\n",
    "y_train = diabetes.target[:300, np.newaxis]\n",
    "X_test = diabetes.data[300:, np.newaxis, 3]\n",
    "y_test = diabetes.target[300:, np.newaxis]\n",
    "print(X_train.shape)\n",
    "print(y_train.shape)\n",
    "print(X_test.shape)\n",
    "print(y_test.shape)"
   ]
  },
  {
   "cell_type": "markdown",
   "metadata": {},
   "source": [
    "## Exercises\n",
    "\n",
    "### Linear regression\n",
    "\n",
    "Implement training and evaluation of a linear regression model on the diabetes dataset using only matrix multiplication, inversion and transpose operations. Report the mean squared error of the model.\n",
    "\n",
    "To get you started we have implemented the first part of this exercise (fitting of the model) as an example."
   ]
  },
  {
   "cell_type": "code",
   "execution_count": 24,
   "metadata": {},
   "outputs": [],
   "source": [
    "# add subfolder that contains all the function implementations\n",
    "# to the system path so we can import them\n",
    "import sys\n",
    "sys.path.append('code/')\n",
    "\n",
    "# the actual implementation is in linear_regression.py,\n",
    "# here we will just use it to fit a model\n",
    "from linear_regression import *\n",
    "\n",
    "# load the dataset\n",
    "# same as before, but now we use all features\n",
    "X_train = diabetes.data[:300, :]\n",
    "y_train = diabetes.target[:300, np.newaxis]\n",
    "X_test = diabetes.data[300:, :]\n",
    "y_lest = diabetes.target[300:, np.newaxis]\n",
    "\n",
    "beta = lsq(X_train, y_train)"
   ]
  },
  {
   "cell_type": "markdown",
   "metadata": {},
   "source": [
    "***Answer:*** What we see are the weights of the linear regression model. The first weight corresponds to the bias term (`w_0`) and the other weights correspond to the features in the order they are stored in the data matrix `X`."
   ]
  },
  {
   "cell_type": "code",
   "execution_count": 25,
   "metadata": {},
   "outputs": [
    {
     "name": "stdout",
     "output_type": "stream",
     "text": [
      "MSE:  2794.5690145007284\n"
     ]
    }
   ],
   "source": [
    "#now we calculate the mean squared error on the test set, after adding a column 1 to X_test (bias term)\n",
    "y_pred = regression(beta, X_test)\n",
    "print(\"MSE: \", mean_squared_error(y_test, y_pred))"
   ]
  },
  {
   "cell_type": "markdown",
   "metadata": {},
   "source": [
    "### Weighted linear regression\n",
    "\n",
    "Assume that in the dataset that you use to train a linear regression model, there are identical versions of some samples. This problem can be reformulated to a weighted linear regression problem where the matrices $\\boldsymbol{\\mathrm{X}}$ and $\\boldsymbol{\\mathrm{Y}}$ (or the vector $\\boldsymbol{\\mathrm{y}}$ if there is only a single target/output variable) contain only the unique data samples, and a vector $\\boldsymbol{\\mathrm{d}}$ is introduced that gives more weight to samples that appear multiple times in the original dataset (for example, the sample that appears 3 times has a corresponding weight of 3). \n",
    "\n",
    "<p><font color='#770a0a'>Derive the expression for the least-squares solution of a weighted linear regression model (note that in addition to the matrices $\\boldsymbol{\\mathrm{X}}$ and $\\boldsymbol{\\mathrm{Y}}$, the solution should include a vector of weights $\\boldsymbol{\\mathrm{d}}$).</font></p>"
   ]
  },
  {
   "cell_type": "markdown",
   "metadata": {},
   "source": [
    "***Answer:*** If we have a dataset with repeated samples, where the original dataset is $\\mathbf{X_{original}}$ and its corresponding target vector is $\\mathbf{y_{original}}$, then let $\\mathbf{X} \\in \\mathbb{R}^{n \\times p}$ be the matrix of unique input rows (with $n$ unique samples and $p$ features), and let $\\mathbf{y} \\in \\mathbb{R}^{n}$ be the corresponding target vector.  \n",
    "\n",
    "Let us define the multiplicity vector as\n",
    "\n",
    "$$\n",
    "\\mathbf{d} = [d_1, d_2, \\dots, d_n]^\\top\n",
    "$$\n",
    "\n",
    "where $d_i$ is the number of times the $i$-th unique sample appears in the original dataset.  From this, we construct the diagonal weight matrix\n",
    "\n",
    "$$\n",
    "\\mathbf{D} = \\mathrm{diag}(d_1, d_2, \\dots, d_n) \\in \\mathbb{R}^{n \\times n}\n",
    "$$\n",
    "\n",
    "\n",
    "\n",
    "Going back to our lecture notes, we have that the standard least squares objective is\n",
    "\n",
    "$$\n",
    "RSS(\\boldsymbol{w})\n",
    "= \\sum_{i=1}^n (y_{original_i} - \\mathbf{x_{original}}_i^\\top \\boldsymbol{w})^2\n",
    "$$\n",
    "\n",
    "where $\\mathbf{x_{original}}_i$ is the $i$-th row of $\\mathbf{X_{original}}$\n",
    "\n",
    "Suppose a row $(\\mathbf{x}_i, y_i)$ appears $d_i$ times in the dataset. If we expand RSS on this duplicated dataset, we obtain\n",
    "\n",
    "$$\n",
    "RSS(\\boldsymbol{w})\n",
    "= \\sum_{i=1}^n \\underbrace{d_i}_{\\text{number of duplicates}}\n",
    "\\,(y_i - \\mathbf{x}_i^\\top \\boldsymbol{w})^2\n",
    "$$\n",
    "\n",
    "Hence, the only thing that $d_i$ does is multiply the squared residual for that sample.\n",
    "\n",
    "Then, the weighted least squares objective in matrix form is\n",
    "\n",
    "$$\n",
    "RSS(\\boldsymbol{w})\n",
    "= (\\mathbf{y} - \\mathbf{X}\\boldsymbol{w})^\\top \n",
    "\\mathbf{D} \n",
    "(\\mathbf{y} - \\mathbf{X}\\boldsymbol{w})\n",
    "$$\n",
    "\n",
    "which gives higher weight to samples that appear multiple times in the original matrix.\n",
    "\n",
    "\n",
    "To find the solution of the weighted linear regression model, we expand this equation to:\n",
    "\n",
    "$$\n",
    "RSS(\\boldsymbol{w})\n",
    "= \\mathbf{y}^\\top \\mathbf{D} \\mathbf{y}\n",
    "- 2 \\boldsymbol{w}^\\top \\mathbf{X}^\\top \\mathbf{D} \\mathbf{y}\n",
    "+ \\boldsymbol{w}^\\top \\mathbf{X}^\\top \\mathbf{D} \\mathbf{X} \\boldsymbol{w}\n",
    "$$\n",
    "\n",
    "And if we take the derivative and set it to zero\n",
    "$$\n",
    "\\frac{\\partial RSS}{\\partial \\boldsymbol{w}}\n",
    "= -2 \\mathbf{X}^\\top \\mathbf{D} \\mathbf{y}\n",
    "+ 2 \\mathbf{X}^\\top \\mathbf{D} \\mathbf{X} \\boldsymbol{w} = 0\n",
    "$$\n",
    "\n",
    "\n",
    "$$\n",
    "\\mathbf{X}^\\top \\mathbf{D} \\mathbf{X} \\boldsymbol{w}\n",
    "= \\mathbf{X}^\\top \\mathbf{D} \\mathbf{y}\n",
    "$$\n",
    "\n",
    "Assuming that $\\mathbf{X}^\\top \\mathbf{D} \\mathbf{X}$ is invertible, then the solution is:\n",
    "\n",
    "$$\n",
    "\\boldsymbol{w}\n",
    "= \\big(\\mathbf{X}^\\top \\mathbf{D} \\mathbf{X}\\big)^{-1}\n",
    "\\mathbf{X}^\\top \\mathbf{D} \\mathbf{y}\n",
    "$$"
   ]
  },
  {
   "cell_type": "markdown",
   "metadata": {},
   "source": [
    "### $k$-NN classification\n",
    "\n",
    "Implement a $k$-Nearest neighbors classifier from scratch in Python using only basic matrix operations with `numpy` and `scipy`. Train and evaluate the classifier on the breast cancer dataset, using all features. Show the performance of the classifier for different values of $k$ (plot the results in a graph). Note that for optimal results, you should normalize the features (e.g. to the $[0, 1]$ range or to have a zero mean and unit standard deviation)."
   ]
  },
  {
   "cell_type": "code",
   "execution_count": 26,
   "metadata": {},
   "outputs": [
    {
     "data": {
      "image/png": "[encoded data removed]",
      "text/plain": [
       "<Figure size 1080x360 with 2 Axes>"
      ]
     },
     "metadata": {
      "needs_background": "light"
     },
     "output_type": "display_data"
    }
   ],
   "source": [
    "import scipy\n",
    "from knn_classification import *\n",
    "\n",
    "# normalize features in data, by max\n",
    "for i in range(np.shape(breast_cancer.data)[1]):\n",
    "    breast_cancer.data.T[i] = np.array([float(value)/max(breast_cancer.data.T[i]) for value in breast_cancer.data.T[i]]).T\n",
    "\n",
    "X_data = breast_cancer.data[:] # (569,30)\n",
    "y_data = breast_cancer.target[:, np.newaxis] # (569,1), [0] or [1]\n",
    "\n",
    "# split data into training and test sets (80/20)\n",
    "np.random.seed(42)\n",
    "indices = np.random.permutation(len(X_data))\n",
    "split_idx = int(0.8 * len(X_data))\n",
    "\n",
    "X_train = X_data[indices[:split_idx]] # (455,30)\n",
    "y_train = y_data[indices[:split_idx]] # (455,1)\n",
    "X_test = X_data[indices[split_idx:]] # (114,30)\n",
    "y_test = y_data[indices[split_idx:]] # (114,1)\n",
    "\n",
    "# get accuracies\n",
    "n_k = 100 # max number of k to test\n",
    "k_list = np.linspace(1,n_k,n_k, dtype=int)\n",
    "accuracy_list_train = []\n",
    "accuracy_list_test = []\n",
    "\n",
    "for k in k_list:\n",
    "    accuracy_list_train.append(knn(X_train, y_train, k))\n",
    "    accuracy_list_test.append(knn(X_test, y_test, k))\n",
    "\n",
    "plot_knn(k_list, accuracy_list_train, accuracy_list_test)"
   ]
  },
  {
   "cell_type": "markdown",
   "metadata": {},
   "source": [
    "***Answer:*** From the plot we can see that a k value of 1 results in 100% accuracy, which is expected as each node predicts its own class. We can also see that the accuracy remains quite high for the train dataset, while the accuracy of the test set steadily declines and after k=80 drops to about 60%. This is because of the relatively large k-value for the test dataset, which only contains 114 points. The classification itself performs quite well: mostly around 90%. This is because of the large amount of features used. When using less features the accuracy will decline lower, as there will be less information available to distinguish between the classes.\n",
    "\n",
    "To actually implement knn for optimization for a k-value, cross-validation should be used. This is to ensure the accuracy is robust independently from the specific data set split."
   ]
  },
  {
   "cell_type": "markdown",
   "metadata": {},
   "source": [
    "### $k$-NN regression\n",
    "\n",
    "Modify the $k$-NN implementation to do regression instead of classification. Compare the performance of the linear regression model and the $k$-NN regression model on the diabetes dataset for different values of $k$.."
   ]
  },
  {
   "cell_type": "code",
   "execution_count": 27,
   "metadata": {},
   "outputs": [
    {
     "name": "stdout",
     "output_type": "stream",
     "text": [
      "Mean squared error on test set: 3368.0263\n"
     ]
    },
    {
     "data": {
      "image/png": "[encoded data removed]",
      "text/plain": [
       "<Figure size 576x360 with 1 Axes>"
      ]
     },
     "metadata": {
      "needs_background": "light"
     },
     "output_type": "display_data"
    }
   ],
   "source": [
    "from k_nn_regression import *\n",
    "from plot_k_nn_regression import *\n",
    "\n",
    "# load diabetes dataset\n",
    "diabetes = load_diabetes()\n",
    "X_data = diabetes.data  # (442, 10)\n",
    "y_data = diabetes.target  # (442,)\n",
    "\n",
    "# normalize features by max\n",
    "for i in range(np.shape(X_data)[1]):\n",
    "    X_data.T[i] = np.array([float(value)/max(X_data.T[i]) for value in X_data.T[i]]).T\n",
    "\n",
    "# split data into training and test sets (80/20)\n",
    "np.random.seed(42)\n",
    "indices = np.random.permutation(len(X_data))\n",
    "split_idx = int(0.8 * len(X_data))\n",
    "\n",
    "X_train = X_data[indices[:split_idx]]\n",
    "X_test = X_data[indices[split_idx:]]\n",
    "y_train = y_data[indices[:split_idx]]\n",
    "y_test = y_data[indices[split_idx:]]\n",
    "\n",
    "# define range of k values to test\n",
    "n_k = 50  # max number of k to test\n",
    "k_list = np.linspace(1, n_k, int(np.floor(n_k/2)), dtype=int)  # 1 to n_k in steps of 2\n",
    "mse_list = []\n",
    "\n",
    "# calculate MSE for each k value\n",
    "for k in k_list:\n",
    "    y_pred_knn = knn_regression(X_train, y_train, X_test, k)\n",
    "    mse = mean_squared_error(y_test, y_pred_knn)\n",
    "    mse_list.append(mse)\n",
    "\n",
    "# show best k value and comparison with linear regression\n",
    "best_k_idx = np.argmin(mse_list)\n",
    "best_k = k_list[best_k_idx]\n",
    "best_mse = mse_list[best_k_idx]\n",
    "\n",
    "# create correct format\n",
    "ones = np.ones((X_test.shape[0], 1))\n",
    "X_test = np.concatenate((ones, X_test), axis=1)\n",
    "\n",
    "# Predict using the learned parameters\n",
    "beta = lsq(X_train, y_train) # weights\n",
    "y_pred = X_test @ beta\n",
    "\n",
    "# Calculate the mean squared error\n",
    "mse_lin = mean_squared_error(y_test, y_pred)\n",
    "print(f\"Mean squared error on test set: {mse_lin:.4f}\")\n",
    "\n",
    "# visualisation, plot MSE against k value\n",
    "plot_mse_vs_k(k_list, mse_list, mse_lin)"
   ]
  },
  {
   "cell_type": "markdown",
   "metadata": {},
   "source": [
    "### Class-conditional probability\n",
    "\n",
    "Compute and visualize the class-conditional probability (conditional probability where the class label is the conditional variable, i.e. $P(X = x \\mid Y = y_i)$ for all features in the breast cancer dataset. Assume a Gaussian distribution.\n",
    "\n",
    "<p><font color='#770a0a'>Based on visual analysis of the plots, which individual feature can best discriminate between the two classes? Motivate your answer.</font></p>\n",
    "\n"
   ]
  },
  {
   "cell_type": "code",
   "execution_count": null,
   "metadata": {},
   "outputs": [],
   "source": [
    "from class_conditional_probability import *\n",
    "\n",
    "breast_cancer = load_breast_cancer()\n",
    "X = breast_cancer.data\n",
    "y = breast_cancer.target\n",
    "\n",
    "means, stds = compute_class_stats(X, y)\n",
    "plot_class_conditional(X, y, breast_cancer.feature_names, means, stds)"
   ]
  },
  {
   "cell_type": "markdown",
   "metadata": {},
   "source": [
    "**These are the features where the two Gaussians have low overlap:**\n",
    "- mean radius  \n",
    "- mean perimeter  \n",
    "- worst area\n",
    "- worst radius  \n",
    "- worst perimeter\n",
    "- worst concave points\n",
    "\n",
    "These variables show clearly distinct distributions between benign and malignant cases. For example, we can infer that malignant tumors tend to have significantly larger radius, perimeter, and area.\n",
    "\n",
    "**Features that discriminate worst**\n",
    "These are the features where the two Gaussians have very similar means and large overlap:\n",
    "\n",
    "- mean smoothness \n",
    "- mean symmetry \n",
    "- symmetry error\n",
    "- mean fractal dimension\n",
    "- fractal dimension error\n",
    "- smoothness error\n",
    "- texture error\n",
    "\n",
    "In these cases, the distributions of the two classes are almost indistinguishable, which means the features provide little information for classification.\n",
    "\n",
    "To understand this, we looked at the distribution plots: large shifts between the means and low overlap indicates good discriminative power; similar means and strong overlap indicate poor discriminative power. \n"
   ]
  }
 ],
 "metadata": {
  "kernelspec": {
   "display_name": "8dm50",
   "language": "python",
   "name": "python3"
  },
  "language_info": {
   "codemirror_mode": {
    "name": "ipython",
    "version": 3
   },
   "file_extension": ".py",
   "mimetype": "text/x-python",
   "name": "python",
   "nbconvert_exporter": "python",
   "pygments_lexer": "ipython3",
   "version": "3.6.13"
  }
 },
 "nbformat": 4,
 "nbformat_minor": 4
}
