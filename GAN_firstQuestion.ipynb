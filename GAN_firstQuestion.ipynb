{
  "cells": [
    {
      "cell_type": "markdown",
      "metadata": {
        "id": "view-in-github",
        "colab_type": "text"
      },
      "source": [
        "<a href=\"https://colab.research.google.com/github/lucazini03/ml-for-medical-imaging/blob/main/GAN_firstQuestion.ipynb\" target=\"_parent\"><img src=\"https://colab.research.google.com/assets/colab-badge.svg\" alt=\"Open In Colab\"/></a>"
      ]
    },
    {
      "cell_type": "markdown",
      "metadata": {
        "id": "t1rhzu_KRVfD"
      },
      "source": [
        "# Data synthesis using generative adversarial networks (GANs)\n",
        "\n",
        "In this practical session we will build and train generative adversarial networks that are able to generate images.\n",
        "\n",
        "This is a Google Colab notebook, which is mostly the same as a Jupyter notebook. This means that you can run the code in a cell by selecting the cell and pressing Shift+Enter. We will run everything in the cloud, so you don't need a fancy computer or an expensive GPU for this exercise. We are going to use GPUs that Google Cloud provides for free. To do this, go to Edit --> Notebook settings and select GPU as Hardware accelerator. Then, in the top right of this screen select 'CONNECT' --> 'Connect to hosted runtime'\n",
        "\n",
        "We are going to import some of the packages that we will need in this exercise (by running the cell below)\n",
        "\n",
        "The documentation for key packages can be found online: <br>\n",
        "For numpy: https://docs.scipy.org/doc/numpy-dev/user/quickstart.html <br>\n",
        "For matplotlib: http://matplotlib.org/api/pyplot_api.html <br>\n",
        "For Keras: https://keras.io/ <br>\n",
        "For random: https://docs.python.org/2/library/random.html <br>"
      ]
    },
    {
      "cell_type": "code",
      "execution_count": 5,
      "metadata": {
        "id": "HV9fYTQRRQ6J",
        "colab": {
          "base_uri": "https://localhost:8080/",
          "height": 211
        },
        "outputId": "de45d79c-85c9-448a-c790-ae400287e3eb"
      },
      "outputs": [
        {
          "output_type": "error",
          "ename": "SystemError",
          "evalue": "GPU device not found",
          "traceback": [
            "\u001b[0;31m---------------------------------------------------------------------------\u001b[0m",
            "\u001b[0;31mSystemError\u001b[0m                               Traceback (most recent call last)",
            "\u001b[0;32m/tmp/ipython-input-3572835185.py\u001b[0m in \u001b[0;36m<cell line: 0>\u001b[0;34m()\u001b[0m\n\u001b[1;32m     22\u001b[0m \u001b[0mdevice_name\u001b[0m \u001b[0;34m=\u001b[0m \u001b[0mtf\u001b[0m\u001b[0;34m.\u001b[0m\u001b[0mtest\u001b[0m\u001b[0;34m.\u001b[0m\u001b[0mgpu_device_name\u001b[0m\u001b[0;34m(\u001b[0m\u001b[0;34m)\u001b[0m\u001b[0;34m\u001b[0m\u001b[0;34m\u001b[0m\u001b[0m\n\u001b[1;32m     23\u001b[0m \u001b[0;32mif\u001b[0m \u001b[0mdevice_name\u001b[0m \u001b[0;34m!=\u001b[0m \u001b[0;34m'/device:GPU:0'\u001b[0m\u001b[0;34m:\u001b[0m\u001b[0;34m\u001b[0m\u001b[0;34m\u001b[0m\u001b[0m\n\u001b[0;32m---> 24\u001b[0;31m   \u001b[0;32mraise\u001b[0m \u001b[0mSystemError\u001b[0m\u001b[0;34m(\u001b[0m\u001b[0;34m'GPU device not found'\u001b[0m\u001b[0;34m)\u001b[0m\u001b[0;34m\u001b[0m\u001b[0;34m\u001b[0m\u001b[0m\n\u001b[0m\u001b[1;32m     25\u001b[0m \u001b[0mprint\u001b[0m\u001b[0;34m(\u001b[0m\u001b[0;34m'Found GPU at: {}'\u001b[0m\u001b[0;34m.\u001b[0m\u001b[0mformat\u001b[0m\u001b[0;34m(\u001b[0m\u001b[0mdevice_name\u001b[0m\u001b[0;34m)\u001b[0m\u001b[0;34m)\u001b[0m\u001b[0;34m\u001b[0m\u001b[0;34m\u001b[0m\u001b[0m\n\u001b[1;32m     26\u001b[0m \u001b[0;34m\u001b[0m\u001b[0m\n",
            "\u001b[0;31mSystemError\u001b[0m: GPU device not found"
          ]
        }
      ],
      "source": [
        "import pickle\n",
        "import gzip\n",
        "import numpy as np\n",
        "\n",
        "import matplotlib.pyplot as plt\n",
        "%matplotlib inline\n",
        "from matplotlib import rc\n",
        "from matplotlib import pylab\n",
        "from IPython import display\n",
        "\n",
        "import tensorflow as tf\n",
        "from tensorflow import keras\n",
        "keras.backend.set_image_data_format('channels_first')\n",
        "\n",
        "import time\n",
        "import random\n",
        "from google.colab import files\n",
        "from google.colab import widgets\n",
        "random.seed(0)\n",
        "\n",
        "# Check whether we're using a GPU\n",
        "device_name = tf.test.gpu_device_name()\n",
        "if device_name != '/device:GPU:0':\n",
        "  raise SystemError('GPU device not found')\n",
        "print('Found GPU at: {}'.format(device_name))\n",
        "\n",
        "tf.logging.set_verbosity(tf.logging.ERROR)"
      ]
    },
    {
      "cell_type": "markdown",
      "metadata": {
        "id": "Y9hTkVp1ESQW"
      },
      "source": [
        "## Small steps\n",
        "Before moving on to generating images, we will start with a simple 1D problem. We will assume that there is a data set of real samples that are drawn from a normal distribution with a particular mean value (the black dotted line below). These samples are in the sample domain *x*.\n",
        "\n",
        "The generator network does not know anything about the distribution of the real samples in the sample domain *x*, but will try to come up with a transformation that maps random noise from a distribution *z* to samples that seem to come from the real sample distribution (the green line below). This is very similar to what we have looked at in the lecture.\n",
        "\n",
        "<img src=\"https://cs.stanford.edu/people/karpathy/gan/gan.png\">\n",
        "\n",
        "For this, we will define two neural networks that play a game:\n",
        "*   The discriminator will learn to distinguish real and fake samples in *z*\n",
        "*   The generator will generate fake samples in *z* that the discriminator cannot discriminate\n",
        "\n",
        "First, we determine the mean value of the normal distribution from which **real** samples will be drawn in the sample domain *x*. In addition, we define the dimensionality of the normal distribution *z* from which noise samples to the generator will be drawn, i.e. the latent space. This will be 1 for now."
      ]
    },
    {
      "cell_type": "code",
      "execution_count": 7,
      "metadata": {
        "id": "rsg4CLVHgMeJ"
      },
      "outputs": [],
      "source": [
        "real_mean = 8\n",
        "latent_dim = 1"
      ]
    },
    {
      "cell_type": "markdown",
      "metadata": {
        "id": "2eLRuaRXgSKn"
      },
      "source": [
        "# Next, we define our discriminator and generator. These are both very simple networks.\n",
        "\n",
        "**Question** How many layers does each of these networks have?\n",
        "\n",
        "***Answer***\n",
        "Both the discriminator and generator networks consist of three layers each. In the discriminator, the first layer is a dense (fully connected) layer with 32 units that takes a single input value. This is followed by a LeakyReLU activation layer, which introduces nonlinearity while avoiding the dying ReLU problem. The final layer is another dense layer with a single unit and a sigmoid activation function, which outputs a value between 0 and 1 for binary classification.\n",
        "The generator also contains three layers. It starts with a dense layer of 32 units, followed by a LeakyReLU activation, and concludes with a dense layer with a single unit and no activation function, producing the generated output.\n",
        "\n",
        "**Question** Can you find out how many trainable parameters the networks have?\n",
        "\n",
        "***Answer***\n",
        "\n",
        "The trainable parameters of both networks can be calculated from their dense layers. Each dense layer consists of a weight matrix and a bias vector. The weight matrix has dimensions equal to the number of input features multiplied by the number of units (neurons) in the layer, while the bias vector has a length equal to the number of units.\n",
        "\n",
        "In both the discriminator and the generator:\n",
        "\n",
        "- **First Dense Layer:**  \n",
        "  The layer follows the formula:  \n",
        "  $$y = Wx + b$$\n",
        "  where $W$ is the weight matrix and $b$ is the bias vector.  \n",
        "  In this case, $W$ has shape $1 \\times 32$ and $b$ has length 32, resulting in $32 + 32 = 64$ trainable parameters.\n",
        "\n",
        "- **Second Dense Layer:**  \n",
        "  This layer also follows:  \n",
        "  $$y = Wx + b$$\n",
        "  Here, $W$ has shape $32 \\times 1$ and $b$ has length 1, giving $32 + 1 = 33$ trainable parameters.\n",
        "\n",
        "**Total Trainable Parameters:**  \n",
        "$$64 + 33 = 97$$\n",
        "\n",
        "**Question** What are the activation functions of both networks? Why are they like this?\n",
        "\n",
        "***Answer***\n",
        "In both networks, in the hidden layer we use a **LeakyReLU**, which is a non-linear activation function which allows small negative values to pass through (the normal ReLU would set to 0 all negative inputs, while the Leaky version assigns to negative inputs a very small number, like 0.01). This is to avoid the dying neuron problem, where neurons become inactive and gradient doesn't flow through them.\n",
        "\n",
        "For the output layer, the generator and the discriminator work differently. The **discriminator uses a sigmoid**: this makes sense, as it is supposed to output a value between 0 and 1 representing the probability of the input being real (output close to 1) or fake (close to 0).\n",
        "\n",
        "However, the **generator uses a linear activation function** (`a(x) = x`). This is to allow the output to take values in any range. This is because the generator wants to produce data that matches the distribution of the real data, which may have values outside what the non-linear activation functions restrict."
      ]
    },
    {
      "cell_type": "code",
      "execution_count": 14,
      "metadata": {
        "id": "ACf058DjgZ9_",
        "colab": {
          "base_uri": "https://localhost:8080/",
          "height": 522
        },
        "outputId": "2f83a47d-6111-41b5-c705-7f195b229ae6"
      },
      "outputs": [
        {
          "output_type": "stream",
          "name": "stderr",
          "text": [
            "/usr/local/lib/python3.12/dist-packages/keras/src/layers/core/dense.py:93: UserWarning: Do not pass an `input_shape`/`input_dim` argument to a layer. When using Sequential models, prefer using an `Input(shape)` object as the first layer in the model instead.\n",
            "  super().__init__(activity_regularizer=activity_regularizer, **kwargs)\n"
          ]
        },
        {
          "output_type": "display_data",
          "data": {
            "text/plain": [
              "\u001b[1mModel: \"sequential_3\"\u001b[0m\n"
            ],
            "text/html": [
              "<pre style=\"white-space:pre;overflow-x:auto;line-height:normal;font-family:Menlo,'DejaVu Sans Mono',consolas,'Courier New',monospace\"><span style=\"font-weight: bold\">Model: \"sequential_3\"</span>\n",
              "</pre>\n"
            ]
          },
          "metadata": {}
        },
        {
          "output_type": "display_data",
          "data": {
            "text/plain": [
              "┏━━━━━━━━━━━━━━━━━━━━━━━━━━━━━━━━━┳━━━━━━━━━━━━━━━━━━━━━━━━┳━━━━━━━━━━━━━━━┓\n",
              "┃\u001b[1m \u001b[0m\u001b[1mLayer (type)                   \u001b[0m\u001b[1m \u001b[0m┃\u001b[1m \u001b[0m\u001b[1mOutput Shape          \u001b[0m\u001b[1m \u001b[0m┃\u001b[1m \u001b[0m\u001b[1m      Param #\u001b[0m\u001b[1m \u001b[0m┃\n",
              "┡━━━━━━━━━━━━━━━━━━━━━━━━━━━━━━━━━╇━━━━━━━━━━━━━━━━━━━━━━━━╇━━━━━━━━━━━━━━━┩\n",
              "│ dense_6 (\u001b[38;5;33mDense\u001b[0m)                 │ (\u001b[38;5;45mNone\u001b[0m, \u001b[38;5;34m32\u001b[0m)             │            \u001b[38;5;34m64\u001b[0m │\n",
              "├─────────────────────────────────┼────────────────────────┼───────────────┤\n",
              "│ leaky_re_lu_3 (\u001b[38;5;33mLeakyReLU\u001b[0m)       │ (\u001b[38;5;45mNone\u001b[0m, \u001b[38;5;34m32\u001b[0m)             │             \u001b[38;5;34m0\u001b[0m │\n",
              "├─────────────────────────────────┼────────────────────────┼───────────────┤\n",
              "│ dense_7 (\u001b[38;5;33mDense\u001b[0m)                 │ (\u001b[38;5;45mNone\u001b[0m, \u001b[38;5;34m1\u001b[0m)              │            \u001b[38;5;34m33\u001b[0m │\n",
              "└─────────────────────────────────┴────────────────────────┴───────────────┘\n"
            ],
            "text/html": [
              "<pre style=\"white-space:pre;overflow-x:auto;line-height:normal;font-family:Menlo,'DejaVu Sans Mono',consolas,'Courier New',monospace\">┏━━━━━━━━━━━━━━━━━━━━━━━━━━━━━━━━━┳━━━━━━━━━━━━━━━━━━━━━━━━┳━━━━━━━━━━━━━━━┓\n",
              "┃<span style=\"font-weight: bold\"> Layer (type)                    </span>┃<span style=\"font-weight: bold\"> Output Shape           </span>┃<span style=\"font-weight: bold\">       Param # </span>┃\n",
              "┡━━━━━━━━━━━━━━━━━━━━━━━━━━━━━━━━━╇━━━━━━━━━━━━━━━━━━━━━━━━╇━━━━━━━━━━━━━━━┩\n",
              "│ dense_6 (<span style=\"color: #0087ff; text-decoration-color: #0087ff\">Dense</span>)                 │ (<span style=\"color: #00d7ff; text-decoration-color: #00d7ff\">None</span>, <span style=\"color: #00af00; text-decoration-color: #00af00\">32</span>)             │            <span style=\"color: #00af00; text-decoration-color: #00af00\">64</span> │\n",
              "├─────────────────────────────────┼────────────────────────┼───────────────┤\n",
              "│ leaky_re_lu_3 (<span style=\"color: #0087ff; text-decoration-color: #0087ff\">LeakyReLU</span>)       │ (<span style=\"color: #00d7ff; text-decoration-color: #00d7ff\">None</span>, <span style=\"color: #00af00; text-decoration-color: #00af00\">32</span>)             │             <span style=\"color: #00af00; text-decoration-color: #00af00\">0</span> │\n",
              "├─────────────────────────────────┼────────────────────────┼───────────────┤\n",
              "│ dense_7 (<span style=\"color: #0087ff; text-decoration-color: #0087ff\">Dense</span>)                 │ (<span style=\"color: #00d7ff; text-decoration-color: #00d7ff\">None</span>, <span style=\"color: #00af00; text-decoration-color: #00af00\">1</span>)              │            <span style=\"color: #00af00; text-decoration-color: #00af00\">33</span> │\n",
              "└─────────────────────────────────┴────────────────────────┴───────────────┘\n",
              "</pre>\n"
            ]
          },
          "metadata": {}
        },
        {
          "output_type": "display_data",
          "data": {
            "text/plain": [
              "\u001b[1m Total params: \u001b[0m\u001b[38;5;34m97\u001b[0m (388.00 B)\n"
            ],
            "text/html": [
              "<pre style=\"white-space:pre;overflow-x:auto;line-height:normal;font-family:Menlo,'DejaVu Sans Mono',consolas,'Courier New',monospace\"><span style=\"font-weight: bold\"> Total params: </span><span style=\"color: #00af00; text-decoration-color: #00af00\">97</span> (388.00 B)\n",
              "</pre>\n"
            ]
          },
          "metadata": {}
        },
        {
          "output_type": "display_data",
          "data": {
            "text/plain": [
              "\u001b[1m Trainable params: \u001b[0m\u001b[38;5;34m97\u001b[0m (388.00 B)\n"
            ],
            "text/html": [
              "<pre style=\"white-space:pre;overflow-x:auto;line-height:normal;font-family:Menlo,'DejaVu Sans Mono',consolas,'Courier New',monospace\"><span style=\"font-weight: bold\"> Trainable params: </span><span style=\"color: #00af00; text-decoration-color: #00af00\">97</span> (388.00 B)\n",
              "</pre>\n"
            ]
          },
          "metadata": {}
        },
        {
          "output_type": "display_data",
          "data": {
            "text/plain": [
              "\u001b[1m Non-trainable params: \u001b[0m\u001b[38;5;34m0\u001b[0m (0.00 B)\n"
            ],
            "text/html": [
              "<pre style=\"white-space:pre;overflow-x:auto;line-height:normal;font-family:Menlo,'DejaVu Sans Mono',consolas,'Courier New',monospace\"><span style=\"font-weight: bold\"> Non-trainable params: </span><span style=\"color: #00af00; text-decoration-color: #00af00\">0</span> (0.00 B)\n",
              "</pre>\n"
            ]
          },
          "metadata": {}
        },
        {
          "output_type": "stream",
          "name": "stdout",
          "text": [
            "None\n"
          ]
        },
        {
          "output_type": "display_data",
          "data": {
            "text/plain": [
              "\u001b[1mModel: \"sequential_4\"\u001b[0m\n"
            ],
            "text/html": [
              "<pre style=\"white-space:pre;overflow-x:auto;line-height:normal;font-family:Menlo,'DejaVu Sans Mono',consolas,'Courier New',monospace\"><span style=\"font-weight: bold\">Model: \"sequential_4\"</span>\n",
              "</pre>\n"
            ]
          },
          "metadata": {}
        },
        {
          "output_type": "display_data",
          "data": {
            "text/plain": [
              "┏━━━━━━━━━━━━━━━━━━━━━━━━━━━━━━━━━┳━━━━━━━━━━━━━━━━━━━━━━━━┳━━━━━━━━━━━━━━━┓\n",
              "┃\u001b[1m \u001b[0m\u001b[1mLayer (type)                   \u001b[0m\u001b[1m \u001b[0m┃\u001b[1m \u001b[0m\u001b[1mOutput Shape          \u001b[0m\u001b[1m \u001b[0m┃\u001b[1m \u001b[0m\u001b[1m      Param #\u001b[0m\u001b[1m \u001b[0m┃\n",
              "┡━━━━━━━━━━━━━━━━━━━━━━━━━━━━━━━━━╇━━━━━━━━━━━━━━━━━━━━━━━━╇━━━━━━━━━━━━━━━┩\n",
              "│ dense_8 (\u001b[38;5;33mDense\u001b[0m)                 │ (\u001b[38;5;45mNone\u001b[0m, \u001b[38;5;34m32\u001b[0m)             │            \u001b[38;5;34m64\u001b[0m │\n",
              "├─────────────────────────────────┼────────────────────────┼───────────────┤\n",
              "│ leaky_re_lu_4 (\u001b[38;5;33mLeakyReLU\u001b[0m)       │ (\u001b[38;5;45mNone\u001b[0m, \u001b[38;5;34m32\u001b[0m)             │             \u001b[38;5;34m0\u001b[0m │\n",
              "├─────────────────────────────────┼────────────────────────┼───────────────┤\n",
              "│ dense_9 (\u001b[38;5;33mDense\u001b[0m)                 │ (\u001b[38;5;45mNone\u001b[0m, \u001b[38;5;34m1\u001b[0m)              │            \u001b[38;5;34m33\u001b[0m │\n",
              "└─────────────────────────────────┴────────────────────────┴───────────────┘\n"
            ],
            "text/html": [
              "<pre style=\"white-space:pre;overflow-x:auto;line-height:normal;font-family:Menlo,'DejaVu Sans Mono',consolas,'Courier New',monospace\">┏━━━━━━━━━━━━━━━━━━━━━━━━━━━━━━━━━┳━━━━━━━━━━━━━━━━━━━━━━━━┳━━━━━━━━━━━━━━━┓\n",
              "┃<span style=\"font-weight: bold\"> Layer (type)                    </span>┃<span style=\"font-weight: bold\"> Output Shape           </span>┃<span style=\"font-weight: bold\">       Param # </span>┃\n",
              "┡━━━━━━━━━━━━━━━━━━━━━━━━━━━━━━━━━╇━━━━━━━━━━━━━━━━━━━━━━━━╇━━━━━━━━━━━━━━━┩\n",
              "│ dense_8 (<span style=\"color: #0087ff; text-decoration-color: #0087ff\">Dense</span>)                 │ (<span style=\"color: #00d7ff; text-decoration-color: #00d7ff\">None</span>, <span style=\"color: #00af00; text-decoration-color: #00af00\">32</span>)             │            <span style=\"color: #00af00; text-decoration-color: #00af00\">64</span> │\n",
              "├─────────────────────────────────┼────────────────────────┼───────────────┤\n",
              "│ leaky_re_lu_4 (<span style=\"color: #0087ff; text-decoration-color: #0087ff\">LeakyReLU</span>)       │ (<span style=\"color: #00d7ff; text-decoration-color: #00d7ff\">None</span>, <span style=\"color: #00af00; text-decoration-color: #00af00\">32</span>)             │             <span style=\"color: #00af00; text-decoration-color: #00af00\">0</span> │\n",
              "├─────────────────────────────────┼────────────────────────┼───────────────┤\n",
              "│ dense_9 (<span style=\"color: #0087ff; text-decoration-color: #0087ff\">Dense</span>)                 │ (<span style=\"color: #00d7ff; text-decoration-color: #00d7ff\">None</span>, <span style=\"color: #00af00; text-decoration-color: #00af00\">1</span>)              │            <span style=\"color: #00af00; text-decoration-color: #00af00\">33</span> │\n",
              "└─────────────────────────────────┴────────────────────────┴───────────────┘\n",
              "</pre>\n"
            ]
          },
          "metadata": {}
        },
        {
          "output_type": "display_data",
          "data": {
            "text/plain": [
              "\u001b[1m Total params: \u001b[0m\u001b[38;5;34m97\u001b[0m (388.00 B)\n"
            ],
            "text/html": [
              "<pre style=\"white-space:pre;overflow-x:auto;line-height:normal;font-family:Menlo,'DejaVu Sans Mono',consolas,'Courier New',monospace\"><span style=\"font-weight: bold\"> Total params: </span><span style=\"color: #00af00; text-decoration-color: #00af00\">97</span> (388.00 B)\n",
              "</pre>\n"
            ]
          },
          "metadata": {}
        },
        {
          "output_type": "display_data",
          "data": {
            "text/plain": [
              "\u001b[1m Trainable params: \u001b[0m\u001b[38;5;34m97\u001b[0m (388.00 B)\n"
            ],
            "text/html": [
              "<pre style=\"white-space:pre;overflow-x:auto;line-height:normal;font-family:Menlo,'DejaVu Sans Mono',consolas,'Courier New',monospace\"><span style=\"font-weight: bold\"> Trainable params: </span><span style=\"color: #00af00; text-decoration-color: #00af00\">97</span> (388.00 B)\n",
              "</pre>\n"
            ]
          },
          "metadata": {}
        },
        {
          "output_type": "display_data",
          "data": {
            "text/plain": [
              "\u001b[1m Non-trainable params: \u001b[0m\u001b[38;5;34m0\u001b[0m (0.00 B)\n"
            ],
            "text/html": [
              "<pre style=\"white-space:pre;overflow-x:auto;line-height:normal;font-family:Menlo,'DejaVu Sans Mono',consolas,'Courier New',monospace\"><span style=\"font-weight: bold\"> Non-trainable params: </span><span style=\"color: #00af00; text-decoration-color: #00af00\">0</span> (0.00 B)\n",
              "</pre>\n"
            ]
          },
          "metadata": {}
        },
        {
          "output_type": "stream",
          "name": "stdout",
          "text": [
            "None\n"
          ]
        }
      ],
      "source": [
        "# For easier reading\n",
        "from keras.layers import Reshape, Dense, Dropout, Flatten\n",
        "from keras.layers import LeakyReLU\n",
        "\n",
        "# The discriminator will directly classify the input value\n",
        "def get_discriminator_1D():\n",
        "  discriminator = keras.models.Sequential()\n",
        "  discriminator.add(Dense(32, input_dim=1))\n",
        "  discriminator.add(LeakyReLU())\n",
        "  discriminator.add(Dense(1, activation='sigmoid'))\n",
        "  return discriminator\n",
        "\n",
        "# The generator will transform a single input value\n",
        "def get_generator_1D():\n",
        "  generator = keras.models.Sequential()\n",
        "  generator.add(Dense(32, input_dim=1))\n",
        "  generator.add(LeakyReLU())\n",
        "  generator.add(Dense(1))\n",
        "  return generator\n",
        "\n",
        "model = get_discriminator_1D()\n",
        "#we print the number of layers\n",
        "print(model.summary())\n",
        "\n",
        "model = get_generator_1D()\n",
        "#we print the number of layers\n",
        "print(model.summary())"
      ]
    },
    {
      "cell_type": "markdown",
      "metadata": {
        "id": "0QYrW32ehE3_"
      },
      "source": [
        "Now, we will define the training functions for both networks. Consider what is actually happening in a GAN and how the inputs and outputs are connected. There are three variables when training this GAN\n",
        "\n",
        "*   **z**: the noise that will be input to the generator\n",
        "*   **G_z**: the output of the generator, i.e. the samples that should approximate the real samples\n",
        "*   **D_G_z**: the discriminator's decision based on the fake sample\n",
        "\n",
        "The overall objective function of our system is as follows\n",
        "\n",
        "$V^{(D)}(D,G)=\\underset{x\\sim p_{data}}{\\mathbb{E}} [\\log{D(x)}]+\\underset{z\\sim p_z}{\\mathbb{E}} [\\log{(1-D(G(z)))}]$\n",
        "\n",
        "The generator $G$ is trying to minimize this loss, and the discriminator $D$ tries to maximize this. In other words, the discriminator wants to minimize the binary cross-entropy s.t. it predicts 1 for real samples and 0 for fake samples. At the same time, the generator tries to get the discriminator to predict 1 for fake samples.\n",
        "\n",
        "\n"
      ]
    },
    {
      "cell_type": "code",
      "execution_count": 10,
      "metadata": {
        "id": "H30WDcfXF7tY",
        "colab": {
          "base_uri": "https://localhost:8080/"
        },
        "outputId": "23b3c000-27fc-42c7-e727-6ee34b695e8c"
      },
      "outputs": [
        {
          "output_type": "stream",
          "name": "stderr",
          "text": [
            "/usr/local/lib/python3.12/dist-packages/keras/src/layers/core/dense.py:93: UserWarning: Do not pass an `input_shape`/`input_dim` argument to a layer. When using Sequential models, prefer using an `Input(shape)` object as the first layer in the model instead.\n",
            "  super().__init__(activity_regularizer=activity_regularizer, **kwargs)\n"
          ]
        }
      ],
      "source": [
        "# Get networks\n",
        "discriminator = get_discriminator_1D()\n",
        "generator = get_generator_1D()\n",
        "\n",
        "# Configure both models for training\n",
        "discriminator.compile(loss='binary_crossentropy', optimizer=keras.optimizers.Adam(learning_rate=0.0002, beta_1=0.5))\n",
        "generator.compile(loss='binary_crossentropy', optimizer=keras.optimizers.Adam(learning_rate=0.0002, beta_1=0.5))\n",
        "\n",
        "# To configure the full model, we will set the 'trainable' parameter of the discriminator to False, as we don't want to optimize the discriminator when optimizing the generator\n",
        "discriminator.trainable = False\n",
        "\n",
        "# The input variable (noise) for the generator\n",
        "z = keras.layers.Input(shape=(latent_dim,))\n",
        "\n",
        "# What comes out of the generator\n",
        "G_z = generator(z)\n",
        "\n",
        "# What comes out of the discriminator when classifying the 'fake' samples\n",
        "D_G_z = discriminator(G_z)\n",
        "\n",
        "# The full GAN model\n",
        "gan = keras.models.Model(inputs=z, outputs=D_G_z)\n",
        "\n",
        "# The loss function for the GAN: this gets lower if the fake samples are classified as real\n",
        "gan.compile(loss='binary_crossentropy', optimizer=keras.optimizers.Adam(learning_rate=0.0002, beta_1=0.5))"
      ]
    },
    {
      "cell_type": "markdown",
      "metadata": {
        "id": "7MlpUJ_716Tk"
      },
      "source": [
        "The code below runs the training loop. This could take a while. The code will periodically show a plot of the current situation.\n",
        "\n",
        "**Question** Why do we set discriminator.trainable to either True or False?"
      ]
    },
    {
      "cell_type": "code",
      "execution_count": 11,
      "metadata": {
        "id": "ynLndgse0r9V",
        "colab": {
          "base_uri": "https://localhost:8080/",
          "height": 473
        },
        "outputId": "69a083e6-5913-4f0b-e096-c18ac094c973"
      },
      "outputs": [
        {
          "output_type": "display_data",
          "data": {
            "text/plain": [
              "<IPython.core.display.HTML object>"
            ],
            "text/html": [
              "<style>\n",
              "       table#id4, #id4 > tbody > tr > th, #id4 > tbody > tr > td {\n",
              "         border: 1px solid lightgray;\n",
              "         border-collapse:collapse;\n",
              "         \n",
              "        }</style>"
            ]
          },
          "metadata": {}
        },
        {
          "output_type": "display_data",
          "data": {
            "text/plain": [
              "<IPython.core.display.HTML object>"
            ],
            "text/html": [
              "<table id=id4><tr><td id=id4-0-0></td></tr></table>"
            ]
          },
          "metadata": {}
        },
        {
          "output_type": "display_data",
          "data": {
            "text/plain": [
              "<IPython.core.display.Javascript object>"
            ],
            "application/javascript": [
              "window[\"6a4593fc-9ea7-11f0-8010-0242ac1c000c\"] = google.colab.output.getActiveOutputArea();\n",
              "//# sourceURL=js_b1b45076c4"
            ]
          },
          "metadata": {}
        },
        {
          "output_type": "display_data",
          "data": {
            "text/plain": [
              "<IPython.core.display.Javascript object>"
            ],
            "application/javascript": [
              "window[\"6a45d556-9ea7-11f0-8010-0242ac1c000c\"] = document.querySelector(\"#id4-0-0\");\n",
              "//# sourceURL=js_bb291a6b40"
            ]
          },
          "metadata": {}
        },
        {
          "output_type": "display_data",
          "data": {
            "text/plain": [
              "<IPython.core.display.Javascript object>"
            ],
            "application/javascript": [
              "window[\"6a460f30-9ea7-11f0-8010-0242ac1c000c\"] = google.colab.output.setActiveOutputArea(window[\"6a45d556-9ea7-11f0-8010-0242ac1c000c\"]);\n",
              "//# sourceURL=js_bb97065cd3"
            ]
          },
          "metadata": {}
        },
        {
          "output_type": "display_data",
          "data": {
            "text/plain": [
              "<IPython.core.display.Javascript object>"
            ],
            "application/javascript": [
              "window[\"6a71de30-9ea7-11f0-8010-0242ac1c000c\"] = google.colab.output.setActiveOutputArea(window[\"6a4593fc-9ea7-11f0-8010-0242ac1c000c\"]);\n",
              "//# sourceURL=js_b7b1655cdc"
            ]
          },
          "metadata": {}
        },
        {
          "output_type": "display_data",
          "data": {
            "text/plain": [
              "<IPython.core.display.Javascript object>"
            ],
            "application/javascript": [
              "window[\"76c5e8c0-9ea7-11f0-8010-0242ac1c000c\"] = google.colab.output.getActiveOutputArea();\n",
              "//# sourceURL=js_dff9fdece5"
            ]
          },
          "metadata": {}
        },
        {
          "output_type": "display_data",
          "data": {
            "text/plain": [
              "<IPython.core.display.Javascript object>"
            ],
            "application/javascript": [
              "window[\"76c64fae-9ea7-11f0-8010-0242ac1c000c\"] = document.querySelector(\"#id4-0-0\");\n",
              "//# sourceURL=js_4aabcdf218"
            ]
          },
          "metadata": {}
        },
        {
          "output_type": "display_data",
          "data": {
            "text/plain": [
              "<IPython.core.display.Javascript object>"
            ],
            "application/javascript": [
              "window[\"76c684ec-9ea7-11f0-8010-0242ac1c000c\"] = google.colab.output.setActiveOutputArea(window[\"76c64fae-9ea7-11f0-8010-0242ac1c000c\"]);\n",
              "//# sourceURL=js_0fb9c84b52"
            ]
          },
          "metadata": {}
        },
        {
          "output_type": "display_data",
          "data": {
            "text/plain": [
              "<IPython.core.display.Javascript object>"
            ],
            "application/javascript": [
              "window[\"76ef6bbe-9ea7-11f0-8010-0242ac1c000c\"] = google.colab.output.setActiveOutputArea(window[\"76c5e8c0-9ea7-11f0-8010-0242ac1c000c\"]);\n",
              "//# sourceURL=js_c72031523b"
            ]
          },
          "metadata": {}
        },
        {
          "output_type": "display_data",
          "data": {
            "text/plain": [
              "<IPython.core.display.Javascript object>"
            ],
            "application/javascript": [
              "window[\"83aaeac2-9ea7-11f0-8010-0242ac1c000c\"] = google.colab.output.getActiveOutputArea();\n",
              "//# sourceURL=js_fa2e7b91a0"
            ]
          },
          "metadata": {}
        },
        {
          "output_type": "display_data",
          "data": {
            "text/plain": [
              "<IPython.core.display.Javascript object>"
            ],
            "application/javascript": [
              "window[\"83ab431e-9ea7-11f0-8010-0242ac1c000c\"] = document.querySelector(\"#id4-0-0\");\n",
              "//# sourceURL=js_a17c497c34"
            ]
          },
          "metadata": {}
        },
        {
          "output_type": "display_data",
          "data": {
            "text/plain": [
              "<IPython.core.display.Javascript object>"
            ],
            "application/javascript": [
              "window[\"83ab712c-9ea7-11f0-8010-0242ac1c000c\"] = google.colab.output.setActiveOutputArea(window[\"83ab431e-9ea7-11f0-8010-0242ac1c000c\"]);\n",
              "//# sourceURL=js_8b910fceee"
            ]
          },
          "metadata": {}
        },
        {
          "output_type": "display_data",
          "data": {
            "text/plain": [
              "<IPython.core.display.Javascript object>"
            ],
            "application/javascript": [
              "window[\"83c95868-9ea7-11f0-8010-0242ac1c000c\"] = google.colab.output.setActiveOutputArea(window[\"83aaeac2-9ea7-11f0-8010-0242ac1c000c\"]);\n",
              "//# sourceURL=js_33f106fc50"
            ]
          },
          "metadata": {}
        },
        {
          "output_type": "display_data",
          "data": {
            "text/plain": [
              "<IPython.core.display.Javascript object>"
            ],
            "application/javascript": [
              "window[\"90f5dc32-9ea7-11f0-8010-0242ac1c000c\"] = google.colab.output.getActiveOutputArea();\n",
              "//# sourceURL=js_a6bb63e1cc"
            ]
          },
          "metadata": {}
        },
        {
          "output_type": "display_data",
          "data": {
            "text/plain": [
              "<IPython.core.display.Javascript object>"
            ],
            "application/javascript": [
              "window[\"90f6203e-9ea7-11f0-8010-0242ac1c000c\"] = document.querySelector(\"#id4-0-0\");\n",
              "//# sourceURL=js_29f3d68ebd"
            ]
          },
          "metadata": {}
        },
        {
          "output_type": "display_data",
          "data": {
            "text/plain": [
              "<IPython.core.display.Javascript object>"
            ],
            "application/javascript": [
              "window[\"90f65798-9ea7-11f0-8010-0242ac1c000c\"] = google.colab.output.setActiveOutputArea(window[\"90f6203e-9ea7-11f0-8010-0242ac1c000c\"]);\n",
              "//# sourceURL=js_f06345c2f4"
            ]
          },
          "metadata": {}
        },
        {
          "output_type": "display_data",
          "data": {
            "text/plain": [
              "<IPython.core.display.Javascript object>"
            ],
            "application/javascript": [
              "window[\"91124cdc-9ea7-11f0-8010-0242ac1c000c\"] = google.colab.output.setActiveOutputArea(window[\"90f5dc32-9ea7-11f0-8010-0242ac1c000c\"]);\n",
              "//# sourceURL=js_e529157706"
            ]
          },
          "metadata": {}
        },
        {
          "output_type": "display_data",
          "data": {
            "text/plain": [
              "<IPython.core.display.Javascript object>"
            ],
            "application/javascript": [
              "window[\"9e4b22a2-9ea7-11f0-8010-0242ac1c000c\"] = google.colab.output.getActiveOutputArea();\n",
              "//# sourceURL=js_a1b6cd433f"
            ]
          },
          "metadata": {}
        },
        {
          "output_type": "display_data",
          "data": {
            "text/plain": [
              "<IPython.core.display.Javascript object>"
            ],
            "application/javascript": [
              "window[\"9e4b64d8-9ea7-11f0-8010-0242ac1c000c\"] = document.querySelector(\"#id4-0-0\");\n",
              "//# sourceURL=js_0a08b5389d"
            ]
          },
          "metadata": {}
        },
        {
          "output_type": "display_data",
          "data": {
            "text/plain": [
              "<IPython.core.display.Javascript object>"
            ],
            "application/javascript": [
              "window[\"9e4b9228-9ea7-11f0-8010-0242ac1c000c\"] = google.colab.output.setActiveOutputArea(window[\"9e4b64d8-9ea7-11f0-8010-0242ac1c000c\"]);\n",
              "//# sourceURL=js_f611a65105"
            ]
          },
          "metadata": {}
        },
        {
          "output_type": "display_data",
          "data": {
            "text/plain": [
              "<IPython.core.display.Javascript object>"
            ],
            "application/javascript": [
              "window[\"9e69dc1a-9ea7-11f0-8010-0242ac1c000c\"] = google.colab.output.setActiveOutputArea(window[\"9e4b22a2-9ea7-11f0-8010-0242ac1c000c\"]);\n",
              "//# sourceURL=js_239975f53e"
            ]
          },
          "metadata": {}
        },
        {
          "output_type": "display_data",
          "data": {
            "text/plain": [
              "<IPython.core.display.Javascript object>"
            ],
            "application/javascript": [
              "window[\"abbe473e-9ea7-11f0-8010-0242ac1c000c\"] = google.colab.output.getActiveOutputArea();\n",
              "//# sourceURL=js_74fb3ef1ff"
            ]
          },
          "metadata": {}
        },
        {
          "output_type": "display_data",
          "data": {
            "text/plain": [
              "<IPython.core.display.Javascript object>"
            ],
            "application/javascript": [
              "window[\"abbe8988-9ea7-11f0-8010-0242ac1c000c\"] = document.querySelector(\"#id4-0-0\");\n",
              "//# sourceURL=js_b93e55337a"
            ]
          },
          "metadata": {}
        },
        {
          "output_type": "display_data",
          "data": {
            "text/plain": [
              "<IPython.core.display.Javascript object>"
            ],
            "application/javascript": [
              "window[\"abbecc5e-9ea7-11f0-8010-0242ac1c000c\"] = google.colab.output.setActiveOutputArea(window[\"abbe8988-9ea7-11f0-8010-0242ac1c000c\"]);\n",
              "//# sourceURL=js_8cbe4b75b6"
            ]
          },
          "metadata": {}
        },
        {
          "output_type": "display_data",
          "data": {
            "text/plain": [
              "<IPython.core.display.Javascript object>"
            ],
            "application/javascript": [
              "window[\"abdb4a3c-9ea7-11f0-8010-0242ac1c000c\"] = google.colab.output.setActiveOutputArea(window[\"abbe473e-9ea7-11f0-8010-0242ac1c000c\"]);\n",
              "//# sourceURL=js_52bae27bfe"
            ]
          },
          "metadata": {}
        },
        {
          "output_type": "display_data",
          "data": {
            "text/plain": [
              "<IPython.core.display.Javascript object>"
            ],
            "application/javascript": [
              "window[\"b8b4a5dc-9ea7-11f0-8010-0242ac1c000c\"] = google.colab.output.getActiveOutputArea();\n",
              "//# sourceURL=js_8926646dac"
            ]
          },
          "metadata": {}
        },
        {
          "output_type": "display_data",
          "data": {
            "text/plain": [
              "<IPython.core.display.Javascript object>"
            ],
            "application/javascript": [
              "window[\"b8b53678-9ea7-11f0-8010-0242ac1c000c\"] = document.querySelector(\"#id4-0-0\");\n",
              "//# sourceURL=js_9b4e19abfe"
            ]
          },
          "metadata": {}
        },
        {
          "output_type": "display_data",
          "data": {
            "text/plain": [
              "<IPython.core.display.Javascript object>"
            ],
            "application/javascript": [
              "window[\"b8b5bef4-9ea7-11f0-8010-0242ac1c000c\"] = google.colab.output.setActiveOutputArea(window[\"b8b53678-9ea7-11f0-8010-0242ac1c000c\"]);\n",
              "//# sourceURL=js_2830e04a57"
            ]
          },
          "metadata": {}
        },
        {
          "output_type": "display_data",
          "data": {
            "text/plain": [
              "<IPython.core.display.Javascript object>"
            ],
            "application/javascript": [
              "window[\"b8de78c6-9ea7-11f0-8010-0242ac1c000c\"] = google.colab.output.setActiveOutputArea(window[\"b8b4a5dc-9ea7-11f0-8010-0242ac1c000c\"]);\n",
              "//# sourceURL=js_6755663fd4"
            ]
          },
          "metadata": {}
        },
        {
          "output_type": "display_data",
          "data": {
            "text/plain": [
              "<IPython.core.display.Javascript object>"
            ],
            "application/javascript": [
              "window[\"c5f0fe1c-9ea7-11f0-8010-0242ac1c000c\"] = google.colab.output.getActiveOutputArea();\n",
              "//# sourceURL=js_40ab5070a1"
            ]
          },
          "metadata": {}
        },
        {
          "output_type": "display_data",
          "data": {
            "text/plain": [
              "<IPython.core.display.Javascript object>"
            ],
            "application/javascript": [
              "window[\"c5f155ec-9ea7-11f0-8010-0242ac1c000c\"] = document.querySelector(\"#id4-0-0\");\n",
              "//# sourceURL=js_8a840618c7"
            ]
          },
          "metadata": {}
        },
        {
          "output_type": "display_data",
          "data": {
            "text/plain": [
              "<IPython.core.display.Javascript object>"
            ],
            "application/javascript": [
              "window[\"c5f181c0-9ea7-11f0-8010-0242ac1c000c\"] = google.colab.output.setActiveOutputArea(window[\"c5f155ec-9ea7-11f0-8010-0242ac1c000c\"]);\n",
              "//# sourceURL=js_7ab62bdb0c"
            ]
          },
          "metadata": {}
        },
        {
          "output_type": "display_data",
          "data": {
            "text/plain": [
              "<IPython.core.display.Javascript object>"
            ],
            "application/javascript": [
              "window[\"c60faf88-9ea7-11f0-8010-0242ac1c000c\"] = google.colab.output.setActiveOutputArea(window[\"c5f0fe1c-9ea7-11f0-8010-0242ac1c000c\"]);\n",
              "//# sourceURL=js_0b81effd04"
            ]
          },
          "metadata": {}
        },
        {
          "output_type": "display_data",
          "data": {
            "text/plain": [
              "<IPython.core.display.Javascript object>"
            ],
            "application/javascript": [
              "window[\"d3538af2-9ea7-11f0-8010-0242ac1c000c\"] = google.colab.output.getActiveOutputArea();\n",
              "//# sourceURL=js_dad8449514"
            ]
          },
          "metadata": {}
        },
        {
          "output_type": "display_data",
          "data": {
            "text/plain": [
              "<IPython.core.display.Javascript object>"
            ],
            "application/javascript": [
              "window[\"d353eefc-9ea7-11f0-8010-0242ac1c000c\"] = document.querySelector(\"#id4-0-0\");\n",
              "//# sourceURL=js_01bc8aa194"
            ]
          },
          "metadata": {}
        },
        {
          "output_type": "display_data",
          "data": {
            "text/plain": [
              "<IPython.core.display.Javascript object>"
            ],
            "application/javascript": [
              "window[\"d3542b1a-9ea7-11f0-8010-0242ac1c000c\"] = google.colab.output.setActiveOutputArea(window[\"d353eefc-9ea7-11f0-8010-0242ac1c000c\"]);\n",
              "//# sourceURL=js_9c1d8061de"
            ]
          },
          "metadata": {}
        },
        {
          "output_type": "display_data",
          "data": {
            "text/plain": [
              "<IPython.core.display.Javascript object>"
            ],
            "application/javascript": [
              "window[\"d3705894-9ea7-11f0-8010-0242ac1c000c\"] = google.colab.output.setActiveOutputArea(window[\"d3538af2-9ea7-11f0-8010-0242ac1c000c\"]);\n",
              "//# sourceURL=js_4fe4ed7ffb"
            ]
          },
          "metadata": {}
        },
        {
          "output_type": "display_data",
          "data": {
            "text/plain": [
              "<IPython.core.display.Javascript object>"
            ],
            "application/javascript": [
              "window[\"e0c7a312-9ea7-11f0-8010-0242ac1c000c\"] = google.colab.output.getActiveOutputArea();\n",
              "//# sourceURL=js_80e9e9a987"
            ]
          },
          "metadata": {}
        },
        {
          "output_type": "display_data",
          "data": {
            "text/plain": [
              "<IPython.core.display.Javascript object>"
            ],
            "application/javascript": [
              "window[\"e0c7e21e-9ea7-11f0-8010-0242ac1c000c\"] = document.querySelector(\"#id4-0-0\");\n",
              "//# sourceURL=js_08f835e52b"
            ]
          },
          "metadata": {}
        },
        {
          "output_type": "display_data",
          "data": {
            "text/plain": [
              "<IPython.core.display.Javascript object>"
            ],
            "application/javascript": [
              "window[\"e0c80f00-9ea7-11f0-8010-0242ac1c000c\"] = google.colab.output.setActiveOutputArea(window[\"e0c7e21e-9ea7-11f0-8010-0242ac1c000c\"]);\n",
              "//# sourceURL=js_5d5e81e797"
            ]
          },
          "metadata": {}
        },
        {
          "output_type": "display_data",
          "data": {
            "text/plain": [
              "<IPython.core.display.Javascript object>"
            ],
            "application/javascript": [
              "window[\"e0e4b3c6-9ea7-11f0-8010-0242ac1c000c\"] = google.colab.output.setActiveOutputArea(window[\"e0c7a312-9ea7-11f0-8010-0242ac1c000c\"]);\n",
              "//# sourceURL=js_3835dce446"
            ]
          },
          "metadata": {}
        },
        {
          "output_type": "display_data",
          "data": {
            "text/plain": [
              "<IPython.core.display.Javascript object>"
            ],
            "application/javascript": [
              "window[\"ee1fa14a-9ea7-11f0-8010-0242ac1c000c\"] = google.colab.output.getActiveOutputArea();\n",
              "//# sourceURL=js_060078172c"
            ]
          },
          "metadata": {}
        },
        {
          "output_type": "display_data",
          "data": {
            "text/plain": [
              "<IPython.core.display.Javascript object>"
            ],
            "application/javascript": [
              "window[\"ee200162-9ea7-11f0-8010-0242ac1c000c\"] = document.querySelector(\"#id4-0-0\");\n",
              "//# sourceURL=js_043168df39"
            ]
          },
          "metadata": {}
        },
        {
          "output_type": "display_data",
          "data": {
            "text/plain": [
              "<IPython.core.display.Javascript object>"
            ],
            "application/javascript": [
              "window[\"ee203f60-9ea7-11f0-8010-0242ac1c000c\"] = google.colab.output.setActiveOutputArea(window[\"ee200162-9ea7-11f0-8010-0242ac1c000c\"]);\n",
              "//# sourceURL=js_2b9d054b5d"
            ]
          },
          "metadata": {}
        },
        {
          "output_type": "display_data",
          "data": {
            "text/plain": [
              "<IPython.core.display.Javascript object>"
            ],
            "application/javascript": [
              "window[\"ee3d193c-9ea7-11f0-8010-0242ac1c000c\"] = google.colab.output.setActiveOutputArea(window[\"ee1fa14a-9ea7-11f0-8010-0242ac1c000c\"]);\n",
              "//# sourceURL=js_e1c97da9a5"
            ]
          },
          "metadata": {}
        },
        {
          "output_type": "display_data",
          "data": {
            "text/plain": [
              "<IPython.core.display.Javascript object>"
            ],
            "application/javascript": [
              "window[\"fb78641c-9ea7-11f0-8010-0242ac1c000c\"] = google.colab.output.getActiveOutputArea();\n",
              "//# sourceURL=js_65207a0a0e"
            ]
          },
          "metadata": {}
        },
        {
          "output_type": "display_data",
          "data": {
            "text/plain": [
              "<IPython.core.display.Javascript object>"
            ],
            "application/javascript": [
              "window[\"fb78b03e-9ea7-11f0-8010-0242ac1c000c\"] = document.querySelector(\"#id4-0-0\");\n",
              "//# sourceURL=js_3fde0a454a"
            ]
          },
          "metadata": {}
        },
        {
          "output_type": "display_data",
          "data": {
            "text/plain": [
              "<IPython.core.display.Javascript object>"
            ],
            "application/javascript": [
              "window[\"fb78e6da-9ea7-11f0-8010-0242ac1c000c\"] = google.colab.output.setActiveOutputArea(window[\"fb78b03e-9ea7-11f0-8010-0242ac1c000c\"]);\n",
              "//# sourceURL=js_7a88c21498"
            ]
          },
          "metadata": {}
        },
        {
          "output_type": "display_data",
          "data": {
            "text/plain": [
              "<IPython.core.display.Javascript object>"
            ],
            "application/javascript": [
              "window[\"fb9561d4-9ea7-11f0-8010-0242ac1c000c\"] = google.colab.output.setActiveOutputArea(window[\"fb78641c-9ea7-11f0-8010-0242ac1c000c\"]);\n",
              "//# sourceURL=js_f6eb9bf82d"
            ]
          },
          "metadata": {}
        },
        {
          "output_type": "display_data",
          "data": {
            "text/plain": [
              "<IPython.core.display.Javascript object>"
            ],
            "application/javascript": [
              "window[\"083eb322-9ea8-11f0-8010-0242ac1c000c\"] = google.colab.output.getActiveOutputArea();\n",
              "//# sourceURL=js_fd1c4c3627"
            ]
          },
          "metadata": {}
        },
        {
          "output_type": "display_data",
          "data": {
            "text/plain": [
              "<IPython.core.display.Javascript object>"
            ],
            "application/javascript": [
              "window[\"083f0048-9ea8-11f0-8010-0242ac1c000c\"] = document.querySelector(\"#id4-0-0\");\n",
              "//# sourceURL=js_d4e1ce61c1"
            ]
          },
          "metadata": {}
        },
        {
          "output_type": "display_data",
          "data": {
            "text/plain": [
              "<IPython.core.display.Javascript object>"
            ],
            "application/javascript": [
              "window[\"083f3928-9ea8-11f0-8010-0242ac1c000c\"] = google.colab.output.setActiveOutputArea(window[\"083f0048-9ea8-11f0-8010-0242ac1c000c\"]);\n",
              "//# sourceURL=js_fe8002868e"
            ]
          },
          "metadata": {}
        },
        {
          "output_type": "display_data",
          "data": {
            "text/plain": [
              "<IPython.core.display.Javascript object>"
            ],
            "application/javascript": [
              "window[\"085bea50-9ea8-11f0-8010-0242ac1c000c\"] = google.colab.output.setActiveOutputArea(window[\"083eb322-9ea8-11f0-8010-0242ac1c000c\"]);\n",
              "//# sourceURL=js_13610839e6"
            ]
          },
          "metadata": {}
        },
        {
          "output_type": "display_data",
          "data": {
            "text/plain": [
              "<IPython.core.display.Javascript object>"
            ],
            "application/javascript": [
              "window[\"15703002-9ea8-11f0-8010-0242ac1c000c\"] = google.colab.output.getActiveOutputArea();\n",
              "//# sourceURL=js_d5cd45deac"
            ]
          },
          "metadata": {}
        },
        {
          "output_type": "display_data",
          "data": {
            "text/plain": [
              "<IPython.core.display.Javascript object>"
            ],
            "application/javascript": [
              "window[\"1570a244-9ea8-11f0-8010-0242ac1c000c\"] = document.querySelector(\"#id4-0-0\");\n",
              "//# sourceURL=js_55e09780d4"
            ]
          },
          "metadata": {}
        },
        {
          "output_type": "display_data",
          "data": {
            "text/plain": [
              "<IPython.core.display.Javascript object>"
            ],
            "application/javascript": [
              "window[\"1570d64c-9ea8-11f0-8010-0242ac1c000c\"] = google.colab.output.setActiveOutputArea(window[\"1570a244-9ea8-11f0-8010-0242ac1c000c\"]);\n",
              "//# sourceURL=js_9af7ca44b4"
            ]
          },
          "metadata": {}
        },
        {
          "output_type": "display_data",
          "data": {
            "text/plain": [
              "<IPython.core.display.Javascript object>"
            ],
            "application/javascript": [
              "window[\"158d4584-9ea8-11f0-8010-0242ac1c000c\"] = google.colab.output.setActiveOutputArea(window[\"15703002-9ea8-11f0-8010-0242ac1c000c\"]);\n",
              "//# sourceURL=js_735b92a97a"
            ]
          },
          "metadata": {}
        },
        {
          "output_type": "display_data",
          "data": {
            "text/plain": [
              "<IPython.core.display.Javascript object>"
            ],
            "application/javascript": [
              "window[\"22f3e9a8-9ea8-11f0-8010-0242ac1c000c\"] = google.colab.output.getActiveOutputArea();\n",
              "//# sourceURL=js_9564410e27"
            ]
          },
          "metadata": {}
        },
        {
          "output_type": "display_data",
          "data": {
            "text/plain": [
              "<IPython.core.display.Javascript object>"
            ],
            "application/javascript": [
              "window[\"22f4281e-9ea8-11f0-8010-0242ac1c000c\"] = document.querySelector(\"#id4-0-0\");\n",
              "//# sourceURL=js_94041de52d"
            ]
          },
          "metadata": {}
        },
        {
          "output_type": "display_data",
          "data": {
            "text/plain": [
              "<IPython.core.display.Javascript object>"
            ],
            "application/javascript": [
              "window[\"22f46572-9ea8-11f0-8010-0242ac1c000c\"] = google.colab.output.setActiveOutputArea(window[\"22f4281e-9ea8-11f0-8010-0242ac1c000c\"]);\n",
              "//# sourceURL=js_811824a05c"
            ]
          },
          "metadata": {}
        },
        {
          "output_type": "display_data",
          "data": {
            "text/plain": [
              "<IPython.core.display.Javascript object>"
            ],
            "application/javascript": [
              "window[\"23110c7c-9ea8-11f0-8010-0242ac1c000c\"] = google.colab.output.setActiveOutputArea(window[\"22f3e9a8-9ea8-11f0-8010-0242ac1c000c\"]);\n",
              "//# sourceURL=js_94e9ae293e"
            ]
          },
          "metadata": {}
        },
        {
          "output_type": "display_data",
          "data": {
            "text/plain": [
              "<IPython.core.display.Javascript object>"
            ],
            "application/javascript": [
              "window[\"303ea3b4-9ea8-11f0-8010-0242ac1c000c\"] = google.colab.output.getActiveOutputArea();\n",
              "//# sourceURL=js_c3bd1dbf5a"
            ]
          },
          "metadata": {}
        },
        {
          "output_type": "display_data",
          "data": {
            "text/plain": [
              "<IPython.core.display.Javascript object>"
            ],
            "application/javascript": [
              "window[\"303f0b38-9ea8-11f0-8010-0242ac1c000c\"] = document.querySelector(\"#id4-0-0\");\n",
              "//# sourceURL=js_52b2d3cc4b"
            ]
          },
          "metadata": {}
        },
        {
          "output_type": "display_data",
          "data": {
            "text/plain": [
              "<IPython.core.display.Javascript object>"
            ],
            "application/javascript": [
              "window[\"303f4cce-9ea8-11f0-8010-0242ac1c000c\"] = google.colab.output.setActiveOutputArea(window[\"303f0b38-9ea8-11f0-8010-0242ac1c000c\"]);\n",
              "//# sourceURL=js_c5094ad858"
            ]
          },
          "metadata": {}
        },
        {
          "output_type": "display_data",
          "data": {
            "text/plain": [
              "<IPython.core.display.Javascript object>"
            ],
            "application/javascript": [
              "window[\"305b55c2-9ea8-11f0-8010-0242ac1c000c\"] = google.colab.output.setActiveOutputArea(window[\"303ea3b4-9ea8-11f0-8010-0242ac1c000c\"]);\n",
              "//# sourceURL=js_56ff43faa6"
            ]
          },
          "metadata": {}
        },
        {
          "output_type": "display_data",
          "data": {
            "text/plain": [
              "<IPython.core.display.Javascript object>"
            ],
            "application/javascript": [
              "window[\"3d6a937c-9ea8-11f0-8010-0242ac1c000c\"] = google.colab.output.getActiveOutputArea();\n",
              "//# sourceURL=js_b49a8089e3"
            ]
          },
          "metadata": {}
        },
        {
          "output_type": "display_data",
          "data": {
            "text/plain": [
              "<IPython.core.display.Javascript object>"
            ],
            "application/javascript": [
              "window[\"3d6ad288-9ea8-11f0-8010-0242ac1c000c\"] = document.querySelector(\"#id4-0-0\");\n",
              "//# sourceURL=js_24923a0276"
            ]
          },
          "metadata": {}
        },
        {
          "output_type": "display_data",
          "data": {
            "text/plain": [
              "<IPython.core.display.Javascript object>"
            ],
            "application/javascript": [
              "window[\"3d6b087a-9ea8-11f0-8010-0242ac1c000c\"] = google.colab.output.setActiveOutputArea(window[\"3d6ad288-9ea8-11f0-8010-0242ac1c000c\"]);\n",
              "//# sourceURL=js_19d43c32f9"
            ]
          },
          "metadata": {}
        },
        {
          "output_type": "display_data",
          "data": {
            "text/plain": [
              "<IPython.core.display.Javascript object>"
            ],
            "application/javascript": [
              "window[\"3d89ff46-9ea8-11f0-8010-0242ac1c000c\"] = google.colab.output.setActiveOutputArea(window[\"3d6a937c-9ea8-11f0-8010-0242ac1c000c\"]);\n",
              "//# sourceURL=js_7e0e919500"
            ]
          },
          "metadata": {}
        },
        {
          "output_type": "display_data",
          "data": {
            "text/plain": [
              "<IPython.core.display.Javascript object>"
            ],
            "application/javascript": [
              "window[\"4a2fbf1a-9ea8-11f0-8010-0242ac1c000c\"] = google.colab.output.getActiveOutputArea();\n",
              "//# sourceURL=js_9ab41b6d43"
            ]
          },
          "metadata": {}
        },
        {
          "output_type": "display_data",
          "data": {
            "text/plain": [
              "<IPython.core.display.Javascript object>"
            ],
            "application/javascript": [
              "window[\"4a30259a-9ea8-11f0-8010-0242ac1c000c\"] = document.querySelector(\"#id4-0-0\");\n",
              "//# sourceURL=js_6be0196cdd"
            ]
          },
          "metadata": {}
        },
        {
          "output_type": "display_data",
          "data": {
            "text/plain": [
              "<IPython.core.display.Javascript object>"
            ],
            "application/javascript": [
              "window[\"4a308c38-9ea8-11f0-8010-0242ac1c000c\"] = google.colab.output.setActiveOutputArea(window[\"4a30259a-9ea8-11f0-8010-0242ac1c000c\"]);\n",
              "//# sourceURL=js_8a96546061"
            ]
          },
          "metadata": {}
        },
        {
          "output_type": "display_data",
          "data": {
            "text/plain": [
              "<IPython.core.display.Javascript object>"
            ],
            "application/javascript": [
              "window[\"4a5a61de-9ea8-11f0-8010-0242ac1c000c\"] = google.colab.output.setActiveOutputArea(window[\"4a2fbf1a-9ea8-11f0-8010-0242ac1c000c\"]);\n",
              "//# sourceURL=js_19f9ee3568"
            ]
          },
          "metadata": {}
        },
        {
          "output_type": "display_data",
          "data": {
            "text/plain": [
              "<IPython.core.display.Javascript object>"
            ],
            "application/javascript": [
              "window[\"573b5d22-9ea8-11f0-8010-0242ac1c000c\"] = google.colab.output.getActiveOutputArea();\n",
              "//# sourceURL=js_6ee4e4635c"
            ]
          },
          "metadata": {}
        },
        {
          "output_type": "display_data",
          "data": {
            "text/plain": [
              "<IPython.core.display.Javascript object>"
            ],
            "application/javascript": [
              "window[\"573baf66-9ea8-11f0-8010-0242ac1c000c\"] = document.querySelector(\"#id4-0-0\");\n",
              "//# sourceURL=js_30ec2c9b70"
            ]
          },
          "metadata": {}
        },
        {
          "output_type": "display_data",
          "data": {
            "text/plain": [
              "<IPython.core.display.Javascript object>"
            ],
            "application/javascript": [
              "window[\"573c0506-9ea8-11f0-8010-0242ac1c000c\"] = google.colab.output.setActiveOutputArea(window[\"573baf66-9ea8-11f0-8010-0242ac1c000c\"]);\n",
              "//# sourceURL=js_b5f2209be9"
            ]
          },
          "metadata": {}
        },
        {
          "output_type": "display_data",
          "data": {
            "text/plain": [
              "<IPython.core.display.Javascript object>"
            ],
            "application/javascript": [
              "window[\"575af7ae-9ea8-11f0-8010-0242ac1c000c\"] = google.colab.output.setActiveOutputArea(window[\"573b5d22-9ea8-11f0-8010-0242ac1c000c\"]);\n",
              "//# sourceURL=js_bd7d90b929"
            ]
          },
          "metadata": {}
        },
        {
          "output_type": "display_data",
          "data": {
            "text/plain": [
              "<IPython.core.display.Javascript object>"
            ],
            "application/javascript": [
              "window[\"64f09a72-9ea8-11f0-8010-0242ac1c000c\"] = google.colab.output.getActiveOutputArea();\n",
              "//# sourceURL=js_b0ec295158"
            ]
          },
          "metadata": {}
        },
        {
          "output_type": "display_data",
          "data": {
            "text/plain": [
              "<IPython.core.display.Javascript object>"
            ],
            "application/javascript": [
              "window[\"64f0dab4-9ea8-11f0-8010-0242ac1c000c\"] = document.querySelector(\"#id4-0-0\");\n",
              "//# sourceURL=js_175c20555b"
            ]
          },
          "metadata": {}
        },
        {
          "output_type": "display_data",
          "data": {
            "text/plain": [
              "<IPython.core.display.Javascript object>"
            ],
            "application/javascript": [
              "window[\"64f117c2-9ea8-11f0-8010-0242ac1c000c\"] = google.colab.output.setActiveOutputArea(window[\"64f0dab4-9ea8-11f0-8010-0242ac1c000c\"]);\n",
              "//# sourceURL=js_d6130186a9"
            ]
          },
          "metadata": {}
        },
        {
          "output_type": "display_data",
          "data": {
            "text/plain": [
              "<IPython.core.display.Javascript object>"
            ],
            "application/javascript": [
              "window[\"650d8ea2-9ea8-11f0-8010-0242ac1c000c\"] = google.colab.output.setActiveOutputArea(window[\"64f09a72-9ea8-11f0-8010-0242ac1c000c\"]);\n",
              "//# sourceURL=js_ded52077ac"
            ]
          },
          "metadata": {}
        },
        {
          "output_type": "display_data",
          "data": {
            "text/plain": [
              "<IPython.core.display.Javascript object>"
            ],
            "application/javascript": [
              "window[\"748cf5c0-9ea8-11f0-8010-0242ac1c000c\"] = google.colab.output.getActiveOutputArea();\n",
              "//# sourceURL=js_230b0ad3b6"
            ]
          },
          "metadata": {}
        },
        {
          "output_type": "display_data",
          "data": {
            "text/plain": [
              "<IPython.core.display.Javascript object>"
            ],
            "application/javascript": [
              "window[\"748d36f2-9ea8-11f0-8010-0242ac1c000c\"] = document.querySelector(\"#id4-0-0\");\n",
              "//# sourceURL=js_f8e48c5277"
            ]
          },
          "metadata": {}
        },
        {
          "output_type": "display_data",
          "data": {
            "text/plain": [
              "<IPython.core.display.Javascript object>"
            ],
            "application/javascript": [
              "window[\"748d6e1a-9ea8-11f0-8010-0242ac1c000c\"] = google.colab.output.setActiveOutputArea(window[\"748d36f2-9ea8-11f0-8010-0242ac1c000c\"]);\n",
              "//# sourceURL=js_04826ed495"
            ]
          },
          "metadata": {}
        },
        {
          "output_type": "display_data",
          "data": {
            "text/plain": [
              "<IPython.core.display.Javascript object>"
            ],
            "application/javascript": [
              "window[\"74ad46fe-9ea8-11f0-8010-0242ac1c000c\"] = google.colab.output.setActiveOutputArea(window[\"748cf5c0-9ea8-11f0-8010-0242ac1c000c\"]);\n",
              "//# sourceURL=js_221771e57d"
            ]
          },
          "metadata": {}
        },
        {
          "output_type": "display_data",
          "data": {
            "text/plain": [
              "<IPython.core.display.Javascript object>"
            ],
            "application/javascript": [
              "window[\"822c5f68-9ea8-11f0-8010-0242ac1c000c\"] = google.colab.output.getActiveOutputArea();\n",
              "//# sourceURL=js_7ca87bcf77"
            ]
          },
          "metadata": {}
        },
        {
          "output_type": "display_data",
          "data": {
            "text/plain": [
              "<IPython.core.display.Javascript object>"
            ],
            "application/javascript": [
              "window[\"822c9f46-9ea8-11f0-8010-0242ac1c000c\"] = document.querySelector(\"#id4-0-0\");\n",
              "//# sourceURL=js_de6b3dba44"
            ]
          },
          "metadata": {}
        },
        {
          "output_type": "display_data",
          "data": {
            "text/plain": [
              "<IPython.core.display.Javascript object>"
            ],
            "application/javascript": [
              "window[\"822cc796-9ea8-11f0-8010-0242ac1c000c\"] = google.colab.output.setActiveOutputArea(window[\"822c9f46-9ea8-11f0-8010-0242ac1c000c\"]);\n",
              "//# sourceURL=js_9047d38fad"
            ]
          },
          "metadata": {}
        },
        {
          "output_type": "display_data",
          "data": {
            "text/plain": [
              "<IPython.core.display.Javascript object>"
            ],
            "application/javascript": [
              "window[\"824913ec-9ea8-11f0-8010-0242ac1c000c\"] = google.colab.output.setActiveOutputArea(window[\"822c5f68-9ea8-11f0-8010-0242ac1c000c\"]);\n",
              "//# sourceURL=js_4158e9b335"
            ]
          },
          "metadata": {}
        },
        {
          "output_type": "display_data",
          "data": {
            "text/plain": [
              "<IPython.core.display.Javascript object>"
            ],
            "application/javascript": [
              "window[\"9008c1c6-9ea8-11f0-8010-0242ac1c000c\"] = google.colab.output.getActiveOutputArea();\n",
              "//# sourceURL=js_4563586dcb"
            ]
          },
          "metadata": {}
        },
        {
          "output_type": "display_data",
          "data": {
            "text/plain": [
              "<IPython.core.display.Javascript object>"
            ],
            "application/javascript": [
              "window[\"90090898-9ea8-11f0-8010-0242ac1c000c\"] = document.querySelector(\"#id4-0-0\");\n",
              "//# sourceURL=js_c513460f68"
            ]
          },
          "metadata": {}
        },
        {
          "output_type": "display_data",
          "data": {
            "text/plain": [
              "<IPython.core.display.Javascript object>"
            ],
            "application/javascript": [
              "window[\"900939e4-9ea8-11f0-8010-0242ac1c000c\"] = google.colab.output.setActiveOutputArea(window[\"90090898-9ea8-11f0-8010-0242ac1c000c\"]);\n",
              "//# sourceURL=js_dc41821ee2"
            ]
          },
          "metadata": {}
        },
        {
          "output_type": "display_data",
          "data": {
            "text/plain": [
              "<IPython.core.display.Javascript object>"
            ],
            "application/javascript": [
              "window[\"90264cdc-9ea8-11f0-8010-0242ac1c000c\"] = google.colab.output.setActiveOutputArea(window[\"9008c1c6-9ea8-11f0-8010-0242ac1c000c\"]);\n",
              "//# sourceURL=js_faaeda4315"
            ]
          },
          "metadata": {}
        },
        {
          "output_type": "display_data",
          "data": {
            "text/plain": [
              "<IPython.core.display.Javascript object>"
            ],
            "application/javascript": [
              "window[\"9d6b40e6-9ea8-11f0-8010-0242ac1c000c\"] = google.colab.output.getActiveOutputArea();\n",
              "//# sourceURL=js_d3786251d9"
            ]
          },
          "metadata": {}
        },
        {
          "output_type": "display_data",
          "data": {
            "text/plain": [
              "<IPython.core.display.Javascript object>"
            ],
            "application/javascript": [
              "window[\"9d6b9776-9ea8-11f0-8010-0242ac1c000c\"] = document.querySelector(\"#id4-0-0\");\n",
              "//# sourceURL=js_3cb14e5b63"
            ]
          },
          "metadata": {}
        },
        {
          "output_type": "display_data",
          "data": {
            "text/plain": [
              "<IPython.core.display.Javascript object>"
            ],
            "application/javascript": [
              "window[\"9d6bd8ee-9ea8-11f0-8010-0242ac1c000c\"] = google.colab.output.setActiveOutputArea(window[\"9d6b9776-9ea8-11f0-8010-0242ac1c000c\"]);\n",
              "//# sourceURL=js_d3284e7a04"
            ]
          },
          "metadata": {}
        },
        {
          "output_type": "display_data",
          "data": {
            "text/plain": [
              "<IPython.core.display.Javascript object>"
            ],
            "application/javascript": [
              "window[\"9d889d6c-9ea8-11f0-8010-0242ac1c000c\"] = google.colab.output.setActiveOutputArea(window[\"9d6b40e6-9ea8-11f0-8010-0242ac1c000c\"]);\n",
              "//# sourceURL=js_06898affeb"
            ]
          },
          "metadata": {}
        },
        {
          "output_type": "display_data",
          "data": {
            "text/plain": [
              "<IPython.core.display.Javascript object>"
            ],
            "application/javascript": [
              "window[\"ab28ad5e-9ea8-11f0-8010-0242ac1c000c\"] = google.colab.output.getActiveOutputArea();\n",
              "//# sourceURL=js_9bd881a707"
            ]
          },
          "metadata": {}
        },
        {
          "output_type": "display_data",
          "data": {
            "text/plain": [
              "<IPython.core.display.Javascript object>"
            ],
            "application/javascript": [
              "window[\"ab28ec9c-9ea8-11f0-8010-0242ac1c000c\"] = document.querySelector(\"#id4-0-0\");\n",
              "//# sourceURL=js_c8e4004ee5"
            ]
          },
          "metadata": {}
        },
        {
          "output_type": "display_data",
          "data": {
            "text/plain": [
              "<IPython.core.display.Javascript object>"
            ],
            "application/javascript": [
              "window[\"ab29296e-9ea8-11f0-8010-0242ac1c000c\"] = google.colab.output.setActiveOutputArea(window[\"ab28ec9c-9ea8-11f0-8010-0242ac1c000c\"]);\n",
              "//# sourceURL=js_cce4bb598e"
            ]
          },
          "metadata": {}
        },
        {
          "output_type": "display_data",
          "data": {
            "text/plain": [
              "<IPython.core.display.Javascript object>"
            ],
            "application/javascript": [
              "window[\"ab48218e-9ea8-11f0-8010-0242ac1c000c\"] = google.colab.output.setActiveOutputArea(window[\"ab28ad5e-9ea8-11f0-8010-0242ac1c000c\"]);\n",
              "//# sourceURL=js_31b26fd0e1"
            ]
          },
          "metadata": {}
        },
        {
          "output_type": "display_data",
          "data": {
            "text/plain": [
              "<IPython.core.display.Javascript object>"
            ],
            "application/javascript": [
              "window[\"b912dd90-9ea8-11f0-8010-0242ac1c000c\"] = google.colab.output.getActiveOutputArea();\n",
              "//# sourceURL=js_998229992d"
            ]
          },
          "metadata": {}
        },
        {
          "output_type": "display_data",
          "data": {
            "text/plain": [
              "<IPython.core.display.Javascript object>"
            ],
            "application/javascript": [
              "window[\"b9134a28-9ea8-11f0-8010-0242ac1c000c\"] = document.querySelector(\"#id4-0-0\");\n",
              "//# sourceURL=js_b55e2685e1"
            ]
          },
          "metadata": {}
        },
        {
          "output_type": "display_data",
          "data": {
            "text/plain": [
              "<IPython.core.display.Javascript object>"
            ],
            "application/javascript": [
              "window[\"b913942e-9ea8-11f0-8010-0242ac1c000c\"] = google.colab.output.setActiveOutputArea(window[\"b9134a28-9ea8-11f0-8010-0242ac1c000c\"]);\n",
              "//# sourceURL=js_377a497e7c"
            ]
          },
          "metadata": {}
        },
        {
          "output_type": "display_data",
          "data": {
            "text/plain": [
              "<IPython.core.display.Javascript object>"
            ],
            "application/javascript": [
              "window[\"b930b5f4-9ea8-11f0-8010-0242ac1c000c\"] = google.colab.output.setActiveOutputArea(window[\"b912dd90-9ea8-11f0-8010-0242ac1c000c\"]);\n",
              "//# sourceURL=js_302e81403a"
            ]
          },
          "metadata": {}
        },
        {
          "output_type": "display_data",
          "data": {
            "text/plain": [
              "<IPython.core.display.Javascript object>"
            ],
            "application/javascript": [
              "window[\"c63de6b8-9ea8-11f0-8010-0242ac1c000c\"] = google.colab.output.getActiveOutputArea();\n",
              "//# sourceURL=js_4804bafb9c"
            ]
          },
          "metadata": {}
        },
        {
          "output_type": "display_data",
          "data": {
            "text/plain": [
              "<IPython.core.display.Javascript object>"
            ],
            "application/javascript": [
              "window[\"c63e2524-9ea8-11f0-8010-0242ac1c000c\"] = document.querySelector(\"#id4-0-0\");\n",
              "//# sourceURL=js_74f23432bb"
            ]
          },
          "metadata": {}
        },
        {
          "output_type": "display_data",
          "data": {
            "text/plain": [
              "<IPython.core.display.Javascript object>"
            ],
            "application/javascript": [
              "window[\"c63e7088-9ea8-11f0-8010-0242ac1c000c\"] = google.colab.output.setActiveOutputArea(window[\"c63e2524-9ea8-11f0-8010-0242ac1c000c\"]);\n",
              "//# sourceURL=js_e044d8b914"
            ]
          },
          "metadata": {}
        },
        {
          "output_type": "display_data",
          "data": {
            "text/plain": [
              "<IPython.core.display.Javascript object>"
            ],
            "application/javascript": [
              "window[\"c665d844-9ea8-11f0-8010-0242ac1c000c\"] = google.colab.output.setActiveOutputArea(window[\"c63de6b8-9ea8-11f0-8010-0242ac1c000c\"]);\n",
              "//# sourceURL=js_16179857a9"
            ]
          },
          "metadata": {}
        },
        {
          "output_type": "display_data",
          "data": {
            "text/plain": [
              "<IPython.core.display.Javascript object>"
            ],
            "application/javascript": [
              "window[\"d368ffda-9ea8-11f0-8010-0242ac1c000c\"] = google.colab.output.getActiveOutputArea();\n",
              "//# sourceURL=js_528aac1d4c"
            ]
          },
          "metadata": {}
        },
        {
          "output_type": "display_data",
          "data": {
            "text/plain": [
              "<IPython.core.display.Javascript object>"
            ],
            "application/javascript": [
              "window[\"d3695d5e-9ea8-11f0-8010-0242ac1c000c\"] = document.querySelector(\"#id4-0-0\");\n",
              "//# sourceURL=js_fe73f52653"
            ]
          },
          "metadata": {}
        },
        {
          "output_type": "display_data",
          "data": {
            "text/plain": [
              "<IPython.core.display.Javascript object>"
            ],
            "application/javascript": [
              "window[\"d369be02-9ea8-11f0-8010-0242ac1c000c\"] = google.colab.output.setActiveOutputArea(window[\"d3695d5e-9ea8-11f0-8010-0242ac1c000c\"]);\n",
              "//# sourceURL=js_e0e7e95e6f"
            ]
          },
          "metadata": {}
        },
        {
          "output_type": "display_data",
          "data": {
            "text/plain": [
              "<IPython.core.display.Javascript object>"
            ],
            "application/javascript": [
              "window[\"d388acae-9ea8-11f0-8010-0242ac1c000c\"] = google.colab.output.setActiveOutputArea(window[\"d368ffda-9ea8-11f0-8010-0242ac1c000c\"]);\n",
              "//# sourceURL=js_a07bfc193b"
            ]
          },
          "metadata": {}
        },
        {
          "output_type": "display_data",
          "data": {
            "text/plain": [
              "<IPython.core.display.Javascript object>"
            ],
            "application/javascript": [
              "window[\"e0b87a4e-9ea8-11f0-8010-0242ac1c000c\"] = google.colab.output.getActiveOutputArea();\n",
              "//# sourceURL=js_b2ad7a9dc1"
            ]
          },
          "metadata": {}
        },
        {
          "output_type": "display_data",
          "data": {
            "text/plain": [
              "<IPython.core.display.Javascript object>"
            ],
            "application/javascript": [
              "window[\"e0b8dcb4-9ea8-11f0-8010-0242ac1c000c\"] = document.querySelector(\"#id4-0-0\");\n",
              "//# sourceURL=js_a5fa28ceac"
            ]
          },
          "metadata": {}
        },
        {
          "output_type": "display_data",
          "data": {
            "text/plain": [
              "<IPython.core.display.Javascript object>"
            ],
            "application/javascript": [
              "window[\"e0b91bde-9ea8-11f0-8010-0242ac1c000c\"] = google.colab.output.setActiveOutputArea(window[\"e0b8dcb4-9ea8-11f0-8010-0242ac1c000c\"]);\n",
              "//# sourceURL=js_8161369c7b"
            ]
          },
          "metadata": {}
        },
        {
          "output_type": "display_data",
          "data": {
            "text/plain": [
              "<IPython.core.display.Javascript object>"
            ],
            "application/javascript": [
              "window[\"e0d5b000-9ea8-11f0-8010-0242ac1c000c\"] = google.colab.output.setActiveOutputArea(window[\"e0b87a4e-9ea8-11f0-8010-0242ac1c000c\"]);\n",
              "//# sourceURL=js_e9c8f02c65"
            ]
          },
          "metadata": {}
        },
        {
          "output_type": "display_data",
          "data": {
            "text/plain": [
              "<IPython.core.display.Javascript object>"
            ],
            "application/javascript": [
              "window[\"ee1f467c-9ea8-11f0-8010-0242ac1c000c\"] = google.colab.output.getActiveOutputArea();\n",
              "//# sourceURL=js_1f68c43a82"
            ]
          },
          "metadata": {}
        },
        {
          "output_type": "display_data",
          "data": {
            "text/plain": [
              "<IPython.core.display.Javascript object>"
            ],
            "application/javascript": [
              "window[\"ee1f8c40-9ea8-11f0-8010-0242ac1c000c\"] = document.querySelector(\"#id4-0-0\");\n",
              "//# sourceURL=js_0c2fffa269"
            ]
          },
          "metadata": {}
        },
        {
          "output_type": "display_data",
          "data": {
            "text/plain": [
              "<IPython.core.display.Javascript object>"
            ],
            "application/javascript": [
              "window[\"ee1fb38c-9ea8-11f0-8010-0242ac1c000c\"] = google.colab.output.setActiveOutputArea(window[\"ee1f8c40-9ea8-11f0-8010-0242ac1c000c\"]);\n",
              "//# sourceURL=js_88a95bda8d"
            ]
          },
          "metadata": {}
        },
        {
          "output_type": "display_data",
          "data": {
            "text/plain": [
              "<IPython.core.display.Javascript object>"
            ],
            "application/javascript": [
              "window[\"ee3b8256-9ea8-11f0-8010-0242ac1c000c\"] = google.colab.output.setActiveOutputArea(window[\"ee1f467c-9ea8-11f0-8010-0242ac1c000c\"]);\n",
              "//# sourceURL=js_5706162ad4"
            ]
          },
          "metadata": {}
        },
        {
          "output_type": "display_data",
          "data": {
            "text/plain": [
              "<IPython.core.display.Javascript object>"
            ],
            "application/javascript": [
              "window[\"fc2590e6-9ea8-11f0-8010-0242ac1c000c\"] = google.colab.output.getActiveOutputArea();\n",
              "//# sourceURL=js_f01454dab5"
            ]
          },
          "metadata": {}
        },
        {
          "output_type": "display_data",
          "data": {
            "text/plain": [
              "<IPython.core.display.Javascript object>"
            ],
            "application/javascript": [
              "window[\"fc25ccc8-9ea8-11f0-8010-0242ac1c000c\"] = document.querySelector(\"#id4-0-0\");\n",
              "//# sourceURL=js_59ab2e4681"
            ]
          },
          "metadata": {}
        },
        {
          "output_type": "display_data",
          "data": {
            "text/plain": [
              "<IPython.core.display.Javascript object>"
            ],
            "application/javascript": [
              "window[\"fc25fa2c-9ea8-11f0-8010-0242ac1c000c\"] = google.colab.output.setActiveOutputArea(window[\"fc25ccc8-9ea8-11f0-8010-0242ac1c000c\"]);\n",
              "//# sourceURL=js_b253412bc5"
            ]
          },
          "metadata": {}
        },
        {
          "output_type": "display_data",
          "data": {
            "text/plain": [
              "<IPython.core.display.Javascript object>"
            ],
            "application/javascript": [
              "window[\"fc4230a2-9ea8-11f0-8010-0242ac1c000c\"] = google.colab.output.setActiveOutputArea(window[\"fc2590e6-9ea8-11f0-8010-0242ac1c000c\"]);\n",
              "//# sourceURL=js_b984cbe1e4"
            ]
          },
          "metadata": {}
        },
        {
          "output_type": "display_data",
          "data": {
            "text/plain": [
              "<IPython.core.display.Javascript object>"
            ],
            "application/javascript": [
              "window[\"09dbe5f0-9ea9-11f0-8010-0242ac1c000c\"] = google.colab.output.getActiveOutputArea();\n",
              "//# sourceURL=js_4682d4b669"
            ]
          },
          "metadata": {}
        },
        {
          "output_type": "display_data",
          "data": {
            "text/plain": [
              "<IPython.core.display.Javascript object>"
            ],
            "application/javascript": [
              "window[\"09dc59ae-9ea9-11f0-8010-0242ac1c000c\"] = document.querySelector(\"#id4-0-0\");\n",
              "//# sourceURL=js_596a8340f8"
            ]
          },
          "metadata": {}
        },
        {
          "output_type": "display_data",
          "data": {
            "text/plain": [
              "<IPython.core.display.Javascript object>"
            ],
            "application/javascript": [
              "window[\"09dca71a-9ea9-11f0-8010-0242ac1c000c\"] = google.colab.output.setActiveOutputArea(window[\"09dc59ae-9ea9-11f0-8010-0242ac1c000c\"]);\n",
              "//# sourceURL=js_e2e0826dbd"
            ]
          },
          "metadata": {}
        },
        {
          "output_type": "display_data",
          "data": {
            "text/plain": [
              "<IPython.core.display.Javascript object>"
            ],
            "application/javascript": [
              "window[\"09fb7f28-9ea9-11f0-8010-0242ac1c000c\"] = google.colab.output.setActiveOutputArea(window[\"09dbe5f0-9ea9-11f0-8010-0242ac1c000c\"]);\n",
              "//# sourceURL=js_74afa2b8c7"
            ]
          },
          "metadata": {}
        },
        {
          "output_type": "display_data",
          "data": {
            "text/plain": [
              "<IPython.core.display.Javascript object>"
            ],
            "application/javascript": [
              "window[\"179a6c84-9ea9-11f0-8010-0242ac1c000c\"] = google.colab.output.getActiveOutputArea();\n",
              "//# sourceURL=js_193cd3b52b"
            ]
          },
          "metadata": {}
        },
        {
          "output_type": "display_data",
          "data": {
            "text/plain": [
              "<IPython.core.display.Javascript object>"
            ],
            "application/javascript": [
              "window[\"179ac15c-9ea9-11f0-8010-0242ac1c000c\"] = document.querySelector(\"#id4-0-0\");\n",
              "//# sourceURL=js_4e8920e42b"
            ]
          },
          "metadata": {}
        },
        {
          "output_type": "display_data",
          "data": {
            "text/plain": [
              "<IPython.core.display.Javascript object>"
            ],
            "application/javascript": [
              "window[\"179afa64-9ea9-11f0-8010-0242ac1c000c\"] = google.colab.output.setActiveOutputArea(window[\"179ac15c-9ea9-11f0-8010-0242ac1c000c\"]);\n",
              "//# sourceURL=js_fd37c9450c"
            ]
          },
          "metadata": {}
        },
        {
          "output_type": "display_data",
          "data": {
            "text/plain": [
              "<IPython.core.display.Javascript object>"
            ],
            "application/javascript": [
              "window[\"17b7f4ca-9ea9-11f0-8010-0242ac1c000c\"] = google.colab.output.setActiveOutputArea(window[\"179a6c84-9ea9-11f0-8010-0242ac1c000c\"]);\n",
              "//# sourceURL=js_67a16fd95e"
            ]
          },
          "metadata": {}
        },
        {
          "output_type": "display_data",
          "data": {
            "text/plain": [
              "<IPython.core.display.Javascript object>"
            ],
            "application/javascript": [
              "window[\"245e00a2-9ea9-11f0-8010-0242ac1c000c\"] = google.colab.output.getActiveOutputArea();\n",
              "//# sourceURL=js_e8815f35d6"
            ]
          },
          "metadata": {}
        },
        {
          "output_type": "display_data",
          "data": {
            "text/plain": [
              "<IPython.core.display.Javascript object>"
            ],
            "application/javascript": [
              "window[\"245e47b0-9ea9-11f0-8010-0242ac1c000c\"] = document.querySelector(\"#id4-0-0\");\n",
              "//# sourceURL=js_6623e09fb8"
            ]
          },
          "metadata": {}
        },
        {
          "output_type": "display_data",
          "data": {
            "text/plain": [
              "<IPython.core.display.Javascript object>"
            ],
            "application/javascript": [
              "window[\"245e7974-9ea9-11f0-8010-0242ac1c000c\"] = google.colab.output.setActiveOutputArea(window[\"245e47b0-9ea9-11f0-8010-0242ac1c000c\"]);\n",
              "//# sourceURL=js_ce15ba958b"
            ]
          },
          "metadata": {}
        },
        {
          "output_type": "display_data",
          "data": {
            "text/plain": [
              "<IPython.core.display.Javascript object>"
            ],
            "application/javascript": [
              "window[\"247b5594-9ea9-11f0-8010-0242ac1c000c\"] = google.colab.output.setActiveOutputArea(window[\"245e00a2-9ea9-11f0-8010-0242ac1c000c\"]);\n",
              "//# sourceURL=js_ced750632d"
            ]
          },
          "metadata": {}
        },
        {
          "output_type": "display_data",
          "data": {
            "text/plain": [
              "<IPython.core.display.Javascript object>"
            ],
            "application/javascript": [
              "window[\"31f98fec-9ea9-11f0-8010-0242ac1c000c\"] = google.colab.output.getActiveOutputArea();\n",
              "//# sourceURL=js_0281c6c212"
            ]
          },
          "metadata": {}
        },
        {
          "output_type": "display_data",
          "data": {
            "text/plain": [
              "<IPython.core.display.Javascript object>"
            ],
            "application/javascript": [
              "window[\"31f9d2ae-9ea9-11f0-8010-0242ac1c000c\"] = document.querySelector(\"#id4-0-0\");\n",
              "//# sourceURL=js_88804caabc"
            ]
          },
          "metadata": {}
        },
        {
          "output_type": "display_data",
          "data": {
            "text/plain": [
              "<IPython.core.display.Javascript object>"
            ],
            "application/javascript": [
              "window[\"31fa1340-9ea9-11f0-8010-0242ac1c000c\"] = google.colab.output.setActiveOutputArea(window[\"31f9d2ae-9ea9-11f0-8010-0242ac1c000c\"]);\n",
              "//# sourceURL=js_7e88e04f1f"
            ]
          },
          "metadata": {}
        },
        {
          "output_type": "display_data",
          "data": {
            "text/plain": [
              "<IPython.core.display.Javascript object>"
            ],
            "application/javascript": [
              "window[\"3217086a-9ea9-11f0-8010-0242ac1c000c\"] = google.colab.output.setActiveOutputArea(window[\"31f98fec-9ea9-11f0-8010-0242ac1c000c\"]);\n",
              "//# sourceURL=js_85db123e67"
            ]
          },
          "metadata": {}
        },
        {
          "output_type": "display_data",
          "data": {
            "text/plain": [
              "<IPython.core.display.Javascript object>"
            ],
            "application/javascript": [
              "window[\"4041c8ee-9ea9-11f0-8010-0242ac1c000c\"] = google.colab.output.getActiveOutputArea();\n",
              "//# sourceURL=js_b2494c2fd7"
            ]
          },
          "metadata": {}
        },
        {
          "output_type": "display_data",
          "data": {
            "text/plain": [
              "<IPython.core.display.Javascript object>"
            ],
            "application/javascript": [
              "window[\"4042087c-9ea9-11f0-8010-0242ac1c000c\"] = document.querySelector(\"#id4-0-0\");\n",
              "//# sourceURL=js_6b0d3523f5"
            ]
          },
          "metadata": {}
        },
        {
          "output_type": "display_data",
          "data": {
            "text/plain": [
              "<IPython.core.display.Javascript object>"
            ],
            "application/javascript": [
              "window[\"40423a04-9ea9-11f0-8010-0242ac1c000c\"] = google.colab.output.setActiveOutputArea(window[\"4042087c-9ea9-11f0-8010-0242ac1c000c\"]);\n",
              "//# sourceURL=js_6b43de9b82"
            ]
          },
          "metadata": {}
        },
        {
          "output_type": "display_data",
          "data": {
            "text/plain": [
              "<IPython.core.display.Javascript object>"
            ],
            "application/javascript": [
              "window[\"405efe6e-9ea9-11f0-8010-0242ac1c000c\"] = google.colab.output.setActiveOutputArea(window[\"4041c8ee-9ea9-11f0-8010-0242ac1c000c\"]);\n",
              "//# sourceURL=js_eb8525759b"
            ]
          },
          "metadata": {}
        },
        {
          "output_type": "display_data",
          "data": {
            "text/plain": [
              "<IPython.core.display.Javascript object>"
            ],
            "application/javascript": [
              "window[\"4e116d12-9ea9-11f0-8010-0242ac1c000c\"] = google.colab.output.getActiveOutputArea();\n",
              "//# sourceURL=js_e3c33ceb3b"
            ]
          },
          "metadata": {}
        },
        {
          "output_type": "display_data",
          "data": {
            "text/plain": [
              "<IPython.core.display.Javascript object>"
            ],
            "application/javascript": [
              "window[\"4e11ca14-9ea9-11f0-8010-0242ac1c000c\"] = document.querySelector(\"#id4-0-0\");\n",
              "//# sourceURL=js_7c87f69166"
            ]
          },
          "metadata": {}
        },
        {
          "output_type": "display_data",
          "data": {
            "text/plain": [
              "<IPython.core.display.Javascript object>"
            ],
            "application/javascript": [
              "window[\"4e11f9a8-9ea9-11f0-8010-0242ac1c000c\"] = google.colab.output.setActiveOutputArea(window[\"4e11ca14-9ea9-11f0-8010-0242ac1c000c\"]);\n",
              "//# sourceURL=js_68554cf2bc"
            ]
          },
          "metadata": {}
        },
        {
          "output_type": "display_data",
          "data": {
            "text/plain": [
              "<IPython.core.display.Javascript object>"
            ],
            "application/javascript": [
              "window[\"4e2f2122-9ea9-11f0-8010-0242ac1c000c\"] = google.colab.output.setActiveOutputArea(window[\"4e116d12-9ea9-11f0-8010-0242ac1c000c\"]);\n",
              "//# sourceURL=js_553544f86c"
            ]
          },
          "metadata": {}
        },
        {
          "output_type": "display_data",
          "data": {
            "text/plain": [
              "<IPython.core.display.Javascript object>"
            ],
            "application/javascript": [
              "window[\"5ba3739e-9ea9-11f0-8010-0242ac1c000c\"] = google.colab.output.getActiveOutputArea();\n",
              "//# sourceURL=js_bfb1e89b79"
            ]
          },
          "metadata": {}
        },
        {
          "output_type": "display_data",
          "data": {
            "text/plain": [
              "<IPython.core.display.Javascript object>"
            ],
            "application/javascript": [
              "window[\"5ba3db04-9ea9-11f0-8010-0242ac1c000c\"] = document.querySelector(\"#id4-0-0\");\n",
              "//# sourceURL=js_de21a77e1b"
            ]
          },
          "metadata": {}
        },
        {
          "output_type": "display_data",
          "data": {
            "text/plain": [
              "<IPython.core.display.Javascript object>"
            ],
            "application/javascript": [
              "window[\"5ba46592-9ea9-11f0-8010-0242ac1c000c\"] = google.colab.output.setActiveOutputArea(window[\"5ba3db04-9ea9-11f0-8010-0242ac1c000c\"]);\n",
              "//# sourceURL=js_ef4effcaf6"
            ]
          },
          "metadata": {}
        },
        {
          "output_type": "display_data",
          "data": {
            "text/plain": [
              "<IPython.core.display.Javascript object>"
            ],
            "application/javascript": [
              "window[\"5bc15166-9ea9-11f0-8010-0242ac1c000c\"] = google.colab.output.setActiveOutputArea(window[\"5ba3739e-9ea9-11f0-8010-0242ac1c000c\"]);\n",
              "//# sourceURL=js_decc29f79d"
            ]
          },
          "metadata": {}
        },
        {
          "output_type": "display_data",
          "data": {
            "text/plain": [
              "<IPython.core.display.Javascript object>"
            ],
            "application/javascript": [
              "window[\"68fa6e62-9ea9-11f0-8010-0242ac1c000c\"] = google.colab.output.getActiveOutputArea();\n",
              "//# sourceURL=js_972160551b"
            ]
          },
          "metadata": {}
        },
        {
          "output_type": "display_data",
          "data": {
            "text/plain": [
              "<IPython.core.display.Javascript object>"
            ],
            "application/javascript": [
              "window[\"68fad550-9ea9-11f0-8010-0242ac1c000c\"] = document.querySelector(\"#id4-0-0\");\n",
              "//# sourceURL=js_3f7da74fdd"
            ]
          },
          "metadata": {}
        },
        {
          "output_type": "display_data",
          "data": {
            "text/plain": [
              "<IPython.core.display.Javascript object>"
            ],
            "application/javascript": [
              "window[\"68fb33d8-9ea9-11f0-8010-0242ac1c000c\"] = google.colab.output.setActiveOutputArea(window[\"68fad550-9ea9-11f0-8010-0242ac1c000c\"]);\n",
              "//# sourceURL=js_458117587f"
            ]
          },
          "metadata": {}
        },
        {
          "output_type": "display_data",
          "data": {
            "text/plain": [
              "<IPython.core.display.Javascript object>"
            ],
            "application/javascript": [
              "window[\"691824e8-9ea9-11f0-8010-0242ac1c000c\"] = google.colab.output.setActiveOutputArea(window[\"68fa6e62-9ea9-11f0-8010-0242ac1c000c\"]);\n",
              "//# sourceURL=js_f1921fd9eb"
            ]
          },
          "metadata": {}
        },
        {
          "output_type": "display_data",
          "data": {
            "text/plain": [
              "<IPython.core.display.Javascript object>"
            ],
            "application/javascript": [
              "window[\"763f7784-9ea9-11f0-8010-0242ac1c000c\"] = google.colab.output.getActiveOutputArea();\n",
              "//# sourceURL=js_b0efff7c3c"
            ]
          },
          "metadata": {}
        },
        {
          "output_type": "display_data",
          "data": {
            "text/plain": [
              "<IPython.core.display.Javascript object>"
            ],
            "application/javascript": [
              "window[\"763fba78-9ea9-11f0-8010-0242ac1c000c\"] = document.querySelector(\"#id4-0-0\");\n",
              "//# sourceURL=js_1d4d02888b"
            ]
          },
          "metadata": {}
        },
        {
          "output_type": "display_data",
          "data": {
            "text/plain": [
              "<IPython.core.display.Javascript object>"
            ],
            "application/javascript": [
              "window[\"763ffb64-9ea9-11f0-8010-0242ac1c000c\"] = google.colab.output.setActiveOutputArea(window[\"763fba78-9ea9-11f0-8010-0242ac1c000c\"]);\n",
              "//# sourceURL=js_d81bb90cad"
            ]
          },
          "metadata": {}
        },
        {
          "output_type": "display_data",
          "data": {
            "text/plain": [
              "<IPython.core.display.Javascript object>"
            ],
            "application/javascript": [
              "window[\"768cf18a-9ea9-11f0-8010-0242ac1c000c\"] = google.colab.output.setActiveOutputArea(window[\"763f7784-9ea9-11f0-8010-0242ac1c000c\"]);\n",
              "//# sourceURL=js_cba156b5f3"
            ]
          },
          "metadata": {}
        },
        {
          "output_type": "display_data",
          "data": {
            "text/plain": [
              "<IPython.core.display.Javascript object>"
            ],
            "application/javascript": [
              "window[\"841b8b90-9ea9-11f0-8010-0242ac1c000c\"] = google.colab.output.getActiveOutputArea();\n",
              "//# sourceURL=js_2e9ad3d07d"
            ]
          },
          "metadata": {}
        },
        {
          "output_type": "display_data",
          "data": {
            "text/plain": [
              "<IPython.core.display.Javascript object>"
            ],
            "application/javascript": [
              "window[\"841bcdda-9ea9-11f0-8010-0242ac1c000c\"] = document.querySelector(\"#id4-0-0\");\n",
              "//# sourceURL=js_7a9e792b0c"
            ]
          },
          "metadata": {}
        },
        {
          "output_type": "display_data",
          "data": {
            "text/plain": [
              "<IPython.core.display.Javascript object>"
            ],
            "application/javascript": [
              "window[\"841c0688-9ea9-11f0-8010-0242ac1c000c\"] = google.colab.output.setActiveOutputArea(window[\"841bcdda-9ea9-11f0-8010-0242ac1c000c\"]);\n",
              "//# sourceURL=js_b1130dc61c"
            ]
          },
          "metadata": {}
        },
        {
          "output_type": "display_data",
          "data": {
            "text/plain": [
              "<IPython.core.display.Javascript object>"
            ],
            "application/javascript": [
              "window[\"8448eda6-9ea9-11f0-8010-0242ac1c000c\"] = google.colab.output.setActiveOutputArea(window[\"841b8b90-9ea9-11f0-8010-0242ac1c000c\"]);\n",
              "//# sourceURL=js_baf9be9c9d"
            ]
          },
          "metadata": {}
        },
        {
          "output_type": "display_data",
          "data": {
            "text/plain": [
              "<IPython.core.display.Javascript object>"
            ],
            "application/javascript": [
              "window[\"9170f9ce-9ea9-11f0-8010-0242ac1c000c\"] = google.colab.output.getActiveOutputArea();\n",
              "//# sourceURL=js_623d3b8861"
            ]
          },
          "metadata": {}
        },
        {
          "output_type": "display_data",
          "data": {
            "text/plain": [
              "<IPython.core.display.Javascript object>"
            ],
            "application/javascript": [
              "window[\"917143ac-9ea9-11f0-8010-0242ac1c000c\"] = document.querySelector(\"#id4-0-0\");\n",
              "//# sourceURL=js_ed227a7515"
            ]
          },
          "metadata": {}
        },
        {
          "output_type": "display_data",
          "data": {
            "text/plain": [
              "<IPython.core.display.Javascript object>"
            ],
            "application/javascript": [
              "window[\"91716ba2-9ea9-11f0-8010-0242ac1c000c\"] = google.colab.output.setActiveOutputArea(window[\"917143ac-9ea9-11f0-8010-0242ac1c000c\"]);\n",
              "//# sourceURL=js_071b5a7455"
            ]
          },
          "metadata": {}
        },
        {
          "output_type": "display_data",
          "data": {
            "text/plain": [
              "<IPython.core.display.Javascript object>"
            ],
            "application/javascript": [
              "window[\"919116dc-9ea9-11f0-8010-0242ac1c000c\"] = google.colab.output.setActiveOutputArea(window[\"9170f9ce-9ea9-11f0-8010-0242ac1c000c\"]);\n",
              "//# sourceURL=js_9e0f3fc599"
            ]
          },
          "metadata": {}
        },
        {
          "output_type": "display_data",
          "data": {
            "text/plain": [
              "<IPython.core.display.Javascript object>"
            ],
            "application/javascript": [
              "window[\"9ef832a6-9ea9-11f0-8010-0242ac1c000c\"] = google.colab.output.getActiveOutputArea();\n",
              "//# sourceURL=js_eac249281a"
            ]
          },
          "metadata": {}
        },
        {
          "output_type": "display_data",
          "data": {
            "text/plain": [
              "<IPython.core.display.Javascript object>"
            ],
            "application/javascript": [
              "window[\"9ef878d8-9ea9-11f0-8010-0242ac1c000c\"] = document.querySelector(\"#id4-0-0\");\n",
              "//# sourceURL=js_a58ced6916"
            ]
          },
          "metadata": {}
        },
        {
          "output_type": "display_data",
          "data": {
            "text/plain": [
              "<IPython.core.display.Javascript object>"
            ],
            "application/javascript": [
              "window[\"9ef8b53c-9ea9-11f0-8010-0242ac1c000c\"] = google.colab.output.setActiveOutputArea(window[\"9ef878d8-9ea9-11f0-8010-0242ac1c000c\"]);\n",
              "//# sourceURL=js_7f5d94e50e"
            ]
          },
          "metadata": {}
        },
        {
          "output_type": "display_data",
          "data": {
            "text/plain": [
              "<IPython.core.display.Javascript object>"
            ],
            "application/javascript": [
              "window[\"9f155b92-9ea9-11f0-8010-0242ac1c000c\"] = google.colab.output.setActiveOutputArea(window[\"9ef832a6-9ea9-11f0-8010-0242ac1c000c\"]);\n",
              "//# sourceURL=js_5d1b855041"
            ]
          },
          "metadata": {}
        },
        {
          "output_type": "display_data",
          "data": {
            "text/plain": [
              "<IPython.core.display.Javascript object>"
            ],
            "application/javascript": [
              "window[\"ac4ac158-9ea9-11f0-8010-0242ac1c000c\"] = google.colab.output.getActiveOutputArea();\n",
              "//# sourceURL=js_d8e38668d3"
            ]
          },
          "metadata": {}
        },
        {
          "output_type": "display_data",
          "data": {
            "text/plain": [
              "<IPython.core.display.Javascript object>"
            ],
            "application/javascript": [
              "window[\"ac4b09b0-9ea9-11f0-8010-0242ac1c000c\"] = document.querySelector(\"#id4-0-0\");\n",
              "//# sourceURL=js_9d1f2c00b8"
            ]
          },
          "metadata": {}
        },
        {
          "output_type": "display_data",
          "data": {
            "text/plain": [
              "<IPython.core.display.Javascript object>"
            ],
            "application/javascript": [
              "window[\"ac4b3c3c-9ea9-11f0-8010-0242ac1c000c\"] = google.colab.output.setActiveOutputArea(window[\"ac4b09b0-9ea9-11f0-8010-0242ac1c000c\"]);\n",
              "//# sourceURL=js_a528d8fd52"
            ]
          },
          "metadata": {}
        },
        {
          "output_type": "display_data",
          "data": {
            "text/plain": [
              "<IPython.core.display.Javascript object>"
            ],
            "application/javascript": [
              "window[\"ac691e64-9ea9-11f0-8010-0242ac1c000c\"] = google.colab.output.setActiveOutputArea(window[\"ac4ac158-9ea9-11f0-8010-0242ac1c000c\"]);\n",
              "//# sourceURL=js_1f115c0f11"
            ]
          },
          "metadata": {}
        },
        {
          "output_type": "display_data",
          "data": {
            "text/plain": [
              "<IPython.core.display.Javascript object>"
            ],
            "application/javascript": [
              "window[\"b998b284-9ea9-11f0-8010-0242ac1c000c\"] = google.colab.output.getActiveOutputArea();\n",
              "//# sourceURL=js_601563573b"
            ]
          },
          "metadata": {}
        },
        {
          "output_type": "display_data",
          "data": {
            "text/plain": [
              "<IPython.core.display.Javascript object>"
            ],
            "application/javascript": [
              "window[\"b998f604-9ea9-11f0-8010-0242ac1c000c\"] = document.querySelector(\"#id4-0-0\");\n",
              "//# sourceURL=js_3ca59a0fef"
            ]
          },
          "metadata": {}
        },
        {
          "output_type": "display_data",
          "data": {
            "text/plain": [
              "<IPython.core.display.Javascript object>"
            ],
            "application/javascript": [
              "window[\"b9991fd0-9ea9-11f0-8010-0242ac1c000c\"] = google.colab.output.setActiveOutputArea(window[\"b998f604-9ea9-11f0-8010-0242ac1c000c\"]);\n",
              "//# sourceURL=js_ea731b9bfb"
            ]
          },
          "metadata": {}
        },
        {
          "output_type": "display_data",
          "data": {
            "text/plain": [
              "<IPython.core.display.Javascript object>"
            ],
            "application/javascript": [
              "window[\"b9b647e0-9ea9-11f0-8010-0242ac1c000c\"] = google.colab.output.setActiveOutputArea(window[\"b998b284-9ea9-11f0-8010-0242ac1c000c\"]);\n",
              "//# sourceURL=js_0a9e8a903b"
            ]
          },
          "metadata": {}
        },
        {
          "output_type": "display_data",
          "data": {
            "text/plain": [
              "<IPython.core.display.Javascript object>"
            ],
            "application/javascript": [
              "window[\"c79d2db0-9ea9-11f0-8010-0242ac1c000c\"] = google.colab.output.getActiveOutputArea();\n",
              "//# sourceURL=js_73f23640c8"
            ]
          },
          "metadata": {}
        },
        {
          "output_type": "display_data",
          "data": {
            "text/plain": [
              "<IPython.core.display.Javascript object>"
            ],
            "application/javascript": [
              "window[\"c79d6b04-9ea9-11f0-8010-0242ac1c000c\"] = document.querySelector(\"#id4-0-0\");\n",
              "//# sourceURL=js_17180bbe8a"
            ]
          },
          "metadata": {}
        },
        {
          "output_type": "display_data",
          "data": {
            "text/plain": [
              "<IPython.core.display.Javascript object>"
            ],
            "application/javascript": [
              "window[\"c79de48a-9ea9-11f0-8010-0242ac1c000c\"] = google.colab.output.setActiveOutputArea(window[\"c79d6b04-9ea9-11f0-8010-0242ac1c000c\"]);\n",
              "//# sourceURL=js_96effdfbdc"
            ]
          },
          "metadata": {}
        },
        {
          "output_type": "display_data",
          "data": {
            "text/plain": [
              "<IPython.core.display.Javascript object>"
            ],
            "application/javascript": [
              "window[\"c7b9fefe-9ea9-11f0-8010-0242ac1c000c\"] = google.colab.output.setActiveOutputArea(window[\"c79d2db0-9ea9-11f0-8010-0242ac1c000c\"]);\n",
              "//# sourceURL=js_a4c045f9a9"
            ]
          },
          "metadata": {}
        },
        {
          "output_type": "display_data",
          "data": {
            "text/plain": [
              "<IPython.core.display.Javascript object>"
            ],
            "application/javascript": [
              "window[\"d559f88e-9ea9-11f0-8010-0242ac1c000c\"] = google.colab.output.getActiveOutputArea();\n",
              "//# sourceURL=js_f7108b3669"
            ]
          },
          "metadata": {}
        },
        {
          "output_type": "display_data",
          "data": {
            "text/plain": [
              "<IPython.core.display.Javascript object>"
            ],
            "application/javascript": [
              "window[\"d55a4f78-9ea9-11f0-8010-0242ac1c000c\"] = document.querySelector(\"#id4-0-0\");\n",
              "//# sourceURL=js_2384c91ea7"
            ]
          },
          "metadata": {}
        },
        {
          "output_type": "display_data",
          "data": {
            "text/plain": [
              "<IPython.core.display.Javascript object>"
            ],
            "application/javascript": [
              "window[\"d55a8b14-9ea9-11f0-8010-0242ac1c000c\"] = google.colab.output.setActiveOutputArea(window[\"d55a4f78-9ea9-11f0-8010-0242ac1c000c\"]);\n",
              "//# sourceURL=js_69423ee673"
            ]
          },
          "metadata": {}
        },
        {
          "output_type": "display_data",
          "data": {
            "text/plain": [
              "<IPython.core.display.Javascript object>"
            ],
            "application/javascript": [
              "window[\"d576d986-9ea9-11f0-8010-0242ac1c000c\"] = google.colab.output.setActiveOutputArea(window[\"d559f88e-9ea9-11f0-8010-0242ac1c000c\"]);\n",
              "//# sourceURL=js_69bd46530d"
            ]
          },
          "metadata": {}
        },
        {
          "output_type": "display_data",
          "data": {
            "text/plain": [
              "<IPython.core.display.Javascript object>"
            ],
            "application/javascript": [
              "window[\"e2c531dc-9ea9-11f0-8010-0242ac1c000c\"] = google.colab.output.getActiveOutputArea();\n",
              "//# sourceURL=js_89d3c96ddb"
            ]
          },
          "metadata": {}
        },
        {
          "output_type": "display_data",
          "data": {
            "text/plain": [
              "<IPython.core.display.Javascript object>"
            ],
            "application/javascript": [
              "window[\"e2c584ac-9ea9-11f0-8010-0242ac1c000c\"] = document.querySelector(\"#id4-0-0\");\n",
              "//# sourceURL=js_5187ff66f3"
            ]
          },
          "metadata": {}
        },
        {
          "output_type": "display_data",
          "data": {
            "text/plain": [
              "<IPython.core.display.Javascript object>"
            ],
            "application/javascript": [
              "window[\"e2c5e55a-9ea9-11f0-8010-0242ac1c000c\"] = google.colab.output.setActiveOutputArea(window[\"e2c584ac-9ea9-11f0-8010-0242ac1c000c\"]);\n",
              "//# sourceURL=js_71a3aa3a7c"
            ]
          },
          "metadata": {}
        },
        {
          "output_type": "display_data",
          "data": {
            "text/plain": [
              "<IPython.core.display.Javascript object>"
            ],
            "application/javascript": [
              "window[\"e2f17abc-9ea9-11f0-8010-0242ac1c000c\"] = google.colab.output.setActiveOutputArea(window[\"e2c531dc-9ea9-11f0-8010-0242ac1c000c\"]);\n",
              "//# sourceURL=js_7c6eac8d3c"
            ]
          },
          "metadata": {}
        },
        {
          "output_type": "display_data",
          "data": {
            "text/plain": [
              "<IPython.core.display.Javascript object>"
            ],
            "application/javascript": [
              "window[\"efda29c2-9ea9-11f0-8010-0242ac1c000c\"] = google.colab.output.getActiveOutputArea();\n",
              "//# sourceURL=js_661e552c87"
            ]
          },
          "metadata": {}
        },
        {
          "output_type": "display_data",
          "data": {
            "text/plain": [
              "<IPython.core.display.Javascript object>"
            ],
            "application/javascript": [
              "window[\"efda7300-9ea9-11f0-8010-0242ac1c000c\"] = document.querySelector(\"#id4-0-0\");\n",
              "//# sourceURL=js_d0f07c61be"
            ]
          },
          "metadata": {}
        },
        {
          "output_type": "display_data",
          "data": {
            "text/plain": [
              "<IPython.core.display.Javascript object>"
            ],
            "application/javascript": [
              "window[\"efdae934-9ea9-11f0-8010-0242ac1c000c\"] = google.colab.output.setActiveOutputArea(window[\"efda7300-9ea9-11f0-8010-0242ac1c000c\"]);\n",
              "//# sourceURL=js_d44ba25731"
            ]
          },
          "metadata": {}
        },
        {
          "output_type": "display_data",
          "data": {
            "text/plain": [
              "<IPython.core.display.Javascript object>"
            ],
            "application/javascript": [
              "window[\"eff92e8a-9ea9-11f0-8010-0242ac1c000c\"] = google.colab.output.setActiveOutputArea(window[\"efda29c2-9ea9-11f0-8010-0242ac1c000c\"]);\n",
              "//# sourceURL=js_4256336ea4"
            ]
          },
          "metadata": {}
        },
        {
          "output_type": "display_data",
          "data": {
            "text/plain": [
              "<IPython.core.display.Javascript object>"
            ],
            "application/javascript": [
              "window[\"fd1d3070-9ea9-11f0-8010-0242ac1c000c\"] = google.colab.output.getActiveOutputArea();\n",
              "//# sourceURL=js_0a1d8144df"
            ]
          },
          "metadata": {}
        },
        {
          "output_type": "display_data",
          "data": {
            "text/plain": [
              "<IPython.core.display.Javascript object>"
            ],
            "application/javascript": [
              "window[\"fd1d8cdc-9ea9-11f0-8010-0242ac1c000c\"] = document.querySelector(\"#id4-0-0\");\n",
              "//# sourceURL=js_02252c0e9c"
            ]
          },
          "metadata": {}
        },
        {
          "output_type": "display_data",
          "data": {
            "text/plain": [
              "<IPython.core.display.Javascript object>"
            ],
            "application/javascript": [
              "window[\"fd1dc076-9ea9-11f0-8010-0242ac1c000c\"] = google.colab.output.setActiveOutputArea(window[\"fd1d8cdc-9ea9-11f0-8010-0242ac1c000c\"]);\n",
              "//# sourceURL=js_de0dc9470d"
            ]
          },
          "metadata": {}
        },
        {
          "output_type": "display_data",
          "data": {
            "text/plain": [
              "<IPython.core.display.Javascript object>"
            ],
            "application/javascript": [
              "window[\"fd3df1de-9ea9-11f0-8010-0242ac1c000c\"] = google.colab.output.setActiveOutputArea(window[\"fd1d3070-9ea9-11f0-8010-0242ac1c000c\"]);\n",
              "//# sourceURL=js_7c8227e292"
            ]
          },
          "metadata": {}
        },
        {
          "output_type": "display_data",
          "data": {
            "text/plain": [
              "<IPython.core.display.Javascript object>"
            ],
            "application/javascript": [
              "window[\"0b114a0e-9eaa-11f0-8010-0242ac1c000c\"] = google.colab.output.getActiveOutputArea();\n",
              "//# sourceURL=js_1b3d02675c"
            ]
          },
          "metadata": {}
        },
        {
          "output_type": "display_data",
          "data": {
            "text/plain": [
              "<IPython.core.display.Javascript object>"
            ],
            "application/javascript": [
              "window[\"0b118d2a-9eaa-11f0-8010-0242ac1c000c\"] = document.querySelector(\"#id4-0-0\");\n",
              "//# sourceURL=js_3d0cf5fcdb"
            ]
          },
          "metadata": {}
        },
        {
          "output_type": "display_data",
          "data": {
            "text/plain": [
              "<IPython.core.display.Javascript object>"
            ],
            "application/javascript": [
              "window[\"0b11b99e-9eaa-11f0-8010-0242ac1c000c\"] = google.colab.output.setActiveOutputArea(window[\"0b118d2a-9eaa-11f0-8010-0242ac1c000c\"]);\n",
              "//# sourceURL=js_5b115aa2f8"
            ]
          },
          "metadata": {}
        },
        {
          "output_type": "display_data",
          "data": {
            "text/plain": [
              "<IPython.core.display.Javascript object>"
            ],
            "application/javascript": [
              "window[\"0b2f2baa-9eaa-11f0-8010-0242ac1c000c\"] = google.colab.output.setActiveOutputArea(window[\"0b114a0e-9eaa-11f0-8010-0242ac1c000c\"]);\n",
              "//# sourceURL=js_2fa33cf174"
            ]
          },
          "metadata": {}
        },
        {
          "output_type": "display_data",
          "data": {
            "text/plain": [
              "<IPython.core.display.Javascript object>"
            ],
            "application/javascript": [
              "window[\"1909c122-9eaa-11f0-8010-0242ac1c000c\"] = google.colab.output.getActiveOutputArea();\n",
              "//# sourceURL=js_bca2baade6"
            ]
          },
          "metadata": {}
        },
        {
          "output_type": "display_data",
          "data": {
            "text/plain": [
              "<IPython.core.display.Javascript object>"
            ],
            "application/javascript": [
              "window[\"190a150a-9eaa-11f0-8010-0242ac1c000c\"] = document.querySelector(\"#id4-0-0\");\n",
              "//# sourceURL=js_f197a7474b"
            ]
          },
          "metadata": {}
        },
        {
          "output_type": "display_data",
          "data": {
            "text/plain": [
              "<IPython.core.display.Javascript object>"
            ],
            "application/javascript": [
              "window[\"190a54ca-9eaa-11f0-8010-0242ac1c000c\"] = google.colab.output.setActiveOutputArea(window[\"190a150a-9eaa-11f0-8010-0242ac1c000c\"]);\n",
              "//# sourceURL=js_598daa33c6"
            ]
          },
          "metadata": {}
        },
        {
          "output_type": "display_data",
          "data": {
            "text/plain": [
              "<IPython.core.display.Javascript object>"
            ],
            "application/javascript": [
              "window[\"1927d630-9eaa-11f0-8010-0242ac1c000c\"] = google.colab.output.setActiveOutputArea(window[\"1909c122-9eaa-11f0-8010-0242ac1c000c\"]);\n",
              "//# sourceURL=js_05936bee44"
            ]
          },
          "metadata": {}
        },
        {
          "output_type": "display_data",
          "data": {
            "text/plain": [
              "<IPython.core.display.Javascript object>"
            ],
            "application/javascript": [
              "window[\"26c3acec-9eaa-11f0-8010-0242ac1c000c\"] = google.colab.output.getActiveOutputArea();\n",
              "//# sourceURL=js_dfab7a29c2"
            ]
          },
          "metadata": {}
        },
        {
          "output_type": "display_data",
          "data": {
            "text/plain": [
              "<IPython.core.display.Javascript object>"
            ],
            "application/javascript": [
              "window[\"26c40d72-9eaa-11f0-8010-0242ac1c000c\"] = document.querySelector(\"#id4-0-0\");\n",
              "//# sourceURL=js_77d45782bd"
            ]
          },
          "metadata": {}
        },
        {
          "output_type": "display_data",
          "data": {
            "text/plain": [
              "<IPython.core.display.Javascript object>"
            ],
            "application/javascript": [
              "window[\"26c44fda-9eaa-11f0-8010-0242ac1c000c\"] = google.colab.output.setActiveOutputArea(window[\"26c40d72-9eaa-11f0-8010-0242ac1c000c\"]);\n",
              "//# sourceURL=js_0f7d4f2b87"
            ]
          },
          "metadata": {}
        },
        {
          "output_type": "display_data",
          "data": {
            "text/plain": [
              "<IPython.core.display.Javascript object>"
            ],
            "application/javascript": [
              "window[\"26e34962-9eaa-11f0-8010-0242ac1c000c\"] = google.colab.output.setActiveOutputArea(window[\"26c3acec-9eaa-11f0-8010-0242ac1c000c\"]);\n",
              "//# sourceURL=js_b99fed1063"
            ]
          },
          "metadata": {}
        },
        {
          "output_type": "display_data",
          "data": {
            "text/plain": [
              "<IPython.core.display.Javascript object>"
            ],
            "application/javascript": [
              "window[\"349218a4-9eaa-11f0-8010-0242ac1c000c\"] = google.colab.output.getActiveOutputArea();\n",
              "//# sourceURL=js_91a3411698"
            ]
          },
          "metadata": {}
        },
        {
          "output_type": "display_data",
          "data": {
            "text/plain": [
              "<IPython.core.display.Javascript object>"
            ],
            "application/javascript": [
              "window[\"34926368-9eaa-11f0-8010-0242ac1c000c\"] = document.querySelector(\"#id4-0-0\");\n",
              "//# sourceURL=js_28c50f9461"
            ]
          },
          "metadata": {}
        },
        {
          "output_type": "display_data",
          "data": {
            "text/plain": [
              "<IPython.core.display.Javascript object>"
            ],
            "application/javascript": [
              "window[\"34928d66-9eaa-11f0-8010-0242ac1c000c\"] = google.colab.output.setActiveOutputArea(window[\"34926368-9eaa-11f0-8010-0242ac1c000c\"]);\n",
              "//# sourceURL=js_cf623c7225"
            ]
          },
          "metadata": {}
        },
        {
          "output_type": "display_data",
          "data": {
            "text/plain": [
              "<IPython.core.display.Javascript object>"
            ],
            "application/javascript": [
              "window[\"34b058e6-9eaa-11f0-8010-0242ac1c000c\"] = google.colab.output.setActiveOutputArea(window[\"349218a4-9eaa-11f0-8010-0242ac1c000c\"]);\n",
              "//# sourceURL=js_239c798316"
            ]
          },
          "metadata": {}
        },
        {
          "output_type": "display_data",
          "data": {
            "text/plain": [
              "<IPython.core.display.Javascript object>"
            ],
            "application/javascript": [
              "window[\"423ce362-9eaa-11f0-8010-0242ac1c000c\"] = google.colab.output.getActiveOutputArea();\n",
              "//# sourceURL=js_13c7671606"
            ]
          },
          "metadata": {}
        },
        {
          "output_type": "display_data",
          "data": {
            "text/plain": [
              "<IPython.core.display.Javascript object>"
            ],
            "application/javascript": [
              "window[\"423d2228-9eaa-11f0-8010-0242ac1c000c\"] = document.querySelector(\"#id4-0-0\");\n",
              "//# sourceURL=js_a7602285bd"
            ]
          },
          "metadata": {}
        },
        {
          "output_type": "display_data",
          "data": {
            "text/plain": [
              "<IPython.core.display.Javascript object>"
            ],
            "application/javascript": [
              "window[\"423d78d6-9eaa-11f0-8010-0242ac1c000c\"] = google.colab.output.setActiveOutputArea(window[\"423d2228-9eaa-11f0-8010-0242ac1c000c\"]);\n",
              "//# sourceURL=js_54314a3729"
            ]
          },
          "metadata": {}
        },
        {
          "output_type": "display_data",
          "data": {
            "text/plain": [
              "<IPython.core.display.Javascript object>"
            ],
            "application/javascript": [
              "window[\"425b24d0-9eaa-11f0-8010-0242ac1c000c\"] = google.colab.output.setActiveOutputArea(window[\"423ce362-9eaa-11f0-8010-0242ac1c000c\"]);\n",
              "//# sourceURL=js_edff86446f"
            ]
          },
          "metadata": {}
        },
        {
          "output_type": "display_data",
          "data": {
            "text/plain": [
              "<IPython.core.display.Javascript object>"
            ],
            "application/javascript": [
              "window[\"50560ba4-9eaa-11f0-8010-0242ac1c000c\"] = google.colab.output.getActiveOutputArea();\n",
              "//# sourceURL=js_a8e57c0b0f"
            ]
          },
          "metadata": {}
        },
        {
          "output_type": "display_data",
          "data": {
            "text/plain": [
              "<IPython.core.display.Javascript object>"
            ],
            "application/javascript": [
              "window[\"50565654-9eaa-11f0-8010-0242ac1c000c\"] = document.querySelector(\"#id4-0-0\");\n",
              "//# sourceURL=js_c444ea66f9"
            ]
          },
          "metadata": {}
        },
        {
          "output_type": "display_data",
          "data": {
            "text/plain": [
              "<IPython.core.display.Javascript object>"
            ],
            "application/javascript": [
              "window[\"5056951a-9eaa-11f0-8010-0242ac1c000c\"] = google.colab.output.setActiveOutputArea(window[\"50565654-9eaa-11f0-8010-0242ac1c000c\"]);\n",
              "//# sourceURL=js_3ffd6024e1"
            ]
          },
          "metadata": {}
        },
        {
          "output_type": "display_data",
          "data": {
            "text/plain": [
              "<IPython.core.display.Javascript object>"
            ],
            "application/javascript": [
              "window[\"50834a6a-9eaa-11f0-8010-0242ac1c000c\"] = google.colab.output.setActiveOutputArea(window[\"50560ba4-9eaa-11f0-8010-0242ac1c000c\"]);\n",
              "//# sourceURL=js_ffda08f59d"
            ]
          },
          "metadata": {}
        },
        {
          "output_type": "display_data",
          "data": {
            "text/plain": [
              "<IPython.core.display.Javascript object>"
            ],
            "application/javascript": [
              "window[\"5e4bb1aa-9eaa-11f0-8010-0242ac1c000c\"] = google.colab.output.getActiveOutputArea();\n",
              "//# sourceURL=js_8290028d1b"
            ]
          },
          "metadata": {}
        },
        {
          "output_type": "display_data",
          "data": {
            "text/plain": [
              "<IPython.core.display.Javascript object>"
            ],
            "application/javascript": [
              "window[\"5e4c1618-9eaa-11f0-8010-0242ac1c000c\"] = document.querySelector(\"#id4-0-0\");\n",
              "//# sourceURL=js_6073a1dbf5"
            ]
          },
          "metadata": {}
        },
        {
          "output_type": "display_data",
          "data": {
            "text/plain": [
              "<IPython.core.display.Javascript object>"
            ],
            "application/javascript": [
              "window[\"5e4c3ba2-9eaa-11f0-8010-0242ac1c000c\"] = google.colab.output.setActiveOutputArea(window[\"5e4c1618-9eaa-11f0-8010-0242ac1c000c\"]);\n",
              "//# sourceURL=js_d348779b5c"
            ]
          },
          "metadata": {}
        },
        {
          "output_type": "display_data",
          "data": {
            "text/plain": [
              "<IPython.core.display.Javascript object>"
            ],
            "application/javascript": [
              "window[\"5e75cfb2-9eaa-11f0-8010-0242ac1c000c\"] = google.colab.output.setActiveOutputArea(window[\"5e4bb1aa-9eaa-11f0-8010-0242ac1c000c\"]);\n",
              "//# sourceURL=js_a7df83743e"
            ]
          },
          "metadata": {}
        },
        {
          "output_type": "display_data",
          "data": {
            "text/plain": [
              "<IPython.core.display.Javascript object>"
            ],
            "application/javascript": [
              "window[\"6c191a52-9eaa-11f0-8010-0242ac1c000c\"] = google.colab.output.getActiveOutputArea();\n",
              "//# sourceURL=js_262914eceb"
            ]
          },
          "metadata": {}
        },
        {
          "output_type": "display_data",
          "data": {
            "text/plain": [
              "<IPython.core.display.Javascript object>"
            ],
            "application/javascript": [
              "window[\"6c197a74-9eaa-11f0-8010-0242ac1c000c\"] = document.querySelector(\"#id4-0-0\");\n",
              "//# sourceURL=js_155d41486b"
            ]
          },
          "metadata": {}
        },
        {
          "output_type": "display_data",
          "data": {
            "text/plain": [
              "<IPython.core.display.Javascript object>"
            ],
            "application/javascript": [
              "window[\"6c19b994-9eaa-11f0-8010-0242ac1c000c\"] = google.colab.output.setActiveOutputArea(window[\"6c197a74-9eaa-11f0-8010-0242ac1c000c\"]);\n",
              "//# sourceURL=js_8c4e818be7"
            ]
          },
          "metadata": {}
        },
        {
          "output_type": "display_data",
          "data": {
            "text/plain": [
              "<IPython.core.display.Javascript object>"
            ],
            "application/javascript": [
              "window[\"6c3686aa-9eaa-11f0-8010-0242ac1c000c\"] = google.colab.output.setActiveOutputArea(window[\"6c191a52-9eaa-11f0-8010-0242ac1c000c\"]);\n",
              "//# sourceURL=js_9dae9ffd68"
            ]
          },
          "metadata": {}
        },
        {
          "output_type": "display_data",
          "data": {
            "text/plain": [
              "<IPython.core.display.Javascript object>"
            ],
            "application/javascript": [
              "window[\"79fb816e-9eaa-11f0-8010-0242ac1c000c\"] = google.colab.output.getActiveOutputArea();\n",
              "//# sourceURL=js_2b12d7bd38"
            ]
          },
          "metadata": {}
        },
        {
          "output_type": "display_data",
          "data": {
            "text/plain": [
              "<IPython.core.display.Javascript object>"
            ],
            "application/javascript": [
              "window[\"79fbbaee-9eaa-11f0-8010-0242ac1c000c\"] = document.querySelector(\"#id4-0-0\");\n",
              "//# sourceURL=js_0580115a05"
            ]
          },
          "metadata": {}
        },
        {
          "output_type": "display_data",
          "data": {
            "text/plain": [
              "<IPython.core.display.Javascript object>"
            ],
            "application/javascript": [
              "window[\"79fbefe6-9eaa-11f0-8010-0242ac1c000c\"] = google.colab.output.setActiveOutputArea(window[\"79fbbaee-9eaa-11f0-8010-0242ac1c000c\"]);\n",
              "//# sourceURL=js_34c03da11e"
            ]
          },
          "metadata": {}
        },
        {
          "output_type": "display_data",
          "data": {
            "text/plain": [
              "<IPython.core.display.Javascript object>"
            ],
            "application/javascript": [
              "window[\"7a19903c-9eaa-11f0-8010-0242ac1c000c\"] = google.colab.output.setActiveOutputArea(window[\"79fb816e-9eaa-11f0-8010-0242ac1c000c\"]);\n",
              "//# sourceURL=js_103e8e1cde"
            ]
          },
          "metadata": {}
        },
        {
          "output_type": "display_data",
          "data": {
            "text/plain": [
              "<IPython.core.display.Javascript object>"
            ],
            "application/javascript": [
              "window[\"87837bf2-9eaa-11f0-8010-0242ac1c000c\"] = google.colab.output.getActiveOutputArea();\n",
              "//# sourceURL=js_a09cf6f694"
            ]
          },
          "metadata": {}
        },
        {
          "output_type": "display_data",
          "data": {
            "text/plain": [
              "<IPython.core.display.Javascript object>"
            ],
            "application/javascript": [
              "window[\"8783d93a-9eaa-11f0-8010-0242ac1c000c\"] = document.querySelector(\"#id4-0-0\");\n",
              "//# sourceURL=js_64a5b29811"
            ]
          },
          "metadata": {}
        },
        {
          "output_type": "display_data",
          "data": {
            "text/plain": [
              "<IPython.core.display.Javascript object>"
            ],
            "application/javascript": [
              "window[\"878434fc-9eaa-11f0-8010-0242ac1c000c\"] = google.colab.output.setActiveOutputArea(window[\"8783d93a-9eaa-11f0-8010-0242ac1c000c\"]);\n",
              "//# sourceURL=js_642ed40271"
            ]
          },
          "metadata": {}
        },
        {
          "output_type": "display_data",
          "data": {
            "text/plain": [
              "<IPython.core.display.Javascript object>"
            ],
            "application/javascript": [
              "window[\"87a21580-9eaa-11f0-8010-0242ac1c000c\"] = google.colab.output.setActiveOutputArea(window[\"87837bf2-9eaa-11f0-8010-0242ac1c000c\"]);\n",
              "//# sourceURL=js_91dcd26962"
            ]
          },
          "metadata": {}
        },
        {
          "output_type": "display_data",
          "data": {
            "text/plain": [
              "<IPython.core.display.Javascript object>"
            ],
            "application/javascript": [
              "window[\"9577a2f6-9eaa-11f0-8010-0242ac1c000c\"] = google.colab.output.getActiveOutputArea();\n",
              "//# sourceURL=js_80328a29f9"
            ]
          },
          "metadata": {}
        },
        {
          "output_type": "display_data",
          "data": {
            "text/plain": [
              "<IPython.core.display.Javascript object>"
            ],
            "application/javascript": [
              "window[\"9577d80c-9eaa-11f0-8010-0242ac1c000c\"] = document.querySelector(\"#id4-0-0\");\n",
              "//# sourceURL=js_4fad4bdf2d"
            ]
          },
          "metadata": {}
        },
        {
          "output_type": "display_data",
          "data": {
            "text/plain": [
              "<IPython.core.display.Javascript object>"
            ],
            "application/javascript": [
              "window[\"95782f46-9eaa-11f0-8010-0242ac1c000c\"] = google.colab.output.setActiveOutputArea(window[\"9577d80c-9eaa-11f0-8010-0242ac1c000c\"]);\n",
              "//# sourceURL=js_2d59ae0e9d"
            ]
          },
          "metadata": {}
        },
        {
          "output_type": "display_data",
          "data": {
            "text/plain": [
              "<IPython.core.display.Javascript object>"
            ],
            "application/javascript": [
              "window[\"959c93c2-9eaa-11f0-8010-0242ac1c000c\"] = google.colab.output.setActiveOutputArea(window[\"9577a2f6-9eaa-11f0-8010-0242ac1c000c\"]);\n",
              "//# sourceURL=js_37d2977444"
            ]
          },
          "metadata": {}
        },
        {
          "output_type": "display_data",
          "data": {
            "text/plain": [
              "<IPython.core.display.Javascript object>"
            ],
            "application/javascript": [
              "window[\"a3c18070-9eaa-11f0-8010-0242ac1c000c\"] = google.colab.output.getActiveOutputArea();\n",
              "//# sourceURL=js_775f1fc858"
            ]
          },
          "metadata": {}
        },
        {
          "output_type": "display_data",
          "data": {
            "text/plain": [
              "<IPython.core.display.Javascript object>"
            ],
            "application/javascript": [
              "window[\"a3c1dea8-9eaa-11f0-8010-0242ac1c000c\"] = document.querySelector(\"#id4-0-0\");\n",
              "//# sourceURL=js_690facdf68"
            ]
          },
          "metadata": {}
        },
        {
          "output_type": "display_data",
          "data": {
            "text/plain": [
              "<IPython.core.display.Javascript object>"
            ],
            "application/javascript": [
              "window[\"a3c24ad2-9eaa-11f0-8010-0242ac1c000c\"] = google.colab.output.setActiveOutputArea(window[\"a3c1dea8-9eaa-11f0-8010-0242ac1c000c\"]);\n",
              "//# sourceURL=js_2a5660ae38"
            ]
          },
          "metadata": {}
        },
        {
          "output_type": "display_data",
          "data": {
            "text/plain": [
              "<IPython.core.display.Javascript object>"
            ],
            "application/javascript": [
              "window[\"a3e20598-9eaa-11f0-8010-0242ac1c000c\"] = google.colab.output.setActiveOutputArea(window[\"a3c18070-9eaa-11f0-8010-0242ac1c000c\"]);\n",
              "//# sourceURL=js_61fb2830de"
            ]
          },
          "metadata": {}
        },
        {
          "output_type": "display_data",
          "data": {
            "text/plain": [
              "<IPython.core.display.Javascript object>"
            ],
            "application/javascript": [
              "window[\"b1b73396-9eaa-11f0-8010-0242ac1c000c\"] = google.colab.output.getActiveOutputArea();\n",
              "//# sourceURL=js_cb64bdfc53"
            ]
          },
          "metadata": {}
        },
        {
          "output_type": "display_data",
          "data": {
            "text/plain": [
              "<IPython.core.display.Javascript object>"
            ],
            "application/javascript": [
              "window[\"b1b77630-9eaa-11f0-8010-0242ac1c000c\"] = document.querySelector(\"#id4-0-0\");\n",
              "//# sourceURL=js_7173a4454f"
            ]
          },
          "metadata": {}
        },
        {
          "output_type": "display_data",
          "data": {
            "text/plain": [
              "<IPython.core.display.Javascript object>"
            ],
            "application/javascript": [
              "window[\"b1b7aaf6-9eaa-11f0-8010-0242ac1c000c\"] = google.colab.output.setActiveOutputArea(window[\"b1b77630-9eaa-11f0-8010-0242ac1c000c\"]);\n",
              "//# sourceURL=js_de68cdd434"
            ]
          },
          "metadata": {}
        },
        {
          "output_type": "display_data",
          "data": {
            "text/plain": [
              "<IPython.core.display.Javascript object>"
            ],
            "application/javascript": [
              "window[\"b1d430c2-9eaa-11f0-8010-0242ac1c000c\"] = google.colab.output.setActiveOutputArea(window[\"b1b73396-9eaa-11f0-8010-0242ac1c000c\"]);\n",
              "//# sourceURL=js_c141904fc0"
            ]
          },
          "metadata": {}
        },
        {
          "output_type": "display_data",
          "data": {
            "text/plain": [
              "<IPython.core.display.Javascript object>"
            ],
            "application/javascript": [
              "window[\"bf522d08-9eaa-11f0-8010-0242ac1c000c\"] = google.colab.output.getActiveOutputArea();\n",
              "//# sourceURL=js_c82761bb8e"
            ]
          },
          "metadata": {}
        },
        {
          "output_type": "display_data",
          "data": {
            "text/plain": [
              "<IPython.core.display.Javascript object>"
            ],
            "application/javascript": [
              "window[\"bf526d72-9eaa-11f0-8010-0242ac1c000c\"] = document.querySelector(\"#id4-0-0\");\n",
              "//# sourceURL=js_a4d7c88a1f"
            ]
          },
          "metadata": {}
        },
        {
          "output_type": "display_data",
          "data": {
            "text/plain": [
              "<IPython.core.display.Javascript object>"
            ],
            "application/javascript": [
              "window[\"bf52b0f2-9eaa-11f0-8010-0242ac1c000c\"] = google.colab.output.setActiveOutputArea(window[\"bf526d72-9eaa-11f0-8010-0242ac1c000c\"]);\n",
              "//# sourceURL=js_bc7ee66466"
            ]
          },
          "metadata": {}
        },
        {
          "output_type": "display_data",
          "data": {
            "text/plain": [
              "<IPython.core.display.Javascript object>"
            ],
            "application/javascript": [
              "window[\"bf6f8178-9eaa-11f0-8010-0242ac1c000c\"] = google.colab.output.setActiveOutputArea(window[\"bf522d08-9eaa-11f0-8010-0242ac1c000c\"]);\n",
              "//# sourceURL=js_e647b3eb04"
            ]
          },
          "metadata": {}
        },
        {
          "output_type": "display_data",
          "data": {
            "text/plain": [
              "<IPython.core.display.Javascript object>"
            ],
            "application/javascript": [
              "window[\"ccdfc444-9eaa-11f0-8010-0242ac1c000c\"] = google.colab.output.getActiveOutputArea();\n",
              "//# sourceURL=js_6e11be0e47"
            ]
          },
          "metadata": {}
        },
        {
          "output_type": "display_data",
          "data": {
            "text/plain": [
              "<IPython.core.display.Javascript object>"
            ],
            "application/javascript": [
              "window[\"cce022b8-9eaa-11f0-8010-0242ac1c000c\"] = document.querySelector(\"#id4-0-0\");\n",
              "//# sourceURL=js_f499ad7192"
            ]
          },
          "metadata": {}
        },
        {
          "output_type": "display_data",
          "data": {
            "text/plain": [
              "<IPython.core.display.Javascript object>"
            ],
            "application/javascript": [
              "window[\"cce0623c-9eaa-11f0-8010-0242ac1c000c\"] = google.colab.output.setActiveOutputArea(window[\"cce022b8-9eaa-11f0-8010-0242ac1c000c\"]);\n",
              "//# sourceURL=js_f73d8cde44"
            ]
          },
          "metadata": {}
        },
        {
          "output_type": "display_data",
          "data": {
            "text/plain": [
              "<IPython.core.display.Javascript object>"
            ],
            "application/javascript": [
              "window[\"ccfda8ce-9eaa-11f0-8010-0242ac1c000c\"] = google.colab.output.setActiveOutputArea(window[\"ccdfc444-9eaa-11f0-8010-0242ac1c000c\"]);\n",
              "//# sourceURL=js_784e8d01cd"
            ]
          },
          "metadata": {}
        },
        {
          "output_type": "display_data",
          "data": {
            "text/plain": [
              "<IPython.core.display.Javascript object>"
            ],
            "application/javascript": [
              "window[\"da201ee2-9eaa-11f0-8010-0242ac1c000c\"] = google.colab.output.getActiveOutputArea();\n",
              "//# sourceURL=js_998e9d41bd"
            ]
          },
          "metadata": {}
        },
        {
          "output_type": "display_data",
          "data": {
            "text/plain": [
              "<IPython.core.display.Javascript object>"
            ],
            "application/javascript": [
              "window[\"da2079b4-9eaa-11f0-8010-0242ac1c000c\"] = document.querySelector(\"#id4-0-0\");\n",
              "//# sourceURL=js_0c7cfb9637"
            ]
          },
          "metadata": {}
        },
        {
          "output_type": "display_data",
          "data": {
            "text/plain": [
              "<IPython.core.display.Javascript object>"
            ],
            "application/javascript": [
              "window[\"da20bf5a-9eaa-11f0-8010-0242ac1c000c\"] = google.colab.output.setActiveOutputArea(window[\"da2079b4-9eaa-11f0-8010-0242ac1c000c\"]);\n",
              "//# sourceURL=js_511ef37d66"
            ]
          },
          "metadata": {}
        },
        {
          "output_type": "display_data",
          "data": {
            "text/plain": [
              "<IPython.core.display.Javascript object>"
            ],
            "application/javascript": [
              "window[\"da4c6222-9eaa-11f0-8010-0242ac1c000c\"] = google.colab.output.setActiveOutputArea(window[\"da201ee2-9eaa-11f0-8010-0242ac1c000c\"]);\n",
              "//# sourceURL=js_45bd038643"
            ]
          },
          "metadata": {}
        },
        {
          "output_type": "display_data",
          "data": {
            "text/plain": [
              "<IPython.core.display.Javascript object>"
            ],
            "application/javascript": [
              "window[\"e7eeba74-9eaa-11f0-8010-0242ac1c000c\"] = google.colab.output.getActiveOutputArea();\n",
              "//# sourceURL=js_e9c73079e3"
            ]
          },
          "metadata": {}
        },
        {
          "output_type": "display_data",
          "data": {
            "text/plain": [
              "<IPython.core.display.Javascript object>"
            ],
            "application/javascript": [
              "window[\"e7ef1230-9eaa-11f0-8010-0242ac1c000c\"] = document.querySelector(\"#id4-0-0\");\n",
              "//# sourceURL=js_0bbcaf5e95"
            ]
          },
          "metadata": {}
        },
        {
          "output_type": "display_data",
          "data": {
            "text/plain": [
              "<IPython.core.display.Javascript object>"
            ],
            "application/javascript": [
              "window[\"e7ef3df0-9eaa-11f0-8010-0242ac1c000c\"] = google.colab.output.setActiveOutputArea(window[\"e7ef1230-9eaa-11f0-8010-0242ac1c000c\"]);\n",
              "//# sourceURL=js_2df6c8fa32"
            ]
          },
          "metadata": {}
        },
        {
          "output_type": "display_data",
          "data": {
            "text/plain": [
              "<IPython.core.display.Javascript object>"
            ],
            "application/javascript": [
              "window[\"e80cd950-9eaa-11f0-8010-0242ac1c000c\"] = google.colab.output.setActiveOutputArea(window[\"e7eeba74-9eaa-11f0-8010-0242ac1c000c\"]);\n",
              "//# sourceURL=js_6b42d4a506"
            ]
          },
          "metadata": {}
        },
        {
          "output_type": "display_data",
          "data": {
            "text/plain": [
              "<IPython.core.display.Javascript object>"
            ],
            "application/javascript": [
              "window[\"f5b18056-9eaa-11f0-8010-0242ac1c000c\"] = google.colab.output.getActiveOutputArea();\n",
              "//# sourceURL=js_866f2feb8e"
            ]
          },
          "metadata": {}
        },
        {
          "output_type": "display_data",
          "data": {
            "text/plain": [
              "<IPython.core.display.Javascript object>"
            ],
            "application/javascript": [
              "window[\"f5b1dd3a-9eaa-11f0-8010-0242ac1c000c\"] = document.querySelector(\"#id4-0-0\");\n",
              "//# sourceURL=js_a31ae2a0c7"
            ]
          },
          "metadata": {}
        },
        {
          "output_type": "display_data",
          "data": {
            "text/plain": [
              "<IPython.core.display.Javascript object>"
            ],
            "application/javascript": [
              "window[\"f5b21c50-9eaa-11f0-8010-0242ac1c000c\"] = google.colab.output.setActiveOutputArea(window[\"f5b1dd3a-9eaa-11f0-8010-0242ac1c000c\"]);\n",
              "//# sourceURL=js_c6be244c72"
            ]
          },
          "metadata": {}
        },
        {
          "output_type": "display_data",
          "data": {
            "text/plain": [
              "<IPython.core.display.Javascript object>"
            ],
            "application/javascript": [
              "window[\"f5cee268-9eaa-11f0-8010-0242ac1c000c\"] = google.colab.output.setActiveOutputArea(window[\"f5b18056-9eaa-11f0-8010-0242ac1c000c\"]);\n",
              "//# sourceURL=js_8a5c17d59b"
            ]
          },
          "metadata": {}
        },
        {
          "output_type": "display_data",
          "data": {
            "text/plain": [
              "<IPython.core.display.Javascript object>"
            ],
            "application/javascript": [
              "window[\"033fe85c-9eab-11f0-8010-0242ac1c000c\"] = google.colab.output.getActiveOutputArea();\n",
              "//# sourceURL=js_0f77fe0ed3"
            ]
          },
          "metadata": {}
        },
        {
          "output_type": "display_data",
          "data": {
            "text/plain": [
              "<IPython.core.display.Javascript object>"
            ],
            "application/javascript": [
              "window[\"03403d34-9eab-11f0-8010-0242ac1c000c\"] = document.querySelector(\"#id4-0-0\");\n",
              "//# sourceURL=js_a25dc7db4a"
            ]
          },
          "metadata": {}
        },
        {
          "output_type": "display_data",
          "data": {
            "text/plain": [
              "<IPython.core.display.Javascript object>"
            ],
            "application/javascript": [
              "window[\"03407d1c-9eab-11f0-8010-0242ac1c000c\"] = google.colab.output.setActiveOutputArea(window[\"03403d34-9eab-11f0-8010-0242ac1c000c\"]);\n",
              "//# sourceURL=js_9f9874159e"
            ]
          },
          "metadata": {}
        },
        {
          "output_type": "display_data",
          "data": {
            "text/plain": [
              "<IPython.core.display.Javascript object>"
            ],
            "application/javascript": [
              "window[\"035d4370-9eab-11f0-8010-0242ac1c000c\"] = google.colab.output.setActiveOutputArea(window[\"033fe85c-9eab-11f0-8010-0242ac1c000c\"]);\n",
              "//# sourceURL=js_5b5fe1811f"
            ]
          },
          "metadata": {}
        },
        {
          "output_type": "display_data",
          "data": {
            "text/plain": [
              "<IPython.core.display.Javascript object>"
            ],
            "application/javascript": [
              "window[\"10aa0da6-9eab-11f0-8010-0242ac1c000c\"] = google.colab.output.getActiveOutputArea();\n",
              "//# sourceURL=js_8d67342002"
            ]
          },
          "metadata": {}
        },
        {
          "output_type": "display_data",
          "data": {
            "text/plain": [
              "<IPython.core.display.Javascript object>"
            ],
            "application/javascript": [
              "window[\"10aa4f00-9eab-11f0-8010-0242ac1c000c\"] = document.querySelector(\"#id4-0-0\");\n",
              "//# sourceURL=js_1effc37ee7"
            ]
          },
          "metadata": {}
        },
        {
          "output_type": "display_data",
          "data": {
            "text/plain": [
              "<IPython.core.display.Javascript object>"
            ],
            "application/javascript": [
              "window[\"10aa7656-9eab-11f0-8010-0242ac1c000c\"] = google.colab.output.setActiveOutputArea(window[\"10aa4f00-9eab-11f0-8010-0242ac1c000c\"]);\n",
              "//# sourceURL=js_995d7bb459"
            ]
          },
          "metadata": {}
        },
        {
          "output_type": "display_data",
          "data": {
            "text/plain": [
              "<IPython.core.display.Javascript object>"
            ],
            "application/javascript": [
              "window[\"10c7f244-9eab-11f0-8010-0242ac1c000c\"] = google.colab.output.setActiveOutputArea(window[\"10aa0da6-9eab-11f0-8010-0242ac1c000c\"]);\n",
              "//# sourceURL=js_b353b82ce9"
            ]
          },
          "metadata": {}
        },
        {
          "output_type": "display_data",
          "data": {
            "text/plain": [
              "<IPython.core.display.Javascript object>"
            ],
            "application/javascript": [
              "window[\"1dd3206c-9eab-11f0-8010-0242ac1c000c\"] = google.colab.output.getActiveOutputArea();\n",
              "//# sourceURL=js_52d61b92ed"
            ]
          },
          "metadata": {}
        },
        {
          "output_type": "display_data",
          "data": {
            "text/plain": [
              "<IPython.core.display.Javascript object>"
            ],
            "application/javascript": [
              "window[\"1dd38516-9eab-11f0-8010-0242ac1c000c\"] = document.querySelector(\"#id4-0-0\");\n",
              "//# sourceURL=js_a4ac37c5fe"
            ]
          },
          "metadata": {}
        },
        {
          "output_type": "display_data",
          "data": {
            "text/plain": [
              "<IPython.core.display.Javascript object>"
            ],
            "application/javascript": [
              "window[\"1dd3c4ae-9eab-11f0-8010-0242ac1c000c\"] = google.colab.output.setActiveOutputArea(window[\"1dd38516-9eab-11f0-8010-0242ac1c000c\"]);\n",
              "//# sourceURL=js_dae4d28842"
            ]
          },
          "metadata": {}
        },
        {
          "output_type": "display_data",
          "data": {
            "text/plain": [
              "<IPython.core.display.Javascript object>"
            ],
            "application/javascript": [
              "window[\"1e1b6836-9eab-11f0-8010-0242ac1c000c\"] = google.colab.output.setActiveOutputArea(window[\"1dd3206c-9eab-11f0-8010-0242ac1c000c\"]);\n",
              "//# sourceURL=js_6961d0cb76"
            ]
          },
          "metadata": {}
        },
        {
          "output_type": "display_data",
          "data": {
            "text/plain": [
              "<IPython.core.display.Javascript object>"
            ],
            "application/javascript": [
              "window[\"2bd5c4da-9eab-11f0-8010-0242ac1c000c\"] = google.colab.output.getActiveOutputArea();\n",
              "//# sourceURL=js_a782549864"
            ]
          },
          "metadata": {}
        },
        {
          "output_type": "display_data",
          "data": {
            "text/plain": [
              "<IPython.core.display.Javascript object>"
            ],
            "application/javascript": [
              "window[\"2bd60c38-9eab-11f0-8010-0242ac1c000c\"] = document.querySelector(\"#id4-0-0\");\n",
              "//# sourceURL=js_175fe098fe"
            ]
          },
          "metadata": {}
        },
        {
          "output_type": "display_data",
          "data": {
            "text/plain": [
              "<IPython.core.display.Javascript object>"
            ],
            "application/javascript": [
              "window[\"2bd63744-9eab-11f0-8010-0242ac1c000c\"] = google.colab.output.setActiveOutputArea(window[\"2bd60c38-9eab-11f0-8010-0242ac1c000c\"]);\n",
              "//# sourceURL=js_b654c83cf5"
            ]
          },
          "metadata": {}
        },
        {
          "output_type": "display_data",
          "data": {
            "text/plain": [
              "<IPython.core.display.Javascript object>"
            ],
            "application/javascript": [
              "window[\"2bf60772-9eab-11f0-8010-0242ac1c000c\"] = google.colab.output.setActiveOutputArea(window[\"2bd5c4da-9eab-11f0-8010-0242ac1c000c\"]);\n",
              "//# sourceURL=js_2c115e181f"
            ]
          },
          "metadata": {}
        },
        {
          "output_type": "display_data",
          "data": {
            "text/plain": [
              "<IPython.core.display.Javascript object>"
            ],
            "application/javascript": [
              "window[\"397bb68a-9eab-11f0-8010-0242ac1c000c\"] = google.colab.output.getActiveOutputArea();\n",
              "//# sourceURL=js_113ae9df39"
            ]
          },
          "metadata": {}
        },
        {
          "output_type": "display_data",
          "data": {
            "text/plain": [
              "<IPython.core.display.Javascript object>"
            ],
            "application/javascript": [
              "window[\"397bef60-9eab-11f0-8010-0242ac1c000c\"] = document.querySelector(\"#id4-0-0\");\n",
              "//# sourceURL=js_a742d6bc51"
            ]
          },
          "metadata": {}
        },
        {
          "output_type": "display_data",
          "data": {
            "text/plain": [
              "<IPython.core.display.Javascript object>"
            ],
            "application/javascript": [
              "window[\"397c2138-9eab-11f0-8010-0242ac1c000c\"] = google.colab.output.setActiveOutputArea(window[\"397bef60-9eab-11f0-8010-0242ac1c000c\"]);\n",
              "//# sourceURL=js_c5a2bf0035"
            ]
          },
          "metadata": {}
        },
        {
          "output_type": "display_data",
          "data": {
            "text/plain": [
              "<IPython.core.display.Javascript object>"
            ],
            "application/javascript": [
              "window[\"399c4b0c-9eab-11f0-8010-0242ac1c000c\"] = google.colab.output.setActiveOutputArea(window[\"397bb68a-9eab-11f0-8010-0242ac1c000c\"]);\n",
              "//# sourceURL=js_8105880dd6"
            ]
          },
          "metadata": {}
        },
        {
          "output_type": "display_data",
          "data": {
            "text/plain": [
              "<IPython.core.display.Javascript object>"
            ],
            "application/javascript": [
              "window[\"467e6256-9eab-11f0-8010-0242ac1c000c\"] = google.colab.output.getActiveOutputArea();\n",
              "//# sourceURL=js_4c4b401c0f"
            ]
          },
          "metadata": {}
        },
        {
          "output_type": "display_data",
          "data": {
            "text/plain": [
              "<IPython.core.display.Javascript object>"
            ],
            "application/javascript": [
              "window[\"467e9758-9eab-11f0-8010-0242ac1c000c\"] = document.querySelector(\"#id4-0-0\");\n",
              "//# sourceURL=js_7dabf585a4"
            ]
          },
          "metadata": {}
        },
        {
          "output_type": "display_data",
          "data": {
            "text/plain": [
              "<IPython.core.display.Javascript object>"
            ],
            "application/javascript": [
              "window[\"467ed100-9eab-11f0-8010-0242ac1c000c\"] = google.colab.output.setActiveOutputArea(window[\"467e9758-9eab-11f0-8010-0242ac1c000c\"]);\n",
              "//# sourceURL=js_8332b52d94"
            ]
          },
          "metadata": {}
        },
        {
          "output_type": "display_data",
          "data": {
            "text/plain": [
              "<IPython.core.display.Javascript object>"
            ],
            "application/javascript": [
              "window[\"46a17fde-9eab-11f0-8010-0242ac1c000c\"] = google.colab.output.setActiveOutputArea(window[\"467e6256-9eab-11f0-8010-0242ac1c000c\"]);\n",
              "//# sourceURL=js_7eaafa5912"
            ]
          },
          "metadata": {}
        },
        {
          "output_type": "display_data",
          "data": {
            "text/plain": [
              "<IPython.core.display.Javascript object>"
            ],
            "application/javascript": [
              "window[\"53f72de6-9eab-11f0-8010-0242ac1c000c\"] = google.colab.output.getActiveOutputArea();\n",
              "//# sourceURL=js_cf8d39a656"
            ]
          },
          "metadata": {}
        },
        {
          "output_type": "display_data",
          "data": {
            "text/plain": [
              "<IPython.core.display.Javascript object>"
            ],
            "application/javascript": [
              "window[\"53f7776a-9eab-11f0-8010-0242ac1c000c\"] = document.querySelector(\"#id4-0-0\");\n",
              "//# sourceURL=js_52049a208c"
            ]
          },
          "metadata": {}
        },
        {
          "output_type": "display_data",
          "data": {
            "text/plain": [
              "<IPython.core.display.Javascript object>"
            ],
            "application/javascript": [
              "window[\"53f7b176-9eab-11f0-8010-0242ac1c000c\"] = google.colab.output.setActiveOutputArea(window[\"53f7776a-9eab-11f0-8010-0242ac1c000c\"]);\n",
              "//# sourceURL=js_2189482fc5"
            ]
          },
          "metadata": {}
        },
        {
          "output_type": "display_data",
          "data": {
            "text/plain": [
              "<IPython.core.display.Javascript object>"
            ],
            "application/javascript": [
              "window[\"541572ba-9eab-11f0-8010-0242ac1c000c\"] = google.colab.output.setActiveOutputArea(window[\"53f72de6-9eab-11f0-8010-0242ac1c000c\"]);\n",
              "//# sourceURL=js_b166371f65"
            ]
          },
          "metadata": {}
        },
        {
          "output_type": "display_data",
          "data": {
            "text/plain": [
              "<IPython.core.display.Javascript object>"
            ],
            "application/javascript": [
              "window[\"61572860-9eab-11f0-8010-0242ac1c000c\"] = google.colab.output.getActiveOutputArea();\n",
              "//# sourceURL=js_f27d1d9ddd"
            ]
          },
          "metadata": {}
        },
        {
          "output_type": "display_data",
          "data": {
            "text/plain": [
              "<IPython.core.display.Javascript object>"
            ],
            "application/javascript": [
              "window[\"61576afa-9eab-11f0-8010-0242ac1c000c\"] = document.querySelector(\"#id4-0-0\");\n",
              "//# sourceURL=js_4d99b62360"
            ]
          },
          "metadata": {}
        },
        {
          "output_type": "display_data",
          "data": {
            "text/plain": [
              "<IPython.core.display.Javascript object>"
            ],
            "application/javascript": [
              "window[\"6157bc6c-9eab-11f0-8010-0242ac1c000c\"] = google.colab.output.setActiveOutputArea(window[\"61576afa-9eab-11f0-8010-0242ac1c000c\"]);\n",
              "//# sourceURL=js_0e9001a757"
            ]
          },
          "metadata": {}
        },
        {
          "output_type": "display_data",
          "data": {
            "text/plain": [
              "<IPython.core.display.Javascript object>"
            ],
            "application/javascript": [
              "window[\"61764902-9eab-11f0-8010-0242ac1c000c\"] = google.colab.output.setActiveOutputArea(window[\"61572860-9eab-11f0-8010-0242ac1c000c\"]);\n",
              "//# sourceURL=js_62c46f9e3b"
            ]
          },
          "metadata": {}
        },
        {
          "output_type": "display_data",
          "data": {
            "text/plain": [
              "<IPython.core.display.Javascript object>"
            ],
            "application/javascript": [
              "window[\"6fd06758-9eab-11f0-8010-0242ac1c000c\"] = google.colab.output.getActiveOutputArea();\n",
              "//# sourceURL=js_f1ba9d93de"
            ]
          },
          "metadata": {}
        },
        {
          "output_type": "display_data",
          "data": {
            "text/plain": [
              "<IPython.core.display.Javascript object>"
            ],
            "application/javascript": [
              "window[\"6fd0c1bc-9eab-11f0-8010-0242ac1c000c\"] = document.querySelector(\"#id4-0-0\");\n",
              "//# sourceURL=js_b01177fa65"
            ]
          },
          "metadata": {}
        },
        {
          "output_type": "display_data",
          "data": {
            "text/plain": [
              "<IPython.core.display.Javascript object>"
            ],
            "application/javascript": [
              "window[\"6fd1046a-9eab-11f0-8010-0242ac1c000c\"] = google.colab.output.setActiveOutputArea(window[\"6fd0c1bc-9eab-11f0-8010-0242ac1c000c\"]);\n",
              "//# sourceURL=js_905084cdf5"
            ]
          },
          "metadata": {}
        },
        {
          "output_type": "display_data",
          "data": {
            "text/plain": [
              "<IPython.core.display.Javascript object>"
            ],
            "application/javascript": [
              "window[\"6feeab46-9eab-11f0-8010-0242ac1c000c\"] = google.colab.output.setActiveOutputArea(window[\"6fd06758-9eab-11f0-8010-0242ac1c000c\"]);\n",
              "//# sourceURL=js_b67757cfd5"
            ]
          },
          "metadata": {}
        },
        {
          "output_type": "display_data",
          "data": {
            "text/plain": [
              "<IPython.core.display.Javascript object>"
            ],
            "application/javascript": [
              "window[\"7df5fa14-9eab-11f0-8010-0242ac1c000c\"] = google.colab.output.getActiveOutputArea();\n",
              "//# sourceURL=js_4da90d1000"
            ]
          },
          "metadata": {}
        },
        {
          "output_type": "display_data",
          "data": {
            "text/plain": [
              "<IPython.core.display.Javascript object>"
            ],
            "application/javascript": [
              "window[\"7df6393e-9eab-11f0-8010-0242ac1c000c\"] = document.querySelector(\"#id4-0-0\");\n",
              "//# sourceURL=js_b7b5f54c68"
            ]
          },
          "metadata": {}
        },
        {
          "output_type": "display_data",
          "data": {
            "text/plain": [
              "<IPython.core.display.Javascript object>"
            ],
            "application/javascript": [
              "window[\"7df6755c-9eab-11f0-8010-0242ac1c000c\"] = google.colab.output.setActiveOutputArea(window[\"7df6393e-9eab-11f0-8010-0242ac1c000c\"]);\n",
              "//# sourceURL=js_78785200a4"
            ]
          },
          "metadata": {}
        },
        {
          "output_type": "display_data",
          "data": {
            "text/plain": [
              "<IPython.core.display.Javascript object>"
            ],
            "application/javascript": [
              "window[\"7e14b6ac-9eab-11f0-8010-0242ac1c000c\"] = google.colab.output.setActiveOutputArea(window[\"7df5fa14-9eab-11f0-8010-0242ac1c000c\"]);\n",
              "//# sourceURL=js_ab827eb46d"
            ]
          },
          "metadata": {}
        },
        {
          "output_type": "display_data",
          "data": {
            "text/plain": [
              "<IPython.core.display.Javascript object>"
            ],
            "application/javascript": [
              "window[\"8c318b20-9eab-11f0-8010-0242ac1c000c\"] = google.colab.output.getActiveOutputArea();\n",
              "//# sourceURL=js_bf4cbdf261"
            ]
          },
          "metadata": {}
        },
        {
          "output_type": "display_data",
          "data": {
            "text/plain": [
              "<IPython.core.display.Javascript object>"
            ],
            "application/javascript": [
              "window[\"8c31e7aa-9eab-11f0-8010-0242ac1c000c\"] = document.querySelector(\"#id4-0-0\");\n",
              "//# sourceURL=js_ea2e89bf10"
            ]
          },
          "metadata": {}
        },
        {
          "output_type": "display_data",
          "data": {
            "text/plain": [
              "<IPython.core.display.Javascript object>"
            ],
            "application/javascript": [
              "window[\"8c323868-9eab-11f0-8010-0242ac1c000c\"] = google.colab.output.setActiveOutputArea(window[\"8c31e7aa-9eab-11f0-8010-0242ac1c000c\"]);\n",
              "//# sourceURL=js_03b53acf49"
            ]
          },
          "metadata": {}
        },
        {
          "output_type": "display_data",
          "data": {
            "text/plain": [
              "<IPython.core.display.Javascript object>"
            ],
            "application/javascript": [
              "window[\"8c508138-9eab-11f0-8010-0242ac1c000c\"] = google.colab.output.setActiveOutputArea(window[\"8c318b20-9eab-11f0-8010-0242ac1c000c\"]);\n",
              "//# sourceURL=js_9ebf231983"
            ]
          },
          "metadata": {}
        },
        {
          "output_type": "display_data",
          "data": {
            "text/plain": [
              "<IPython.core.display.Javascript object>"
            ],
            "application/javascript": [
              "window[\"9a498c08-9eab-11f0-8010-0242ac1c000c\"] = google.colab.output.getActiveOutputArea();\n",
              "//# sourceURL=js_fd0caa3f3a"
            ]
          },
          "metadata": {}
        },
        {
          "output_type": "display_data",
          "data": {
            "text/plain": [
              "<IPython.core.display.Javascript object>"
            ],
            "application/javascript": [
              "window[\"9a4a1c9a-9eab-11f0-8010-0242ac1c000c\"] = document.querySelector(\"#id4-0-0\");\n",
              "//# sourceURL=js_eddc8eb14f"
            ]
          },
          "metadata": {}
        },
        {
          "output_type": "display_data",
          "data": {
            "text/plain": [
              "<IPython.core.display.Javascript object>"
            ],
            "application/javascript": [
              "window[\"9a4aa64c-9eab-11f0-8010-0242ac1c000c\"] = google.colab.output.setActiveOutputArea(window[\"9a4a1c9a-9eab-11f0-8010-0242ac1c000c\"]);\n",
              "//# sourceURL=js_976a13ff3a"
            ]
          },
          "metadata": {}
        },
        {
          "output_type": "display_data",
          "data": {
            "text/plain": [
              "<IPython.core.display.Javascript object>"
            ],
            "application/javascript": [
              "window[\"9a684f62-9eab-11f0-8010-0242ac1c000c\"] = google.colab.output.setActiveOutputArea(window[\"9a498c08-9eab-11f0-8010-0242ac1c000c\"]);\n",
              "//# sourceURL=js_838cdbd980"
            ]
          },
          "metadata": {}
        },
        {
          "output_type": "display_data",
          "data": {
            "text/plain": [
              "<IPython.core.display.Javascript object>"
            ],
            "application/javascript": [
              "window[\"a827f166-9eab-11f0-8010-0242ac1c000c\"] = google.colab.output.getActiveOutputArea();\n",
              "//# sourceURL=js_eb9b7a626c"
            ]
          },
          "metadata": {}
        },
        {
          "output_type": "display_data",
          "data": {
            "text/plain": [
              "<IPython.core.display.Javascript object>"
            ],
            "application/javascript": [
              "window[\"a8284a9e-9eab-11f0-8010-0242ac1c000c\"] = document.querySelector(\"#id4-0-0\");\n",
              "//# sourceURL=js_f791a7afbb"
            ]
          },
          "metadata": {}
        },
        {
          "output_type": "display_data",
          "data": {
            "text/plain": [
              "<IPython.core.display.Javascript object>"
            ],
            "application/javascript": [
              "window[\"a8288ffe-9eab-11f0-8010-0242ac1c000c\"] = google.colab.output.setActiveOutputArea(window[\"a8284a9e-9eab-11f0-8010-0242ac1c000c\"]);\n",
              "//# sourceURL=js_a0f367ab19"
            ]
          },
          "metadata": {}
        },
        {
          "output_type": "display_data",
          "data": {
            "text/plain": [
              "<IPython.core.display.Javascript object>"
            ],
            "application/javascript": [
              "window[\"a846fca0-9eab-11f0-8010-0242ac1c000c\"] = google.colab.output.setActiveOutputArea(window[\"a827f166-9eab-11f0-8010-0242ac1c000c\"]);\n",
              "//# sourceURL=js_049933a1ff"
            ]
          },
          "metadata": {}
        },
        {
          "output_type": "display_data",
          "data": {
            "text/plain": [
              "<IPython.core.display.Javascript object>"
            ],
            "application/javascript": [
              "window[\"b6b8d97a-9eab-11f0-8010-0242ac1c000c\"] = google.colab.output.getActiveOutputArea();\n",
              "//# sourceURL=js_b66ae89c60"
            ]
          },
          "metadata": {}
        },
        {
          "output_type": "display_data",
          "data": {
            "text/plain": [
              "<IPython.core.display.Javascript object>"
            ],
            "application/javascript": [
              "window[\"b6b966c4-9eab-11f0-8010-0242ac1c000c\"] = document.querySelector(\"#id4-0-0\");\n",
              "//# sourceURL=js_10f75cfc2d"
            ]
          },
          "metadata": {}
        },
        {
          "output_type": "display_data",
          "data": {
            "text/plain": [
              "<IPython.core.display.Javascript object>"
            ],
            "application/javascript": [
              "window[\"b6b9cf9c-9eab-11f0-8010-0242ac1c000c\"] = google.colab.output.setActiveOutputArea(window[\"b6b966c4-9eab-11f0-8010-0242ac1c000c\"]);\n",
              "//# sourceURL=js_eba5d84e06"
            ]
          },
          "metadata": {}
        },
        {
          "output_type": "display_data",
          "data": {
            "text/plain": [
              "<IPython.core.display.Javascript object>"
            ],
            "application/javascript": [
              "window[\"b6d8ec74-9eab-11f0-8010-0242ac1c000c\"] = google.colab.output.setActiveOutputArea(window[\"b6b8d97a-9eab-11f0-8010-0242ac1c000c\"]);\n",
              "//# sourceURL=js_f43594e114"
            ]
          },
          "metadata": {}
        },
        {
          "output_type": "display_data",
          "data": {
            "text/plain": [
              "<IPython.core.display.Javascript object>"
            ],
            "application/javascript": [
              "window[\"c5307b52-9eab-11f0-8010-0242ac1c000c\"] = google.colab.output.getActiveOutputArea();\n",
              "//# sourceURL=js_e9143b4f1c"
            ]
          },
          "metadata": {}
        },
        {
          "output_type": "display_data",
          "data": {
            "text/plain": [
              "<IPython.core.display.Javascript object>"
            ],
            "application/javascript": [
              "window[\"c530e1dc-9eab-11f0-8010-0242ac1c000c\"] = document.querySelector(\"#id4-0-0\");\n",
              "//# sourceURL=js_6e7fe20b46"
            ]
          },
          "metadata": {}
        },
        {
          "output_type": "display_data",
          "data": {
            "text/plain": [
              "<IPython.core.display.Javascript object>"
            ],
            "application/javascript": [
              "window[\"c5316422-9eab-11f0-8010-0242ac1c000c\"] = google.colab.output.setActiveOutputArea(window[\"c530e1dc-9eab-11f0-8010-0242ac1c000c\"]);\n",
              "//# sourceURL=js_8170ecf249"
            ]
          },
          "metadata": {}
        },
        {
          "output_type": "display_data",
          "data": {
            "text/plain": [
              "<IPython.core.display.Javascript object>"
            ],
            "application/javascript": [
              "window[\"c54f8466-9eab-11f0-8010-0242ac1c000c\"] = google.colab.output.setActiveOutputArea(window[\"c5307b52-9eab-11f0-8010-0242ac1c000c\"]);\n",
              "//# sourceURL=js_375f7e8706"
            ]
          },
          "metadata": {}
        },
        {
          "output_type": "display_data",
          "data": {
            "text/plain": [
              "<IPython.core.display.Javascript object>"
            ],
            "application/javascript": [
              "window[\"d3297bf0-9eab-11f0-8010-0242ac1c000c\"] = google.colab.output.getActiveOutputArea();\n",
              "//# sourceURL=js_bc4b89f62f"
            ]
          },
          "metadata": {}
        },
        {
          "output_type": "display_data",
          "data": {
            "text/plain": [
              "<IPython.core.display.Javascript object>"
            ],
            "application/javascript": [
              "window[\"d329b17e-9eab-11f0-8010-0242ac1c000c\"] = document.querySelector(\"#id4-0-0\");\n",
              "//# sourceURL=js_22b18917ac"
            ]
          },
          "metadata": {}
        },
        {
          "output_type": "display_data",
          "data": {
            "text/plain": [
              "<IPython.core.display.Javascript object>"
            ],
            "application/javascript": [
              "window[\"d32a0fca-9eab-11f0-8010-0242ac1c000c\"] = google.colab.output.setActiveOutputArea(window[\"d329b17e-9eab-11f0-8010-0242ac1c000c\"]);\n",
              "//# sourceURL=js_1dd1004dbd"
            ]
          },
          "metadata": {}
        },
        {
          "output_type": "display_data",
          "data": {
            "text/plain": [
              "<IPython.core.display.Javascript object>"
            ],
            "application/javascript": [
              "window[\"d34c308c-9eab-11f0-8010-0242ac1c000c\"] = google.colab.output.setActiveOutputArea(window[\"d3297bf0-9eab-11f0-8010-0242ac1c000c\"]);\n",
              "//# sourceURL=js_3e67c737ad"
            ]
          },
          "metadata": {}
        },
        {
          "output_type": "display_data",
          "data": {
            "text/plain": [
              "<IPython.core.display.Javascript object>"
            ],
            "application/javascript": [
              "window[\"e0f71210-9eab-11f0-8010-0242ac1c000c\"] = google.colab.output.getActiveOutputArea();\n",
              "//# sourceURL=js_826176d8f1"
            ]
          },
          "metadata": {}
        },
        {
          "output_type": "display_data",
          "data": {
            "text/plain": [
              "<IPython.core.display.Javascript object>"
            ],
            "application/javascript": [
              "window[\"e0f7595a-9eab-11f0-8010-0242ac1c000c\"] = document.querySelector(\"#id4-0-0\");\n",
              "//# sourceURL=js_3819f8e707"
            ]
          },
          "metadata": {}
        },
        {
          "output_type": "display_data",
          "data": {
            "text/plain": [
              "<IPython.core.display.Javascript object>"
            ],
            "application/javascript": [
              "window[\"e0f798de-9eab-11f0-8010-0242ac1c000c\"] = google.colab.output.setActiveOutputArea(window[\"e0f7595a-9eab-11f0-8010-0242ac1c000c\"]);\n",
              "//# sourceURL=js_70bfd9ca77"
            ]
          },
          "metadata": {}
        },
        {
          "output_type": "display_data",
          "data": {
            "text/plain": [
              "<IPython.core.display.Javascript object>"
            ],
            "application/javascript": [
              "window[\"e115a87e-9eab-11f0-8010-0242ac1c000c\"] = google.colab.output.setActiveOutputArea(window[\"e0f71210-9eab-11f0-8010-0242ac1c000c\"]);\n",
              "//# sourceURL=js_41cabd520c"
            ]
          },
          "metadata": {}
        },
        {
          "output_type": "display_data",
          "data": {
            "text/plain": [
              "<IPython.core.display.Javascript object>"
            ],
            "application/javascript": [
              "window[\"ee24f07e-9eab-11f0-8010-0242ac1c000c\"] = google.colab.output.getActiveOutputArea();\n",
              "//# sourceURL=js_331c970604"
            ]
          },
          "metadata": {}
        },
        {
          "output_type": "display_data",
          "data": {
            "text/plain": [
              "<IPython.core.display.Javascript object>"
            ],
            "application/javascript": [
              "window[\"ee254c36-9eab-11f0-8010-0242ac1c000c\"] = document.querySelector(\"#id4-0-0\");\n",
              "//# sourceURL=js_30d0958fe6"
            ]
          },
          "metadata": {}
        },
        {
          "output_type": "display_data",
          "data": {
            "text/plain": [
              "<IPython.core.display.Javascript object>"
            ],
            "application/javascript": [
              "window[\"ee257328-9eab-11f0-8010-0242ac1c000c\"] = google.colab.output.setActiveOutputArea(window[\"ee254c36-9eab-11f0-8010-0242ac1c000c\"]);\n",
              "//# sourceURL=js_bd45e3ddf9"
            ]
          },
          "metadata": {}
        },
        {
          "output_type": "display_data",
          "data": {
            "text/plain": [
              "<IPython.core.display.Javascript object>"
            ],
            "application/javascript": [
              "window[\"ee4f482e-9eab-11f0-8010-0242ac1c000c\"] = google.colab.output.setActiveOutputArea(window[\"ee24f07e-9eab-11f0-8010-0242ac1c000c\"]);\n",
              "//# sourceURL=js_4f3defc3da"
            ]
          },
          "metadata": {}
        },
        {
          "output_type": "display_data",
          "data": {
            "text/plain": [
              "<IPython.core.display.Javascript object>"
            ],
            "application/javascript": [
              "window[\"fbe9a146-9eab-11f0-8010-0242ac1c000c\"] = google.colab.output.getActiveOutputArea();\n",
              "//# sourceURL=js_a3002b05c5"
            ]
          },
          "metadata": {}
        },
        {
          "output_type": "display_data",
          "data": {
            "text/plain": [
              "<IPython.core.display.Javascript object>"
            ],
            "application/javascript": [
              "window[\"fbe9f1d2-9eab-11f0-8010-0242ac1c000c\"] = document.querySelector(\"#id4-0-0\");\n",
              "//# sourceURL=js_d9120c60d0"
            ]
          },
          "metadata": {}
        },
        {
          "output_type": "display_data",
          "data": {
            "text/plain": [
              "<IPython.core.display.Javascript object>"
            ],
            "application/javascript": [
              "window[\"fbea31f6-9eab-11f0-8010-0242ac1c000c\"] = google.colab.output.setActiveOutputArea(window[\"fbe9f1d2-9eab-11f0-8010-0242ac1c000c\"]);\n",
              "//# sourceURL=js_e66f221a89"
            ]
          },
          "metadata": {}
        },
        {
          "output_type": "display_data",
          "data": {
            "text/plain": [
              "<IPython.core.display.Javascript object>"
            ],
            "application/javascript": [
              "window[\"fc08c332-9eab-11f0-8010-0242ac1c000c\"] = google.colab.output.setActiveOutputArea(window[\"fbe9a146-9eab-11f0-8010-0242ac1c000c\"]);\n",
              "//# sourceURL=js_1e83f41a89"
            ]
          },
          "metadata": {}
        },
        {
          "output_type": "display_data",
          "data": {
            "text/plain": [
              "<IPython.core.display.Javascript object>"
            ],
            "application/javascript": [
              "window[\"09e2f4aa-9eac-11f0-8010-0242ac1c000c\"] = google.colab.output.getActiveOutputArea();\n",
              "//# sourceURL=js_347f772ab8"
            ]
          },
          "metadata": {}
        },
        {
          "output_type": "display_data",
          "data": {
            "text/plain": [
              "<IPython.core.display.Javascript object>"
            ],
            "application/javascript": [
              "window[\"09e34cf2-9eac-11f0-8010-0242ac1c000c\"] = document.querySelector(\"#id4-0-0\");\n",
              "//# sourceURL=js_f5e229d8de"
            ]
          },
          "metadata": {}
        },
        {
          "output_type": "display_data",
          "data": {
            "text/plain": [
              "<IPython.core.display.Javascript object>"
            ],
            "application/javascript": [
              "window[\"09e38ee2-9eac-11f0-8010-0242ac1c000c\"] = google.colab.output.setActiveOutputArea(window[\"09e34cf2-9eac-11f0-8010-0242ac1c000c\"]);\n",
              "//# sourceURL=js_161d15791a"
            ]
          },
          "metadata": {}
        },
        {
          "output_type": "display_data",
          "data": {
            "text/plain": [
              "<IPython.core.display.Javascript object>"
            ],
            "application/javascript": [
              "window[\"0a018ea6-9eac-11f0-8010-0242ac1c000c\"] = google.colab.output.setActiveOutputArea(window[\"09e2f4aa-9eac-11f0-8010-0242ac1c000c\"]);\n",
              "//# sourceURL=js_484dc0647c"
            ]
          },
          "metadata": {}
        },
        {
          "output_type": "display_data",
          "data": {
            "text/plain": [
              "<IPython.core.display.Javascript object>"
            ],
            "application/javascript": [
              "window[\"179140de-9eac-11f0-8010-0242ac1c000c\"] = google.colab.output.getActiveOutputArea();\n",
              "//# sourceURL=js_2e206bd126"
            ]
          },
          "metadata": {}
        },
        {
          "output_type": "display_data",
          "data": {
            "text/plain": [
              "<IPython.core.display.Javascript object>"
            ],
            "application/javascript": [
              "window[\"1791833c-9eac-11f0-8010-0242ac1c000c\"] = document.querySelector(\"#id4-0-0\");\n",
              "//# sourceURL=js_6da9381321"
            ]
          },
          "metadata": {}
        },
        {
          "output_type": "display_data",
          "data": {
            "text/plain": [
              "<IPython.core.display.Javascript object>"
            ],
            "application/javascript": [
              "window[\"1791ae66-9eac-11f0-8010-0242ac1c000c\"] = google.colab.output.setActiveOutputArea(window[\"1791833c-9eac-11f0-8010-0242ac1c000c\"]);\n",
              "//# sourceURL=js_8c3ec2504d"
            ]
          },
          "metadata": {}
        },
        {
          "output_type": "display_data",
          "data": {
            "text/plain": [
              "<IPython.core.display.Javascript object>"
            ],
            "application/javascript": [
              "window[\"17aee03a-9eac-11f0-8010-0242ac1c000c\"] = google.colab.output.setActiveOutputArea(window[\"179140de-9eac-11f0-8010-0242ac1c000c\"]);\n",
              "//# sourceURL=js_7d6ae2ee11"
            ]
          },
          "metadata": {}
        },
        {
          "output_type": "display_data",
          "data": {
            "text/plain": [
              "<IPython.core.display.Javascript object>"
            ],
            "application/javascript": [
              "window[\"250f0ce6-9eac-11f0-8010-0242ac1c000c\"] = google.colab.output.getActiveOutputArea();\n",
              "//# sourceURL=js_18c11b2ad8"
            ]
          },
          "metadata": {}
        },
        {
          "output_type": "display_data",
          "data": {
            "text/plain": [
              "<IPython.core.display.Javascript object>"
            ],
            "application/javascript": [
              "window[\"250f616e-9eac-11f0-8010-0242ac1c000c\"] = document.querySelector(\"#id4-0-0\");\n",
              "//# sourceURL=js_10830c8f41"
            ]
          },
          "metadata": {}
        },
        {
          "output_type": "display_data",
          "data": {
            "text/plain": [
              "<IPython.core.display.Javascript object>"
            ],
            "application/javascript": [
              "window[\"250fcd7a-9eac-11f0-8010-0242ac1c000c\"] = google.colab.output.setActiveOutputArea(window[\"250f616e-9eac-11f0-8010-0242ac1c000c\"]);\n",
              "//# sourceURL=js_1f2b495a6d"
            ]
          },
          "metadata": {}
        },
        {
          "output_type": "display_data",
          "data": {
            "text/plain": [
              "<IPython.core.display.Javascript object>"
            ],
            "application/javascript": [
              "window[\"252d81bc-9eac-11f0-8010-0242ac1c000c\"] = google.colab.output.setActiveOutputArea(window[\"250f0ce6-9eac-11f0-8010-0242ac1c000c\"]);\n",
              "//# sourceURL=js_683feae1e8"
            ]
          },
          "metadata": {}
        },
        {
          "output_type": "display_data",
          "data": {
            "text/plain": [
              "<IPython.core.display.Javascript object>"
            ],
            "application/javascript": [
              "window[\"327a1024-9eac-11f0-8010-0242ac1c000c\"] = google.colab.output.getActiveOutputArea();\n",
              "//# sourceURL=js_3d5b990306"
            ]
          },
          "metadata": {}
        },
        {
          "output_type": "display_data",
          "data": {
            "text/plain": [
              "<IPython.core.display.Javascript object>"
            ],
            "application/javascript": [
              "window[\"327a60d8-9eac-11f0-8010-0242ac1c000c\"] = document.querySelector(\"#id4-0-0\");\n",
              "//# sourceURL=js_ea524fd5fb"
            ]
          },
          "metadata": {}
        },
        {
          "output_type": "display_data",
          "data": {
            "text/plain": [
              "<IPython.core.display.Javascript object>"
            ],
            "application/javascript": [
              "window[\"327a976a-9eac-11f0-8010-0242ac1c000c\"] = google.colab.output.setActiveOutputArea(window[\"327a60d8-9eac-11f0-8010-0242ac1c000c\"]);\n",
              "//# sourceURL=js_98fb61ff0f"
            ]
          },
          "metadata": {}
        },
        {
          "output_type": "display_data",
          "data": {
            "text/plain": [
              "<IPython.core.display.Javascript object>"
            ],
            "application/javascript": [
              "window[\"3297ecc0-9eac-11f0-8010-0242ac1c000c\"] = google.colab.output.setActiveOutputArea(window[\"327a1024-9eac-11f0-8010-0242ac1c000c\"]);\n",
              "//# sourceURL=js_b1cd2cf36a"
            ]
          },
          "metadata": {}
        },
        {
          "output_type": "display_data",
          "data": {
            "text/plain": [
              "<IPython.core.display.Javascript object>"
            ],
            "application/javascript": [
              "window[\"400b2dfe-9eac-11f0-8010-0242ac1c000c\"] = google.colab.output.getActiveOutputArea();\n",
              "//# sourceURL=js_aaeb9c4f20"
            ]
          },
          "metadata": {}
        },
        {
          "output_type": "display_data",
          "data": {
            "text/plain": [
              "<IPython.core.display.Javascript object>"
            ],
            "application/javascript": [
              "window[\"400b80ce-9eac-11f0-8010-0242ac1c000c\"] = document.querySelector(\"#id4-0-0\");\n",
              "//# sourceURL=js_fb215dad39"
            ]
          },
          "metadata": {}
        },
        {
          "output_type": "display_data",
          "data": {
            "text/plain": [
              "<IPython.core.display.Javascript object>"
            ],
            "application/javascript": [
              "window[\"400bc16a-9eac-11f0-8010-0242ac1c000c\"] = google.colab.output.setActiveOutputArea(window[\"400b80ce-9eac-11f0-8010-0242ac1c000c\"]);\n",
              "//# sourceURL=js_7486e3dbe7"
            ]
          },
          "metadata": {}
        },
        {
          "output_type": "display_data",
          "data": {
            "text/plain": [
              "<IPython.core.display.Javascript object>"
            ],
            "application/javascript": [
              "window[\"402a97f2-9eac-11f0-8010-0242ac1c000c\"] = google.colab.output.setActiveOutputArea(window[\"400b2dfe-9eac-11f0-8010-0242ac1c000c\"]);\n",
              "//# sourceURL=js_a06897b7be"
            ]
          },
          "metadata": {}
        },
        {
          "output_type": "display_data",
          "data": {
            "text/plain": [
              "<IPython.core.display.Javascript object>"
            ],
            "application/javascript": [
              "window[\"4e288792-9eac-11f0-8010-0242ac1c000c\"] = google.colab.output.getActiveOutputArea();\n",
              "//# sourceURL=js_8fb35eaf5d"
            ]
          },
          "metadata": {}
        },
        {
          "output_type": "display_data",
          "data": {
            "text/plain": [
              "<IPython.core.display.Javascript object>"
            ],
            "application/javascript": [
              "window[\"4e28c75c-9eac-11f0-8010-0242ac1c000c\"] = document.querySelector(\"#id4-0-0\");\n",
              "//# sourceURL=js_aa82e1a5f0"
            ]
          },
          "metadata": {}
        },
        {
          "output_type": "display_data",
          "data": {
            "text/plain": [
              "<IPython.core.display.Javascript object>"
            ],
            "application/javascript": [
              "window[\"4e290d0c-9eac-11f0-8010-0242ac1c000c\"] = google.colab.output.setActiveOutputArea(window[\"4e28c75c-9eac-11f0-8010-0242ac1c000c\"]);\n",
              "//# sourceURL=js_99c9711fa3"
            ]
          },
          "metadata": {}
        },
        {
          "output_type": "display_data",
          "data": {
            "text/plain": [
              "<IPython.core.display.Javascript object>"
            ],
            "application/javascript": [
              "window[\"4e46bd70-9eac-11f0-8010-0242ac1c000c\"] = google.colab.output.setActiveOutputArea(window[\"4e288792-9eac-11f0-8010-0242ac1c000c\"]);\n",
              "//# sourceURL=js_b270082527"
            ]
          },
          "metadata": {}
        },
        {
          "output_type": "display_data",
          "data": {
            "text/plain": [
              "<IPython.core.display.Javascript object>"
            ],
            "application/javascript": [
              "window[\"5c33bba4-9eac-11f0-8010-0242ac1c000c\"] = google.colab.output.getActiveOutputArea();\n",
              "//# sourceURL=js_48140cf32c"
            ]
          },
          "metadata": {}
        },
        {
          "output_type": "display_data",
          "data": {
            "text/plain": [
              "<IPython.core.display.Javascript object>"
            ],
            "application/javascript": [
              "window[\"5c33f538-9eac-11f0-8010-0242ac1c000c\"] = document.querySelector(\"#id4-0-0\");\n",
              "//# sourceURL=js_657630bb97"
            ]
          },
          "metadata": {}
        },
        {
          "output_type": "display_data",
          "data": {
            "text/plain": [
              "<IPython.core.display.Javascript object>"
            ],
            "application/javascript": [
              "window[\"5c342d50-9eac-11f0-8010-0242ac1c000c\"] = google.colab.output.setActiveOutputArea(window[\"5c33f538-9eac-11f0-8010-0242ac1c000c\"]);\n",
              "//# sourceURL=js_adc0c0ad4a"
            ]
          },
          "metadata": {}
        },
        {
          "output_type": "display_data",
          "data": {
            "text/plain": [
              "<IPython.core.display.Javascript object>"
            ],
            "application/javascript": [
              "window[\"5c5399e2-9eac-11f0-8010-0242ac1c000c\"] = google.colab.output.setActiveOutputArea(window[\"5c33bba4-9eac-11f0-8010-0242ac1c000c\"]);\n",
              "//# sourceURL=js_b16477276e"
            ]
          },
          "metadata": {}
        },
        {
          "output_type": "display_data",
          "data": {
            "text/plain": [
              "<IPython.core.display.Javascript object>"
            ],
            "application/javascript": [
              "window[\"699d2a78-9eac-11f0-8010-0242ac1c000c\"] = google.colab.output.getActiveOutputArea();\n",
              "//# sourceURL=js_490812bb98"
            ]
          },
          "metadata": {}
        },
        {
          "output_type": "display_data",
          "data": {
            "text/plain": [
              "<IPython.core.display.Javascript object>"
            ],
            "application/javascript": [
              "window[\"699d7ac8-9eac-11f0-8010-0242ac1c000c\"] = document.querySelector(\"#id4-0-0\");\n",
              "//# sourceURL=js_e4f3463172"
            ]
          },
          "metadata": {}
        },
        {
          "output_type": "display_data",
          "data": {
            "text/plain": [
              "<IPython.core.display.Javascript object>"
            ],
            "application/javascript": [
              "window[\"699db3bc-9eac-11f0-8010-0242ac1c000c\"] = google.colab.output.setActiveOutputArea(window[\"699d7ac8-9eac-11f0-8010-0242ac1c000c\"]);\n",
              "//# sourceURL=js_43108408ca"
            ]
          },
          "metadata": {}
        },
        {
          "output_type": "display_data",
          "data": {
            "text/plain": [
              "<IPython.core.display.Javascript object>"
            ],
            "application/javascript": [
              "window[\"69c95616-9eac-11f0-8010-0242ac1c000c\"] = google.colab.output.setActiveOutputArea(window[\"699d2a78-9eac-11f0-8010-0242ac1c000c\"]);\n",
              "//# sourceURL=js_e56668e999"
            ]
          },
          "metadata": {}
        },
        {
          "output_type": "display_data",
          "data": {
            "text/plain": [
              "<IPython.core.display.Javascript object>"
            ],
            "application/javascript": [
              "window[\"788107e4-9eac-11f0-8010-0242ac1c000c\"] = google.colab.output.getActiveOutputArea();\n",
              "//# sourceURL=js_ddf93dd57e"
            ]
          },
          "metadata": {}
        },
        {
          "output_type": "display_data",
          "data": {
            "text/plain": [
              "<IPython.core.display.Javascript object>"
            ],
            "application/javascript": [
              "window[\"78813994-9eac-11f0-8010-0242ac1c000c\"] = document.querySelector(\"#id4-0-0\");\n",
              "//# sourceURL=js_b0ade05aab"
            ]
          },
          "metadata": {}
        },
        {
          "output_type": "display_data",
          "data": {
            "text/plain": [
              "<IPython.core.display.Javascript object>"
            ],
            "application/javascript": [
              "window[\"78816a68-9eac-11f0-8010-0242ac1c000c\"] = google.colab.output.setActiveOutputArea(window[\"78813994-9eac-11f0-8010-0242ac1c000c\"]);\n",
              "//# sourceURL=js_6b20d17b1d"
            ]
          },
          "metadata": {}
        },
        {
          "output_type": "display_data",
          "data": {
            "text/plain": [
              "<IPython.core.display.Javascript object>"
            ],
            "application/javascript": [
              "window[\"78ad24dc-9eac-11f0-8010-0242ac1c000c\"] = google.colab.output.setActiveOutputArea(window[\"788107e4-9eac-11f0-8010-0242ac1c000c\"]);\n",
              "//# sourceURL=js_f961b0b7ee"
            ]
          },
          "metadata": {}
        },
        {
          "output_type": "display_data",
          "data": {
            "text/plain": [
              "<IPython.core.display.Javascript object>"
            ],
            "application/javascript": [
              "window[\"87bc38be-9eac-11f0-8010-0242ac1c000c\"] = google.colab.output.getActiveOutputArea();\n",
              "//# sourceURL=js_64db587da3"
            ]
          },
          "metadata": {}
        },
        {
          "output_type": "display_data",
          "data": {
            "text/plain": [
              "<IPython.core.display.Javascript object>"
            ],
            "application/javascript": [
              "window[\"87bc9d0e-9eac-11f0-8010-0242ac1c000c\"] = document.querySelector(\"#id4-0-0\");\n",
              "//# sourceURL=js_3a841dbc2a"
            ]
          },
          "metadata": {}
        },
        {
          "output_type": "display_data",
          "data": {
            "text/plain": [
              "<IPython.core.display.Javascript object>"
            ],
            "application/javascript": [
              "window[\"87bd0dac-9eac-11f0-8010-0242ac1c000c\"] = google.colab.output.setActiveOutputArea(window[\"87bc9d0e-9eac-11f0-8010-0242ac1c000c\"]);\n",
              "//# sourceURL=js_f63f17eea7"
            ]
          },
          "metadata": {}
        },
        {
          "output_type": "display_data",
          "data": {
            "text/plain": [
              "<IPython.core.display.Javascript object>"
            ],
            "application/javascript": [
              "window[\"881b9638-9eac-11f0-8010-0242ac1c000c\"] = google.colab.output.setActiveOutputArea(window[\"87bc38be-9eac-11f0-8010-0242ac1c000c\"]);\n",
              "//# sourceURL=js_aec7957ee8"
            ]
          },
          "metadata": {}
        },
        {
          "output_type": "display_data",
          "data": {
            "text/plain": [
              "<IPython.core.display.Javascript object>"
            ],
            "application/javascript": [
              "window[\"9845355a-9eac-11f0-8010-0242ac1c000c\"] = google.colab.output.getActiveOutputArea();\n",
              "//# sourceURL=js_6248f09fdc"
            ]
          },
          "metadata": {}
        },
        {
          "output_type": "display_data",
          "data": {
            "text/plain": [
              "<IPython.core.display.Javascript object>"
            ],
            "application/javascript": [
              "window[\"98456aa2-9eac-11f0-8010-0242ac1c000c\"] = document.querySelector(\"#id4-0-0\");\n",
              "//# sourceURL=js_312ee944c5"
            ]
          },
          "metadata": {}
        },
        {
          "output_type": "display_data",
          "data": {
            "text/plain": [
              "<IPython.core.display.Javascript object>"
            ],
            "application/javascript": [
              "window[\"9845b7e6-9eac-11f0-8010-0242ac1c000c\"] = google.colab.output.setActiveOutputArea(window[\"98456aa2-9eac-11f0-8010-0242ac1c000c\"]);\n",
              "//# sourceURL=js_ab1c182b2c"
            ]
          },
          "metadata": {}
        },
        {
          "output_type": "display_data",
          "data": {
            "text/plain": [
              "<IPython.core.display.Javascript object>"
            ],
            "application/javascript": [
              "window[\"98651cd0-9eac-11f0-8010-0242ac1c000c\"] = google.colab.output.setActiveOutputArea(window[\"9845355a-9eac-11f0-8010-0242ac1c000c\"]);\n",
              "//# sourceURL=js_f7d751667f"
            ]
          },
          "metadata": {}
        },
        {
          "output_type": "display_data",
          "data": {
            "text/plain": [
              "<IPython.core.display.Javascript object>"
            ],
            "application/javascript": [
              "window[\"a7983ad4-9eac-11f0-8010-0242ac1c000c\"] = google.colab.output.getActiveOutputArea();\n",
              "//# sourceURL=js_bc0f67e910"
            ]
          },
          "metadata": {}
        },
        {
          "output_type": "display_data",
          "data": {
            "text/plain": [
              "<IPython.core.display.Javascript object>"
            ],
            "application/javascript": [
              "window[\"a79890e2-9eac-11f0-8010-0242ac1c000c\"] = document.querySelector(\"#id4-0-0\");\n",
              "//# sourceURL=js_1367d204f9"
            ]
          },
          "metadata": {}
        },
        {
          "output_type": "display_data",
          "data": {
            "text/plain": [
              "<IPython.core.display.Javascript object>"
            ],
            "application/javascript": [
              "window[\"a798c3c8-9eac-11f0-8010-0242ac1c000c\"] = google.colab.output.setActiveOutputArea(window[\"a79890e2-9eac-11f0-8010-0242ac1c000c\"]);\n",
              "//# sourceURL=js_84e5ffa8af"
            ]
          },
          "metadata": {}
        },
        {
          "output_type": "display_data",
          "data": {
            "text/plain": [
              "<IPython.core.display.Javascript object>"
            ],
            "application/javascript": [
              "window[\"a7b9ac64-9eac-11f0-8010-0242ac1c000c\"] = google.colab.output.setActiveOutputArea(window[\"a7983ad4-9eac-11f0-8010-0242ac1c000c\"]);\n",
              "//# sourceURL=js_d46438076c"
            ]
          },
          "metadata": {}
        },
        {
          "output_type": "display_data",
          "data": {
            "text/plain": [
              "<IPython.core.display.Javascript object>"
            ],
            "application/javascript": [
              "window[\"b6e8120c-9eac-11f0-8010-0242ac1c000c\"] = google.colab.output.getActiveOutputArea();\n",
              "//# sourceURL=js_29f40eacec"
            ]
          },
          "metadata": {}
        },
        {
          "output_type": "display_data",
          "data": {
            "text/plain": [
              "<IPython.core.display.Javascript object>"
            ],
            "application/javascript": [
              "window[\"b6e85a28-9eac-11f0-8010-0242ac1c000c\"] = document.querySelector(\"#id4-0-0\");\n",
              "//# sourceURL=js_ae22962e81"
            ]
          },
          "metadata": {}
        },
        {
          "output_type": "display_data",
          "data": {
            "text/plain": [
              "<IPython.core.display.Javascript object>"
            ],
            "application/javascript": [
              "window[\"b6e8a226-9eac-11f0-8010-0242ac1c000c\"] = google.colab.output.setActiveOutputArea(window[\"b6e85a28-9eac-11f0-8010-0242ac1c000c\"]);\n",
              "//# sourceURL=js_8344956273"
            ]
          },
          "metadata": {}
        },
        {
          "output_type": "display_data",
          "data": {
            "text/plain": [
              "<Figure size 640x480 with 0 Axes>"
            ]
          },
          "metadata": {}
        },
        {
          "output_type": "display_data",
          "data": {
            "text/plain": [
              "<Figure size 640x480 with 1 Axes>"
            ],
            "image/png": "[encoded data removed]"
          },
          "metadata": {}
        },
        {
          "output_type": "display_data",
          "data": {
            "text/plain": [
              "<IPython.core.display.Javascript object>"
            ],
            "application/javascript": [
              "window[\"b7088ffa-9eac-11f0-8010-0242ac1c000c\"] = google.colab.output.setActiveOutputArea(window[\"b6e8120c-9eac-11f0-8010-0242ac1c000c\"]);\n",
              "//# sourceURL=js_8e5a06adb1"
            ]
          },
          "metadata": {}
        }
      ],
      "source": [
        "# We will store the losses here\n",
        "g_losses = []\n",
        "d_losses = []\n",
        "\n",
        "# Training loop\n",
        "n_samples = 100\n",
        "epochs = 10000\n",
        "\n",
        "grid = widgets.Grid(1, 1)\n",
        "\n",
        "for e in range(epochs):\n",
        "  # Get a random set of input noise\n",
        "  noise = np.random.normal(0, 1, size=[n_samples, latent_dim])\n",
        "\n",
        "  # Also get a sample from the 'real' distribution\n",
        "  real = np.random.normal(real_mean, 1, size=[n_samples, latent_dim])\n",
        "\n",
        "  # Generate some fake samples using the generator\n",
        "  fake = generator.predict(noise, verbose=0)\n",
        "\n",
        "  # Concatenate the fake and real images\n",
        "  X = np.concatenate([real, fake])\n",
        "\n",
        "  # Labels for generated and real data\n",
        "  Y_dis = np.zeros(2 * n_samples)\n",
        "\n",
        "  # Set labels for real samples to 1\n",
        "  Y_dis[:n_samples] = 1\n",
        "\n",
        "  # Train discriminator with this batch of samples\n",
        "  discriminator.trainable = True\n",
        "  d_loss = discriminator.fit(X, Y_dis, batch_size=n_samples, epochs=1, verbose=0)\n",
        "\n",
        "  # Train generator with a new batch of generated samples\n",
        "  # Freeze the discriminator part\n",
        "  discriminator.trainable = False\n",
        "  noise = np.random.normal(0, 1, size=[n_samples, latent_dim])\n",
        "  # From the generator's perspective, the discriminator should predict\n",
        "  # ones for all samples\n",
        "  Y_gen = np.ones(n_samples)\n",
        "  g_loss = gan.fit(noise, Y_gen, batch_size=n_samples, epochs=1, verbose=0)\n",
        "\n",
        "\n",
        "  if e % 100 == 0:\n",
        "    noise = np.random.normal(0, 1, size=[n_samples, latent_dim])\n",
        "    fake = generator.predict(noise, verbose=0)\n",
        "    real = np.random.normal(real_mean, 1, size=[n_samples, latent_dim])\n",
        "    pred = discriminator.predict(np.arange(-20, 20, 0.5).reshape((80, 1)), verbose=0)\n",
        "\n",
        "    with grid.output_to(0, 0):\n",
        "      grid.clear_cell()\n",
        "\n",
        "      # Clear previous plots and create a new figure\n",
        "      plt.clf()\n",
        "      fig, ax = plt.subplots()\n",
        "\n",
        "      # Plot histogram for real and fake data\n",
        "      ax.hist(np.squeeze(fake), density=True, alpha=0.5, label='Fake')\n",
        "      ax.hist(np.squeeze(real), density=True, alpha=0.5, label='Real', stacked=True)\n",
        "\n",
        "      # Scatter plot for discriminator predictions\n",
        "      ax.scatter(np.arange(-20, 20, 0.5), pred, c='r', label='Discriminator')\n",
        "\n",
        "      # Set plot limits and labels\n",
        "      ax.set_xlim(-20, 20)\n",
        "      ax.set_ylim(0, 1)\n",
        "      ax.set_title('Iteration {}'.format(e))\n",
        "\n",
        "      # Add legend\n",
        "      ax.legend()\n",
        "\n",
        "      # Display the plot\n",
        "      plt.show()\n"
      ]
    },
    {
      "cell_type": "markdown",
      "metadata": {
        "id": "TbNFeFkSbXoN"
      },
      "source": [
        "If all is well, the fake and real distributions should nicely overlap after training. The discriminator has essentially pushed the fake samples towards the real distribution and the generator is now able to transform the noise distribution into a distribution of 'real' samples!\n",
        "\n",
        "**Question** Can you explain what happened to the red line during training? Why does it look like it does after training?\n",
        "\n",
        "**Question** Try training the GAN with different input noise distributions, e.g. uniform.\n",
        "\n",
        "**Question** See if you can find a distribution for the real samples for which the generator fails to generate samples."
      ]
    },
    {
      "cell_type": "markdown",
      "metadata": {
        "id": "dreog2u1b-iI"
      },
      "source": [
        "Although it is definitely nice that we can train two networks together to learn the distribution of a real data distribution, generating samples from a normal distribution is in itself not really interesting. Luckily, we can use the same principles to generate images."
      ]
    },
    {
      "cell_type": "markdown",
      "metadata": {
        "id": "4hq5i_sySZL1"
      },
      "source": [
        "# MNIST synthesis\n",
        "Like last week, we are again going to use MNIST data. Data preparation is the same as before."
      ]
    },
    {
      "cell_type": "code",
      "execution_count": null,
      "metadata": {
        "id": "CYCMGnXnFnZc"
      },
      "outputs": [],
      "source": [
        "from keras.datasets import mnist\n",
        "from tensorflow.keras.utils import to_categorical\n",
        "\n",
        "# load the MNIST the dataset\n",
        "(x_train, y_train), (x_test, y_test) = mnist.load_data()\n",
        "\n",
        "# scale the image intensities to the 0-1 range\n",
        "x_train = (x_train / 255.0).astype(np.float32)\n",
        "x_test = (x_test / 255.0).astype(np.float32)\n",
        "\n",
        "# convert the data to channel-last\n",
        "train_set_images = np.expand_dims(x_train, axis=-1)\n",
        "test_set_images = np.expand_dims(x_test, axis=-1)\n",
        "\n",
        "# convert the labels to one-hot encoded\n",
        "train_set_labels = to_categorical(y_train, num_classes=10)\n",
        "test_set_labels = to_categorical(y_test, num_classes=10)"
      ]
    },
    {
      "cell_type": "markdown",
      "metadata": {
        "id": "c-5ls6CemTIX"
      },
      "source": [
        "Plot some images."
      ]
    },
    {
      "cell_type": "code",
      "execution_count": null,
      "metadata": {
        "id": "_0M65_8qTmOI"
      },
      "outputs": [],
      "source": [
        "def plotImages(images, dim=(10, 10), figsize=(10, 10), title=''):\n",
        "    plt.figure(figsize=figsize)\n",
        "    for i in range(images.shape[0]):\n",
        "        plt.subplot(dim[0], dim[1], i+1)\n",
        "        plt.imshow(images[i], interpolation='nearest', cmap='gray_r')\n",
        "        plt.axis('off')\n",
        "    plt.tight_layout()\n",
        "    plt.suptitle(title)\n",
        "    plt.show()\n",
        "\n",
        "plotImages(train_set_images[np.random.randint(0, train_set_images.shape[0], size=100)].reshape(100, 28, 28))"
      ]
    },
    {
      "cell_type": "markdown",
      "metadata": {
        "id": "qJnlR4PJSeQB"
      },
      "source": [
        "In last week's exercise you have built a discriminative model that was able to classify an image into one of ten digit categories. In this exercise, we are going to do the inverse. Given a point in a latent space (which in our case will be a multi-dimensional Gaussian distribution), we are going to train the network to generate a realistic digit image for this point. The MNIST data set will be used as a set of real samples.\n"
      ]
    },
    {
      "cell_type": "markdown",
      "metadata": {
        "id": "blRfoIS4Uo8-"
      },
      "source": [
        "## The discriminator\n",
        "As you can see in the image above, we will need a generator and a discriminator network. Let's define these. Consider the network that you used\n",
        "for digit classification in the previous exercise and see if you can spot some differences between that network and the network below.\n",
        "\n",
        "**Question** Is this a convolutional neural network? Why (not)?\n"
      ]
    },
    {
      "cell_type": "code",
      "execution_count": null,
      "metadata": {
        "id": "qg36jdcyUvPF"
      },
      "outputs": [],
      "source": [
        "def get_discriminator_MLP():\n",
        "  discriminator = keras.models.Sequential()\n",
        "  discriminator.add(Dense(1024, input_dim=784, kernel_initializer=keras.initializers.RandomNormal(stddev=0.02)))\n",
        "  discriminator.add(LeakyReLU(0.2))\n",
        "  discriminator.add(Dropout(0.3))\n",
        "  discriminator.add(Dense(512))\n",
        "  discriminator.add(LeakyReLU(0.2))\n",
        "  discriminator.add(Dropout(0.3))\n",
        "  discriminator.add(Dense(256))\n",
        "  discriminator.add(LeakyReLU(0.2))\n",
        "  discriminator.add(Dense(1, activation='sigmoid'))\n",
        "  return discriminator"
      ]
    },
    {
      "cell_type": "markdown",
      "metadata": {
        "id": "0KYxSSbBQ28g"
      },
      "source": [
        "You could argue that digits are a bit more complex than samples from a Gaussian distribution, so let's set the latent space dimensionality for noise sampling a bit higher than 1."
      ]
    },
    {
      "cell_type": "code",
      "execution_count": null,
      "metadata": {
        "id": "MmCVJxAmQ6nE"
      },
      "outputs": [],
      "source": [
        "latent_dim = 10"
      ]
    },
    {
      "cell_type": "markdown",
      "metadata": {
        "id": "5BGSHlx-VmVY"
      },
      "source": [
        "\n",
        "## The generator\n",
        "\n",
        "The generator is different than the discriminator. It should go from a low-dimensional noise vector to an MNIST image."
      ]
    },
    {
      "cell_type": "code",
      "execution_count": null,
      "metadata": {
        "id": "fEjxnxAwVukq"
      },
      "outputs": [],
      "source": [
        "def get_generator_MLP():\n",
        "  generator = keras.models.Sequential()\n",
        "  generator.add(Dense(256, input_dim=latent_dim, kernel_initializer=keras.initializers.RandomNormal(stddev=0.02)))\n",
        "  generator.add(LeakyReLU(0.2))\n",
        "  generator.add(Dense(512))\n",
        "  generator.add(LeakyReLU(0.2))\n",
        "  generator.add(Dense(1024))\n",
        "  generator.add(LeakyReLU(0.2))\n",
        "  generator.add(Dense(784, activation='tanh'))\n",
        "  return generator"
      ]
    },
    {
      "cell_type": "markdown",
      "metadata": {
        "id": "nAUU4F7OQxO0"
      },
      "source": [
        "**Question** Consider the activation functions of the output layers of the generator and discriminator networks. How are they different?\n",
        "\n",
        "**Question** Also look at the activation functions of the other layers, can you find out what they do? Look at the Keras documentation."
      ]
    },
    {
      "cell_type": "markdown",
      "metadata": {
        "id": "NH_4zv4gnYhg"
      },
      "source": [
        "## The model\n",
        "Now  let's combine the generator and the discriminator. We train both using a binary crossentropy objective. This is very similar to what we did before."
      ]
    },
    {
      "cell_type": "code",
      "execution_count": null,
      "metadata": {
        "id": "2dR_iHzXXHjb"
      },
      "outputs": [],
      "source": [
        "discriminator = get_discriminator_MLP()\n",
        "generator = get_generator_MLP()\n",
        "\n",
        "discriminator.compile(loss='binary_crossentropy', optimizer=keras.optimizers.Adam(learning_rate=0.0002, beta_1=0.5))\n",
        "generator.compile(loss='binary_crossentropy', optimizer=keras.optimizers.Adam(learning_rate=0.0002, beta_1=0.5))\n",
        "\n",
        "discriminator.trainable = False\n",
        "z = keras.layers.Input(shape=(latent_dim,))\n",
        "G_z = generator(z)\n",
        "D_G_z = discriminator(G_z)\n",
        "gan = keras.models.Model(inputs=z, outputs=D_G_z)\n",
        "gan.compile(loss='binary_crossentropy', optimizer=keras.optimizers.Adam(learning_rate=0.0002, beta_1=0.5))"
      ]
    },
    {
      "cell_type": "markdown",
      "metadata": {
        "id": "fRMLacRF_RXo"
      },
      "source": [
        "Some helper functions."
      ]
    },
    {
      "cell_type": "code",
      "execution_count": null,
      "metadata": {
        "id": "MPXzOrqYZqmN"
      },
      "outputs": [],
      "source": [
        "def saveModels(epoch):\n",
        "    generator.save('gan_generator_epoch_{}.h5'.format(epoch))\n",
        "    discriminator.save('gan_discriminator_epoch_{}.h5'.format(epoch))\n",
        "\n",
        "def plotGeneratedImages(epoch, examples=100, dim=(10, 10), figsize=(10, 10)):\n",
        "    noise = np.random.normal(0, 1, size=[examples, latent_dim])\n",
        "    generatedImages = generator.predict(noise)\n",
        "    generatedImages = generatedImages.reshape(examples, 28, 28)\n",
        "\n",
        "    plt.figure(figsize=figsize)\n",
        "    for i in range(generatedImages.shape[0]):\n",
        "        plt.subplot(dim[0], dim[1], i+1)\n",
        "        plt.imshow(generatedImages[i], interpolation='nearest', cmap='gray_r')\n",
        "        plt.axis('off')\n",
        "    plt.tight_layout()\n",
        "    plt.suptitle('Epoch {}'.format(epoch))\n",
        "    plt.show()"
      ]
    },
    {
      "cell_type": "markdown",
      "metadata": {
        "id": "aSJGSyUOmxCN"
      },
      "source": [
        "Run the code below to train the GAN model. Synthesized images should be shown periodically."
      ]
    },
    {
      "cell_type": "code",
      "execution_count": null,
      "metadata": {
        "id": "eYInR4WkXj_g"
      },
      "outputs": [],
      "source": [
        "epochs = 2  # 200\n",
        "batch_size = 128\n",
        "\n",
        "X_train = (train_set_images.reshape(60000, 784).astype(np.float32) - 0.5) / 0.5\n",
        "\n",
        "# Labels for real and fake images\n",
        "real_labels = np.ones((batch_size, 1)) * 0.9  # One-sided label smoothing\n",
        "fake_labels = np.zeros((batch_size, 1))\n",
        "\n",
        "for e in range(epochs):\n",
        "    # Train discriminator and generator on each batch\n",
        "    print(e)\n",
        "    for _ in range(int(X_train.shape[0] / batch_size)):\n",
        "\n",
        "        # Get a random set of input noise and images\n",
        "        noise = np.random.normal(0, 1, size=[batch_size, latent_dim])\n",
        "        image_batch = X_train[np.random.randint(0, X_train.shape[0], size=batch_size)]\n",
        "\n",
        "        # Generate some fake MNIST images using the generator\n",
        "        generated_images = generator.predict(noise, verbose=0)\n",
        "\n",
        "        # Concatenate the fake and real images\n",
        "        X = np.concatenate([image_batch, generated_images])\n",
        "\n",
        "        # Labels for concatenated real and fake images\n",
        "        y_dis = np.concatenate([real_labels, fake_labels])\n",
        "\n",
        "        # Train the discriminator\n",
        "        discriminator.trainable = True\n",
        "        d_loss = discriminator.fit(X, y_dis, batch_size=batch_size, verbose=0)\n",
        "\n",
        "        # Train generator with a new batch of generated samples\n",
        "        noise = np.random.normal(0, 1, size=[batch_size, latent_dim])\n",
        "\n",
        "        # From the generator's perspective, the discriminator should predict ones for all samples\n",
        "        y_gen = np.ones((batch_size, 1))\n",
        "\n",
        "        # Freeze the discriminator\n",
        "        discriminator.trainable = False\n",
        "\n",
        "        # Train the GAN to predict ones\n",
        "        g_loss = gan.fit(noise, y_gen, batch_size=batch_size, verbose=0)\n",
        "\n",
        "    if e % 5 == 0:\n",
        "        noise = np.random.normal(0, 1, size=[100, latent_dim])\n",
        "        plotGeneratedImages(e)\n",
        "        # display.display(plt.gcf()) # NOTE These are not necessary in colab, but might be necessary in another IDE\n",
        "        # display.clear_output(wait=True)\n",
        "        time.sleep(0.001)\n",
        "        saveModels(e)\n"
      ]
    },
    {
      "cell_type": "markdown",
      "metadata": {
        "id": "p7MFDUeHSgQ-"
      },
      "source": [
        "## A convolutional model\n",
        "Thus far the discriminator and generator were both multilayer perceptrons. Now we're going to add in some convolutional layers to turn them into a deep convolutional GAN (<a href=\"http://arxiv.org/abs/1511.06434\">DCGAN</a>)-like architecture. This means that we have to redefine the generator network and a discriminator network.\n",
        "\n",
        "The discriminator network is (almost) the same network that we used in last week's exercise."
      ]
    },
    {
      "cell_type": "code",
      "execution_count": null,
      "metadata": {
        "id": "bccrTGP0SiVJ"
      },
      "outputs": [],
      "source": [
        "from keras.layers import Conv2D, UpSampling2D\n",
        "\n",
        "def get_discriminator_CNN():\n",
        "  discriminator = keras.models.Sequential()\n",
        "  discriminator.add(Conv2D(64, kernel_size=(5, 5), strides=(2, 2), padding='same', input_shape=(1, 28, 28), kernel_initializer=keras.initializers.RandomNormal(stddev=0.02)))\n",
        "  discriminator.add(LeakyReLU(0.2))\n",
        "  discriminator.add(Dropout(0.3))\n",
        "  discriminator.add(Conv2D(128, kernel_size=(5, 5), strides=(2, 2), padding='same'))\n",
        "  discriminator.add(LeakyReLU(0.2))\n",
        "  discriminator.add(Dropout(0.3))\n",
        "  discriminator.add(Flatten())\n",
        "  discriminator.add(Dense(1, activation='sigmoid'))\n",
        "  return discriminator\n",
        "\n",
        "def get_generator_CNN():\n",
        "  generator = keras.models.Sequential()\n",
        "  generator.add(Dense(128*7*7, input_dim=latent_dim, kernel_initializer=keras.initializers.RandomNormal(stddev=0.02)))\n",
        "  generator.add(LeakyReLU(0.2))\n",
        "  generator.add(Reshape((128, 7, 7)))\n",
        "  generator.add(UpSampling2D(size=(2, 2)))\n",
        "  generator.add(Conv2D(64, kernel_size=(5, 5), padding='same'))\n",
        "  generator.add(LeakyReLU(0.2))\n",
        "  generator.add(UpSampling2D(size=(2, 2)))\n",
        "  generator.add(Conv2D(1, kernel_size=(5, 5), padding='same', activation='tanh'))\n",
        "  return generator"
      ]
    },
    {
      "cell_type": "markdown",
      "metadata": {
        "id": "JSKkoosKAwrh"
      },
      "source": [
        "Let's build our model like before."
      ]
    },
    {
      "cell_type": "code",
      "execution_count": null,
      "metadata": {
        "id": "mu8rmKcoGAPb"
      },
      "outputs": [],
      "source": [
        "discriminator = get_discriminator_CNN()\n",
        "generator = get_generator_CNN()\n",
        "\n",
        "discriminator.compile(loss='binary_crossentropy', optimizer=keras.optimizers.Adam(learning_rate=0.0002, beta_1=0.5))\n",
        "generator.compile(loss='binary_crossentropy', optimizer=keras.optimizers.Adam(learning_rate=0.0002, beta_1=0.5))\n",
        "\n",
        "discriminator.trainable = False\n",
        "z = keras.layers.Input(shape=(latent_dim,))\n",
        "x = generator(z)\n",
        "D_G_z = discriminator(x)\n",
        "gan = keras.models.Model(inputs=z, outputs=D_G_z)\n",
        "gan.compile(loss='binary_crossentropy', optimizer=keras.optimizers.Adam(learning_rate=0.0002, beta_1=0.5))"
      ]
    },
    {
      "cell_type": "markdown",
      "metadata": {
        "id": "Ojox3HxJnVDF"
      },
      "source": [
        "Train the model using the code below. Inspect the samples that come out.\n",
        "\n",
        "**Question** What are some differences between these samples and the ones generated by the multilayer perceptron GAN? Can you explain these differences?"
      ]
    },
    {
      "cell_type": "code",
      "execution_count": null,
      "metadata": {
        "id": "k79EFqsgWz0l"
      },
      "outputs": [],
      "source": [
        "d_losses = []\n",
        "g_losses = []\n",
        "\n",
        "epochs = 2  # 200\n",
        "batch_size = 128\n",
        "\n",
        "X_train = (train_set_images.reshape(60000, 1, 28, 28).astype(np.float32) - 0.5) / 0.5\n",
        "\n",
        "# Labels for real and fake images\n",
        "real_labels = np.ones((batch_size, 1))  # Set reference to 1 for real samples\n",
        "fake_labels = np.zeros((batch_size, 1))\n",
        "\n",
        "for e in range(epochs):\n",
        "    # Train discriminator and generator on each batch\n",
        "    for _ in range(int(X_train.shape[0] / batch_size)):\n",
        "\n",
        "        # Get a random set of input noise and images\n",
        "        noise = np.random.normal(0, 1, size=[batch_size, latent_dim])\n",
        "        image_batch = X_train[np.random.randint(0, X_train.shape[0], size=batch_size)]\n",
        "\n",
        "        # Generate some fake MNIST images using the generator\n",
        "        generated_images = generator.predict(noise, verbose=0)\n",
        "\n",
        "        # Concatenate the fake and real images\n",
        "        X = np.concatenate([image_batch, generated_images])\n",
        "\n",
        "        # Labels for concatenated real and fake images\n",
        "        y_dis = np.concatenate([real_labels, fake_labels])\n",
        "\n",
        "        # Train the discriminator\n",
        "        discriminator.trainable = True\n",
        "        d_loss = discriminator.fit(X, y_dis, batch_size=batch_size, verbose=0)\n",
        "\n",
        "        # Train generator with a new batch of generated samples\n",
        "        noise = np.random.normal(0, 1, size=[batch_size, latent_dim])\n",
        "\n",
        "        # From the generator's perspective, the discriminator should predict ones for all samples\n",
        "        y_gen = np.ones((batch_size, 1))\n",
        "\n",
        "        # Freeze the discriminator\n",
        "        discriminator.trainable = False\n",
        "\n",
        "        # Train the GAN to predict ones\n",
        "        g_loss = gan.fit(noise, y_gen, batch_size=batch_size, verbose=0)\n",
        "\n",
        "    # Store the loss of the most recent batch from this epoch\n",
        "    d_losses.append(d_loss.history['loss'][-1])\n",
        "    g_losses.append(g_loss.history['loss'][-1])\n",
        "\n",
        "    if e % 5 == 0:\n",
        "        noise = np.random.normal(0, 1, size=[100, latent_dim])\n",
        "        generatedImages = generator.predict(noise, verbose=0)\n",
        "        generatedImages = generatedImages.reshape(100, 28, 28)\n",
        "        plotImages(generatedImages, title='Epoch {}'.format(e))\n",
        "        # display.display(plt.gcf())\n",
        "        # display.clear_output(wait=True)\n",
        "        time.sleep(0.001)\n",
        "        saveModels(e)\n"
      ]
    },
    {
      "cell_type": "markdown",
      "metadata": {
        "id": "jmtZkf5AnW6y"
      },
      "source": [
        "## Interpolation in the latent space\n",
        "We're going to explore the latent space a bit more. We pick two points in the latent space and make a linear interpolation between these two. Then we generate images from each of the interpolated latent points."
      ]
    },
    {
      "cell_type": "code",
      "execution_count": null,
      "metadata": {
        "id": "_NlTG4FBkNpC"
      },
      "outputs": [],
      "source": [
        "noise_a = np.random.normal(0, 1, size=[1, latent_dim])\n",
        "noise_b = np.random.normal(0, 1, size=[1, latent_dim])\n",
        "\n",
        "noise = np.zeros((10, latent_dim), dtype='float32')\n",
        "for ni in range(10):\n",
        "  noise[ni, :] = float(ni)/10. * noise_a + (1 - float(ni)/10.) * noise_b\n",
        "generatedImages = generator.predict(noise)\n",
        "generatedImages = generatedImages.reshape(10, 28, 28)\n",
        "plotImages(generatedImages, dim=(1, 10), figsize=(10, 10))"
      ]
    },
    {
      "cell_type": "markdown",
      "metadata": {
        "id": "JxkznblanlBO"
      },
      "source": [
        "**Question** Explain what you see in this plot.\n",
        "\n",
        "**Question** What happens when you extrapolate out of the latent space distribution? Consider how the noise vectors are drawn.\n"
      ]
    },
    {
      "cell_type": "markdown",
      "metadata": {
        "id": "dEjdfhRZsUGR"
      },
      "source": [
        "# Histopathology image synthesis"
      ]
    },
    {
      "cell_type": "markdown",
      "metadata": {
        "id": "MhUnPg2sYitQ"
      },
      "source": [
        "Now we're going to synthesize some actual images. We're going to use the PatchCamelyon data set ([more info here](https://github.com/basveeling/pcam)) which consists of small images that can be used for classification benchmarks. Today, we're not going to classify images, but we're going to synthesize them. You can download a data set of smaller (28 x 28 pixels) versions of these images from\n",
        "[this link](https://drive.google.com/file/d/11tkBWleY6PqFAGQHW0zYOwhvuz0kq-ai/view?usp=sharing). Upload the data set in the dialog below."
      ]
    },
    {
      "cell_type": "code",
      "execution_count": null,
      "metadata": {
        "id": "fMGM8sLhsbWh"
      },
      "outputs": [],
      "source": [
        "uploaded = files.upload()"
      ]
    },
    {
      "cell_type": "markdown",
      "metadata": {
        "id": "lE8OlCi-ZKFf"
      },
      "source": [
        "Now load the data set."
      ]
    },
    {
      "cell_type": "code",
      "execution_count": null,
      "metadata": {
        "id": "NfJIE29rFYUA"
      },
      "outputs": [],
      "source": [
        "def loadPatchCamelyon(path):\n",
        "    f = gzip.open(path, 'rb')\n",
        "    train_set = pickle.load(f, encoding='latin1')\n",
        "    f.close()\n",
        "    return train_set"
      ]
    },
    {
      "cell_type": "code",
      "execution_count": null,
      "metadata": {
        "id": "WP1Eho1U1oMX"
      },
      "outputs": [],
      "source": [
        "train_set_images = loadPatchCamelyon(r'valid_28.pkl.gz')\n",
        "\n",
        "def plotImagesPatchCamelyon(images, dim=(10, 10), figsize=(10, 10), title=''):\n",
        "    plt.figure(figsize=figsize)\n",
        "    for i in range(images.shape[0]):\n",
        "        plt.subplot(dim[0], dim[1], i+1)\n",
        "        plt.imshow(images[i], interpolation='nearest')\n",
        "        plt.axis('off')\n",
        "    plt.tight_layout()\n",
        "    plt.suptitle(title)\n",
        "    plt.show()\n",
        "\n",
        "\n",
        "plotImagesPatchCamelyon(train_set_images[np.random.randint(0, train_set_images.shape[0], size=100)].reshape(100, 28, 28, 3)/255.0)"
      ]
    },
    {
      "cell_type": "markdown",
      "metadata": {
        "id": "iQzcCZ_hZNbH"
      },
      "source": [
        "What do you immediately notice? Indeed, these images are in color! So the generator will have to generate three output channels instead of just one.\n",
        "\n",
        "In this second-to-last part of the practical you're going to repurpose the code that you have used so far to synthesize histopathology images like the ones above. You can play around a bit with this, see what happens when you interpolate between samples, etc. Remember that there is a final 'exercise' below.\n",
        "\n",
        "**Good luck!**"
      ]
    },
    {
      "cell_type": "code",
      "execution_count": null,
      "metadata": {
        "id": "UCm1R35fSVlw"
      },
      "outputs": [],
      "source": [
        "## YOUR CODE GOES HERE"
      ]
    }
  ],
  "metadata": {
    "accelerator": "GPU",
    "colab": {
      "collapsed_sections": [
        "jmtZkf5AnW6y"
      ],
      "provenance": [],
      "include_colab_link": true
    },
    "kernelspec": {
      "display_name": "Python 3",
      "name": "python3"
    }
  },
  "nbformat": 4,
  "nbformat_minor": 0
}